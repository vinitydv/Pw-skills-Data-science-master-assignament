{
 "cells": [
  {
   "cell_type": "code",
   "execution_count": 1,
   "id": "4687b184-231b-4d0a-8745-8216b365ffbf",
   "metadata": {},
   "outputs": [],
   "source": [
    "import scipy.stats as stats\n",
    "import numpy as np\n",
    "import pandas as pd\n",
    "import statsmodels.api as sm\n",
    "from statsmodels.formula.api import ols\n",
    "from scipy.stats import f_oneway\n",
    "from statsmodels.stats.multicomp import pairwise_tukeyhsd\n",
    "from scipy.stats import ttest_ind, f_oneway"
   ]
  },
  {
   "cell_type": "markdown",
   "id": "39df6052-fe22-4cc5-b410-f0a03bec8099",
   "metadata": {},
   "source": [
    "## Q1. Explain the assumptions required to use ANOVA and provide examples of violations that could impact the validity of the results.\n",
    "Ans :\n",
    "\n",
    "1. Normality of sampling distribution of means. The distribution of sample mean is normally distributed.\n",
    "2. Absence of outliers. outliers score need to be removed from dataset.\n",
    "3. Homogeneity: each and every one of the populations that (sample/column) used in level has same variance\n",
    "4. Sample must be independent and ranmdom\n",
    "e.g.\n",
    "\n",
    "Factor = Medicines\n",
    "\n",
    "Level = 5mg 10mg 15mg 20mg (dosage)"
   ]
  },
  {
   "cell_type": "markdown",
   "id": "8f553f7a-085e-4f24-9625-5928ee5201a7",
   "metadata": {},
   "source": [
    "## Q2. What are the three types of ANOVA, and in what situations would each be used?\n",
    "Ans :\n",
    "\n",
    "One Way ANOVA : One factor with at least z level, these levels are independent\n",
    "\n",
    "Repeated Measures ANOVA : One factor with at least 2 levels, levels are dependent\n",
    "\n",
    "Factorial ANOVA : Two or more factors, each of which at least 2 level, levels can be either independent and dependent"
   ]
  },
  {
   "cell_type": "markdown",
   "id": "5d0c3910-f5ab-451f-a699-bd6a396d8ed5",
   "metadata": {},
   "source": [
    "## Q3. What is the partitioning of variance in ANOVA, and why is it important to understand this concept?\n",
    "Ans :\n",
    "\n",
    "The partitioning of variance in ANOVA refers to the process of breaking down the total variance in a dataset into different components based on the sources of variation. There are three types of variation, Between-group variance, Within-group variance, Total variance\n",
    "\n",
    "it helps us to determine the relative importance of the different sources of variation in the dataset."
   ]
  },
  {
   "cell_type": "markdown",
   "id": "a9ef5f07-bbe6-4c3e-bad5-03a8e17c3d18",
   "metadata": {},
   "source": [
    "## Q4. How would you calculate the total sum of squares (SST), explained sum of squares (SSE), and residual sum of squares (SSR) in a one-way ANOVA using Python?"
   ]
  },
  {
   "cell_type": "code",
   "execution_count": 2,
   "id": "70591a02-9c97-4e90-b8ae-83cae562d12b",
   "metadata": {},
   "outputs": [
    {
     "name": "stdout",
     "output_type": "stream",
     "text": [
      "Total sum of squares (SST) = 90.0\n",
      "Explained sum of squares (SSE) = 1150.0\n",
      "Residual sum of squares (SSR) = -1060.0\n",
      "F-value = 4.666666666666667\n",
      "p-value = 0.031676352024078334\n"
     ]
    }
   ],
   "source": [
    "data_mean = np.array([3,4,56,3])\n",
    "import scipy.stats as stats\n",
    "\n",
    "# Create sample data\n",
    "group1 = np.array([4, 5, 6, 7, 8])\n",
    "group2 = np.array([2, 3, 4, 5, 6])\n",
    "group3 = np.array([1, 2, 3, 4, 5])\n",
    "\n",
    "\n",
    "# Combine data into one array\n",
    "data =group1 + group2 + group3\n",
    "\n",
    "data = np.array(data)\n",
    "\n",
    "# ANOVA\n",
    "f_value, p_value = stats.f_oneway(group1, group2, group3)\n",
    "\n",
    "# total sum of squares (SST)\n",
    "SST = ((data - data.mean())**2).sum()\n",
    "\n",
    "# explained sum of squares (SSE)\n",
    "SSE = ((group1.mean() - data.mean())**2) * len(group1)\n",
    "SSE += ((group2.mean() - data.mean())**2) * len(group2)\n",
    "SSE += ((group3.mean() - data.mean())**2) * len(group3)\n",
    "\n",
    "# Compute the residual sum of squares (SSR)\n",
    "SSR = SST - SSE\n",
    "\n",
    "print('Total sum of squares (SST) =', SST)\n",
    "print('Explained sum of squares (SSE) =', SSE)\n",
    "print('Residual sum of squares (SSR) =', SSR)\n",
    "print('F-value =', f_value)\n",
    "print('p-value =', p_value)"
   ]
  },
  {
   "cell_type": "markdown",
   "id": "621a65c8-0578-43b4-b4cc-6ccd8b7ed238",
   "metadata": {},
   "source": [
    "## Q5. In a two-way ANOVA, how would you calculate the main effects and interaction effects using Python?"
   ]
  },
  {
   "cell_type": "code",
   "execution_count": 3,
   "id": "01b01b07-9554-43ac-ba8a-93f7d142940e",
   "metadata": {},
   "outputs": [
    {
     "name": "stdout",
     "output_type": "stream",
     "text": [
      "Main effects: C(data1)[T.B]    5.0\n",
      "C(data2)[T.Y]    2.0\n",
      "dtype: float64\n",
      "Interaction effect: 1.0\n"
     ]
    }
   ],
   "source": [
    "# dataset with two categorical variables and one continuous variable\n",
    "df = pd.DataFrame({'data1': ['A', 'A', 'B', 'B'], \n",
    "                   'data2': ['X', 'Y', 'X', 'Y'],\n",
    "                   'value': [10.0, 12.0, 15.0, 18.0]})\n",
    "\n",
    "# fit a two-way ANOVA model with interaction effect\n",
    "model = ols('value ~ C(data1) + C(data2) + C(data1):C(data2)', data=df).fit()\n",
    "\n",
    "# extract the main effects and interaction effect\n",
    "effects = model.params[1:3]\n",
    "int_effect = model.params[3]\n",
    "\n",
    "print(\"Main effects:\", effects)\n",
    "print(\"Interaction effect:\", int_effect.round())\n"
   ]
  },
  {
   "cell_type": "markdown",
   "id": "bb8bf098-e107-418c-8173-8529c61cb6a8",
   "metadata": {},
   "source": [
    "## Q6. Suppose you conducted a one-way ANOVA and obtained an F-statistic of 5.23 and a p-value of 0.02. What can you conclude about the differences between the groups, and how would you interpret these results?\n",
    "Ans :\n",
    "\n",
    "The obtained F-statistic is 5.23 and the p-value is 0.02. The p-value is below the conventional threshold of 0.05 and significant at the 5% level.\n",
    "\n",
    "This Investigation is warranted to understand the nature of the differences between the groups.\n",
    "\n",
    "## Q7. In a repeated measures ANOVA, how would you handle missing data, and what are the potential consequences of using different methods to handle missing data?\n",
    "Ans :\n",
    "\n",
    "step 1. Complete-case analysis\n",
    "step 2. Pairwise deletion\n",
    "step 3. Imputation\n",
    "\n",
    "## Q8. What are some common post-hoc tests used after ANOVA, and when would you use each one? Provide an example of a situation where a post-hoc test might be necessary.\n",
    "Ans :\n",
    "\n",
    "Tukey's Honestly Significant Difference (HSD) test\n",
    "\n",
    "Bonferroni correction\n",
    "\n",
    "Scheffé's test\n",
    "\n",
    "Dunnett's test\n",
    "\n",
    "e.g. In a study investigating the effect of different types of exercise on weight loss,"
   ]
  },
  {
   "cell_type": "markdown",
   "id": "5f90998e-3d46-48c5-8b81-4abdebfa6c33",
   "metadata": {},
   "source": [
    "## Q9. A researcher wants to compare the mean weight loss of three diets: A, B, and C. They collect data from 50 participants who were randomly assigned to one of the diets. Conduct a one-way ANOVA using Python to determine if there are any significant differences between the mean weight loss of the three diets. Report the F-statistic and p-value, and interpret the results."
   ]
  },
  {
   "cell_type": "code",
   "execution_count": 5,
   "id": "11b8a92c-76e9-4075-a370-3100f4821d5b",
   "metadata": {},
   "outputs": [
    {
     "name": "stdout",
     "output_type": "stream",
     "text": [
      "F-statistic: 0.8223246115557947\n",
      "p-value: 0.441419982089683\n"
     ]
    }
   ],
   "source": [
    "np.random.seed(42)\n",
    "# some data for each group\n",
    "\n",
    "group_A = np.random.randint(3,10,50)\n",
    "group_B = np.random.randint(3,10,50)\n",
    "group_C = np.random.randint(3,10,50)\n",
    "\n",
    "# print(group_A)\n",
    "# print(group_B)\n",
    "# print(group_C)\n",
    "\n",
    "# Conduct one-way ANOVA\n",
    "f_stat, p_val = f_oneway(group_A, group_B, group_C)\n",
    "\n",
    "# Print results\n",
    "print('F-statistic:', f_stat)\n",
    "print('p-value:', p_val)"
   ]
  },
  {
   "cell_type": "markdown",
   "id": "8ecb344b-7397-4fae-8604-e6b36ea67448",
   "metadata": {},
   "source": [
    "## Q10. A company wants to know if there are any significant differences in the average time it takes to complete a task using three different software programs: Program A, Program B, and Program C. They randomly assign 30 employees to one of the programs and record the time it takes each employee to complete the task. Conduct a two-way ANOVA using Python to determine if there are any main effects or interaction effects between the software programs and employee experience level (novice vs. experienced). Report the F-statistics and p-values, and interpret the results."
   ]
  },
  {
   "cell_type": "code",
   "execution_count": 6,
   "id": "b4e32cd3-1083-45c2-95d2-fc4cdc3c44da",
   "metadata": {},
   "outputs": [
    {
     "name": "stdout",
     "output_type": "stream",
     "text": [
      "                                     sum_sq    df         F    PR(>F)\n",
      "C(Software_name)                  46.866667   2.0  0.709760  0.494687\n",
      "C(Experience)                      2.500000   1.0  0.075721  0.783858\n",
      "C(Software_name):C(Experience)    25.800000   2.0  0.390721  0.677792\n",
      "Residual                        2773.333333  84.0       NaN       NaN\n"
     ]
    }
   ],
   "source": [
    "np.random.seed(10)\n",
    "\n",
    "# Create a sample dataset\n",
    "df = pd.DataFrame({'Software_name': ['A', 'B', 'C'] * 30,\n",
    "                     'Experience': ['Novice'] * 45 + ['Experienced'] * 45,\n",
    "                     'Time': np.random.randint(10,30,90)})\n",
    "\n",
    "# Fit a two-way ANOVA model\n",
    "model = ols('Time ~ C(Software_name) + C(Experience) + C(Software_name):C(Experience)', data=df).fit()\n",
    "anova_table = sm.stats.anova_lm(model, typ=2)\n",
    "\n",
    "# Print the ANOVA table\n",
    "print(anova_table)\n",
    "\n",
    "# data['Time'].count()"
   ]
  },
  {
   "cell_type": "markdown",
   "id": "83ec135b-e02f-48a0-bdfb-ad88960415e6",
   "metadata": {},
   "source": [
    "## Q11. An educational researcher is interested in whether a new teaching method improves student test scores. They randomly assign 100 students to either the control group (traditional teaching method) or the experimental group (new teaching method) and administer a test at the end of the semester. Conduct a two-sample t-test using Python to determine if there are any significant differences in test scores between the two groups. If the results are significant, follow up with a post-hoc test to determine which group(s) differ significantly from each other."
   ]
  },
  {
   "cell_type": "code",
   "execution_count": 7,
   "id": "a0a85e58-3967-44db-b706-bb7780b4a30d",
   "metadata": {},
   "outputs": [
    {
     "name": "stdout",
     "output_type": "stream",
     "text": [
      "t-statistic: 0.5955759316302612\n",
      "p-value: 0.5521387024616692\n",
      " Multiple Comparison of Means - Tukey HSD, FWER=0.05 \n",
      "=====================================================\n",
      "group1 group2 meandiff p-adj   lower    upper  reject\n",
      "-----------------------------------------------------\n",
      "    70     71     -5.0    1.0 -26.0297 16.0297  False\n",
      "    70     72      6.0 0.9791  -7.1992 19.1992  False\n",
      "    70     73      7.0 0.8131  -4.8624 18.8624  False\n",
      "    70     74      3.6 0.9996  -7.3824 14.5824  False\n",
      "    70     75   0.6667    1.0  -9.6876  11.021  False\n",
      "    70     76   1.5714    1.0  -8.3098 11.4527  False\n",
      "    70     77     -0.5    1.0 -10.8543  9.8543  False\n",
      "    70     78      0.5    1.0 -11.3624 12.3624  False\n",
      "    70     79   2.1667    1.0  -8.1876  12.521  False\n",
      "    70     80   2.7778 0.9999   -6.435 11.9906  False\n",
      "    70     81     -0.5    1.0 -12.3624 11.3624  False\n",
      "    70     82      4.0 0.9984  -6.9824 14.9824  False\n",
      "    70     83  -2.3333    1.0 -15.5325 10.8659  False\n",
      "    70     84      9.5 0.7661  -6.0315 25.0315  False\n",
      "    70     85   5.3333 0.9942  -7.8659 18.5325  False\n",
      "    70     86   3.7143 0.9976   -6.167 13.5955  False\n",
      "    70     87  -2.1667    1.0  -12.521  8.1876  False\n",
      "    70     88     2.75    1.0  -9.1124 14.6124  False\n",
      "    70     89     -1.4    1.0 -12.3824  9.5824  False\n",
      "    71     72     11.0 0.9676 -12.1529 34.1529  False\n",
      "    71     73     12.0 0.9077 -10.4177 34.4177  False\n",
      "    71     74      8.6  0.996 -13.3648 30.5648  False\n",
      "    71     75   5.6667    1.0 -15.9909 27.3243  False\n",
      "    71     76   6.5714 0.9998  -14.864 28.0069  False\n",
      "    71     77      4.5    1.0 -17.1576 26.1576  False\n",
      "    71     78      5.5    1.0 -16.9177 27.9177  False\n",
      "    71     79   7.1667 0.9995 -14.4909 28.8243  False\n",
      "    71     80   7.7778 0.9981 -13.3579 28.9134  False\n",
      "    71     81      4.5    1.0 -17.9177 26.9177  False\n",
      "    71     82      9.0 0.9932 -12.9648 30.9648  False\n",
      "    71     83   2.6667    1.0 -20.4863 25.8196  False\n",
      "    71     84     14.5 0.8124 -10.0574 39.0574  False\n",
      "    71     85  10.3333 0.9827 -12.8196 33.4863  False\n",
      "    71     86   8.7143 0.9938 -12.7212 30.1498  False\n",
      "    71     87   2.8333    1.0 -18.8243 24.4909  False\n",
      "    71     88     7.75 0.9992 -14.6677 30.1677  False\n",
      "    71     89      3.6    1.0 -18.3648 25.5648  False\n",
      "    72     73      1.0    1.0 -14.3142 16.3142  False\n",
      "    72     74     -2.4    1.0 -17.0432 12.2432  False\n",
      "    72     75  -5.3333 0.9975 -19.5116  8.8449  False\n",
      "    72     76  -4.4286 0.9997 -18.2651   9.408  False\n",
      "    72     77     -6.5 0.9772 -20.6782  7.6782  False\n",
      "    72     78     -5.5 0.9986 -20.8142  9.8142  False\n",
      "    72     79  -3.8333    1.0 -18.0116 10.3449  False\n",
      "    72     80  -3.2222    1.0 -16.5896 10.1451  False\n",
      "    72     81     -6.5 0.9899 -21.8142  8.8142  False\n",
      "    72     82     -2.0    1.0 -16.6432 12.6432  False\n",
      "    72     83  -8.3333 0.9392 -24.7049  8.0383  False\n",
      "    72     84      3.5    1.0  -14.804  21.804  False\n",
      "    72     85  -0.6667    1.0 -17.0383 15.7049  False\n",
      "    72     86  -2.2857    1.0 -16.1222 11.5508  False\n",
      "    72     87  -8.1667 0.8411 -22.3449  6.0116  False\n",
      "    72     88    -3.25    1.0 -18.5642 12.0642  False\n",
      "    72     89     -7.4 0.9429 -22.0432  7.2432  False\n",
      "    73     74     -3.4    1.0 -16.8506 10.0506  False\n",
      "    73     75  -6.3333 0.9572 -19.2762  6.6096  False\n",
      "    73     76  -5.4286 0.9877 -17.9962  7.1391  False\n",
      "    73     77     -7.5 0.8344 -20.4429  5.4429  False\n",
      "    73     78     -6.5 0.9772 -20.6782  7.6782  False\n",
      "    73     79  -4.8333 0.9978 -17.7762  8.1096  False\n",
      "    73     80  -4.2222  0.999 -16.2714   7.827  False\n",
      "    73     81     -7.5 0.9161 -21.6782  6.6782  False\n",
      "    73     82     -3.0    1.0 -16.4506 10.4506  False\n",
      "    73     83  -9.3333 0.7711 -24.6476  5.9809  False\n",
      "    73     84      2.5    1.0 -14.8647 19.8647  False\n",
      "    73     85  -1.6667    1.0 -16.9809 13.6476  False\n",
      "    73     86  -3.2857    1.0 -15.8534  9.2819  False\n",
      "    73     87  -9.1667 0.5174 -22.1096  3.7762  False\n",
      "    73     88    -4.25 0.9999 -18.4282  9.9282  False\n",
      "    73     89     -8.4 0.7358 -21.8506  5.0506  False\n",
      "    74     75  -2.9333    1.0 -15.0748  9.2082  False\n",
      "    74     76  -2.0286    1.0 -13.7693  9.7121  False\n",
      "    74     77     -4.1 0.9994 -16.2415  8.0415  False\n",
      "    74     78     -3.1    1.0 -16.5506 10.3506  False\n",
      "    74     79  -1.4333    1.0 -13.5748 10.7082  False\n",
      "    74     80  -0.8222    1.0 -12.0062 10.3617  False\n",
      "    74     81     -4.1 0.9999 -17.5506  9.3506  False\n",
      "    74     82      0.4    1.0 -12.2814 13.0814  False\n",
      "    74     83  -5.9333  0.994 -20.5765  8.7099  False\n",
      "    74     84      5.9  0.999 -10.8759 22.6759  False\n",
      "    74     85   1.7333    1.0 -12.9099 16.3765  False\n",
      "    74     86   0.1143    1.0 -11.6264  11.855  False\n",
      "    74     87  -5.7667 0.9677 -17.9082  6.3748  False\n",
      "    74     88    -0.85    1.0 -14.3006 12.6006  False\n",
      "    74     89     -5.0 0.9956 -17.6814  7.6814  False\n",
      "    75     76   0.9048    1.0 -10.2506 12.0601  False\n",
      "    75     77  -1.1667    1.0 -12.7431 10.4098  False\n",
      "    75     78  -0.1667    1.0 -13.1096 12.7762  False\n",
      "    75     79      1.5    1.0 -10.0765 13.0765  False\n",
      "    75     80   2.1111    1.0  -8.4567 12.6789  False\n",
      "    75     81  -1.1667    1.0 -14.1096 11.7762  False\n",
      "    75     82   3.3333    1.0  -8.8082 15.4748  False\n",
      "    75     83     -3.0    1.0 -17.1782 11.1782  False\n",
      "    75     84   8.8333 0.9017  -7.5383 25.2049  False\n",
      "    75     85   4.6667 0.9996  -9.5116 18.8449  False\n",
      "    75     86   3.0476    1.0  -8.1078  14.203  False\n",
      "    75     87  -2.8333    1.0 -14.4098  8.7431  False\n",
      "    75     88   2.0833    1.0 -10.8596 15.0262  False\n",
      "    75     89  -2.0667    1.0 -14.2082 10.0748  False\n",
      "    76     77  -2.0714    1.0 -13.2268  9.0839  False\n",
      "    76     78  -1.0714    1.0 -13.6391 11.4962  False\n",
      "    76     79   0.5952    1.0 -10.5601 11.7506  False\n",
      "    76     80   1.2063    1.0  -8.8984 11.3111  False\n",
      "    76     81  -2.0714    1.0 -14.6391 10.4962  False\n",
      "    76     82   2.4286    1.0  -9.3121 14.1693  False\n",
      "    76     83  -3.9048    1.0 -17.7413  9.9318  False\n",
      "    76     84   7.9286 0.9541   -8.148 24.0052  False\n",
      "    76     85   3.7619    1.0 -10.0746 17.5984  False\n",
      "    76     86   2.1429    1.0  -8.5749 12.8606  False\n",
      "    76     87  -3.7381 0.9995 -14.8935  7.4173  False\n",
      "    76     88   1.1786    1.0 -11.3891 13.7462  False\n",
      "    76     89  -2.9714    1.0 -14.7121  8.7693  False\n",
      "    77     78      1.0    1.0 -11.9429 13.9429  False\n",
      "    77     79   2.6667    1.0  -8.9098 14.2431  False\n",
      "    77     80   3.2778 0.9998    -7.29 13.8456  False\n",
      "    77     81      0.0    1.0 -12.9429 12.9429  False\n",
      "    77     82      4.5  0.998  -7.6415 16.6415  False\n",
      "    77     83  -1.8333    1.0 -16.0116 12.3449  False\n",
      "    77     84     10.0  0.768  -6.3716 26.3716  False\n",
      "    77     85   5.8333 0.9929  -8.3449 20.0116  False\n",
      "    77     86   4.2143 0.9974  -6.9411 15.3697  False\n",
      "    77     87  -1.6667    1.0 -13.2431  9.9098  False\n",
      "    77     88     3.25    1.0  -9.6929 16.1929  False\n",
      "    77     89     -0.9    1.0 -13.0415 11.2415  False\n",
      "    78     79   1.6667    1.0 -11.2762 14.6096  False\n",
      "    78     80   2.2778    1.0  -9.7714  14.327  False\n",
      "    78     81     -1.0    1.0 -15.1782 13.1782  False\n",
      "    78     82      3.5    1.0  -9.9506 16.9506  False\n",
      "    78     83  -2.8333    1.0 -18.1476 12.4809  False\n",
      "    78     84      9.0 0.9291  -8.3647 26.3647  False\n",
      "    78     85   4.8333 0.9998 -10.4809 20.1476  False\n",
      "    78     86   3.2143    1.0  -9.3534 15.7819  False\n",
      "    78     87  -2.6667    1.0 -15.6096 10.2762  False\n",
      "    78     88     2.25    1.0 -11.9282 16.4282  False\n",
      "    78     89     -1.9    1.0 -15.3506 11.5506  False\n",
      "    79     80   0.6111    1.0  -9.9567 11.1789  False\n",
      "    79     81  -2.6667    1.0 -15.6096 10.2762  False\n",
      "    79     82   1.8333    1.0 -10.3082 13.9748  False\n",
      "    79     83     -4.5 0.9997 -18.6782  9.6782  False\n",
      "    79     84   7.3333  0.982  -9.0383 23.7049  False\n",
      "    79     85   3.1667    1.0 -11.0116 17.3449  False\n",
      "    79     86   1.5476    1.0  -9.6078  12.703  False\n",
      "    79     87  -4.3333 0.9977 -15.9098  7.2431  False\n",
      "    79     88   0.5833    1.0 -12.3596 13.5262  False\n",
      "    79     89  -3.5667 0.9999 -15.7082  8.5748  False\n",
      "    80     81  -3.2778    1.0  -15.327  8.7714  False\n",
      "    80     82   1.2222    1.0  -9.9617 12.4062  False\n",
      "    80     83  -5.1111  0.997 -18.4785  8.2562  False\n",
      "    80     84   6.7222 0.9887  -8.9524 22.3968  False\n",
      "    80     85   2.5556    1.0 -10.8118 15.9229  False\n",
      "    80     86   0.9365    1.0  -9.1683 11.0413  False\n",
      "    80     87  -4.9444 0.9721 -15.5123  5.6234  False\n",
      "    80     88  -0.0278    1.0  -12.077 12.0214  False\n",
      "    80     89  -4.1778 0.9977 -15.3617  7.0062  False\n",
      "    81     82      4.5 0.9995  -8.9506 17.9506  False\n",
      "    81     83  -1.8333    1.0 -17.1476 13.4809  False\n",
      "    81     84     10.0 0.8413  -7.3647 27.3647  False\n",
      "    81     85   5.8333 0.9971  -9.4809 21.1476  False\n",
      "    81     86   4.2143 0.9994  -8.3534 16.7819  False\n",
      "    81     87  -1.6667    1.0 -14.6096 11.2762  False\n",
      "    81     88     3.25    1.0 -10.9282 17.4282  False\n",
      "    81     89     -0.9    1.0 -14.3506 12.5506  False\n",
      "    82     83  -6.3333 0.9876 -20.9765  8.3099  False\n",
      "    82     84      5.5 0.9996 -11.2759 22.2759  False\n",
      "    82     85   1.3333    1.0 -13.3099 15.9765  False\n",
      "    82     86  -0.2857    1.0 -12.0264  11.455  False\n",
      "    82     87  -6.1667 0.9403 -18.3082  5.9748  False\n",
      "    82     88    -1.25    1.0 -14.7006 12.2006  False\n",
      "    82     89     -5.4 0.9895 -18.0814  7.2814  False\n",
      "    83     84  11.8333 0.6811  -6.4707 30.1373  False\n",
      "    83     85   7.6667 0.9718  -8.7049 24.0383  False\n",
      "    83     86   6.0476 0.9861  -7.7889 19.8842  False\n",
      "    83     87   0.1667    1.0 -14.0116 14.3449  False\n",
      "    83     88   5.0833 0.9995 -10.2309 20.3976  False\n",
      "    83     89   0.9333    1.0 -13.7099 15.5765  False\n",
      "    84     85  -4.1667    1.0 -22.4707 14.1373  False\n",
      "    84     86  -5.7857 0.9986 -21.8623 10.2909  False\n",
      "    84     87 -11.6667 0.5057 -28.0383  4.7049  False\n",
      "    84     88    -6.75 0.9963 -24.1147 10.6147  False\n",
      "    84     89    -10.9 0.6727 -27.6759  5.8759  False\n",
      "    85     86   -1.619    1.0 -15.4556 12.2175  False\n",
      "    85     87     -7.5 0.9161 -21.6782  6.6782  False\n",
      "    85     88  -2.5833    1.0 -17.8976 12.7309  False\n",
      "    85     89  -6.7333 0.9765 -21.3765  7.9099  False\n",
      "    86     87   -5.881 0.9184 -17.0363  5.2744  False\n",
      "    86     88  -0.9643    1.0 -13.5319 11.6034  False\n",
      "    86     89  -5.1143 0.9866  -16.855  6.6264  False\n",
      "    87     88   4.9167 0.9972  -8.0262 17.8596  False\n",
      "    87     89   0.7667    1.0 -11.3748 12.9082  False\n",
      "    88     89    -4.15 0.9998 -17.6006  9.3006  False\n",
      "-----------------------------------------------------\n"
     ]
    }
   ],
   "source": [
    "# Define the test score data for each group\n",
    "control_group = np.random.randint(70, 90, 100)        #traditional teaching method\n",
    "\n",
    "experimental_group = np.random.randint(70, 90, 100)   #new teaching method\n",
    "\n",
    "# two-sample t-test\n",
    "t_stat, p_val = ttest_ind(control_group, experimental_group)\n",
    "\n",
    "# Print results\n",
    "print('t-statistic:', t_stat)\n",
    "print('p-value:', p_val)\n",
    "\n",
    "# Conduct post-hoc test (Tukey's HSD)\n",
    "f_stat, p_val = f_oneway(control_group, experimental_group)\n",
    "tukey_results = pairwise_tukeyhsd(control_group, experimental_group)\n",
    "print(tukey_results)"
   ]
  },
  {
   "cell_type": "markdown",
   "id": "dc5acffc-b306-4e0d-9b22-e542726213c1",
   "metadata": {},
   "source": [
    "## Q12. A researcher wants to know if there are any significant differences in the average daily sales of three retail stores: Store A, Store B, and Store C. They randomly select 30 days and record the sales for each store on those days. Conduct a repeated measures ANOVA using Python to determine if there are any significant differences in sales between the three stores. If the results are significant, follow up with a post- hoc test to determine which store(s) differ significantly from each other."
   ]
  },
  {
   "cell_type": "code",
   "execution_count": 8,
   "id": "f6a267b0-300a-4009-ae29-040cfbf8f5aa",
   "metadata": {},
   "outputs": [
    {
     "name": "stdout",
     "output_type": "stream",
     "text": [
      "                sum_sq    df         F    PR(>F)\n",
      "C(Stores)    53.088889   2.0  1.505094  0.230538\n",
      "C(Days)     637.155556  29.0  1.245769  0.234926\n",
      "Residual   1022.911111  58.0       NaN       NaN\n"
     ]
    }
   ],
   "source": [
    "np.random.seed(10)\n",
    "# Create a sample dataset\n",
    "data = pd.DataFrame({'Days': list(range(1, 31)) * 3,\n",
    "                     'Stores': ['A'] * 30 + ['B'] * 30 + ['C'] * 30,\n",
    "                     'Sales': np.random.randint(10,25,90)})\n",
    "\n",
    "# Fit a repeated measures ANOVA model\n",
    "m = ols('Sales ~ C(Stores) + C(Days)', data=data).fit()\n",
    "a_table = sm.stats.anova_lm(m, typ=2)\n",
    "\n",
    "# Print the ANOVA table\n",
    "print(a_table)\n",
    "# data['Sales'].count()"
   ]
  },
  {
   "cell_type": "code",
   "execution_count": null,
   "id": "f9f967dd-3b19-4db9-b1ee-b8455e8cf1d9",
   "metadata": {},
   "outputs": [],
   "source": []
  }
 ],
 "metadata": {
  "kernelspec": {
   "display_name": "Python 3 (ipykernel)",
   "language": "python",
   "name": "python3"
  },
  "language_info": {
   "codemirror_mode": {
    "name": "ipython",
    "version": 3
   },
   "file_extension": ".py",
   "mimetype": "text/x-python",
   "name": "python",
   "nbconvert_exporter": "python",
   "pygments_lexer": "ipython3",
   "version": "3.10.8"
  }
 },
 "nbformat": 4,
 "nbformat_minor": 5
}
