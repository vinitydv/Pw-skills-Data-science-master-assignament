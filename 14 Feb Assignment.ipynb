{
 "cells": [
  {
   "cell_type": "code",
   "execution_count": null,
   "id": "5bd47ce5-3f17-42c4-a111-83e836ad07ad",
   "metadata": {},
   "outputs": [],
   "source": [
    "Q1. What is multithreading in python? Why is it used? Name the module used to handle threads in python."
   ]
  },
  {
   "cell_type": "code",
   "execution_count": null,
   "id": "bc150221-50bd-4a02-94ed-d0721080268a",
   "metadata": {},
   "outputs": [],
   "source": [
    "Ans :\n",
    "\n",
    "Thread is called task, So multithreading is a process to work on multiple task at a time.\n",
    "It is used to save the time and work do first, suppose If you want to upload 10 videos on database and there is not need a sequence for uploading then use multithreading to upload video."
   ]
  },
  {
   "cell_type": "code",
   "execution_count": 1,
   "id": "4897032c-93d2-43b8-b318-67de2b961383",
   "metadata": {},
   "outputs": [],
   "source": [
    "import threading        # threading module"
   ]
  },
  {
   "cell_type": "code",
   "execution_count": null,
   "id": "c1fe5459-2c1f-43c2-a5f0-268d72a0f8d3",
   "metadata": {},
   "outputs": [],
   "source": [
    "Q2. Why threading module used? Write the use of the following functions:\n",
    "activeCount()\n",
    "currentThread()\n",
    "enumerate()"
   ]
  },
  {
   "cell_type": "code",
   "execution_count": null,
   "id": "c99d4ed0-52a5-427f-b4f5-2ef063c78d07",
   "metadata": {},
   "outputs": [],
   "source": [
    "Ans :\n",
    "threading is a module used to do multiple task on same time. threading creates number of thread to execute task.\n",
    "\n",
    "threading.activeCount() : Return the number of Thread objects currently working.\n",
    "threading.currentThread() : Return current thread ID and his name, you can get name by using threading.current_thread().getName()\n",
    "threading.enumerate() : The enumerate() function returns a list of all currently active Thread objects."
   ]
  },
  {
   "cell_type": "code",
   "execution_count": 2,
   "id": "3b544e79-c20d-432f-b1c9-9c12ef59cef0",
   "metadata": {},
   "outputs": [
    {
     "name": "stdout",
     "output_type": "stream",
     "text": [
      "Thread is running\n",
      "Thread is running\n",
      "Hi\n"
     ]
    },
    {
     "name": "stderr",
     "output_type": "stream",
     "text": [
      "/tmp/ipykernel_103/1970884747.py:9: DeprecationWarning: activeCount() is deprecated, use active_count() instead\n",
      "  threading.activeCount()\n"
     ]
    },
    {
     "data": {
      "text/plain": [
       "8"
      ]
     },
     "execution_count": 2,
     "metadata": {},
     "output_type": "execute_result"
    }
   ],
   "source": [
    "from threading import Thread\n",
    "def runThr():\n",
    "    print('Thread is running')\n",
    "t = Thread(target=runThr)\n",
    "t1 = Thread(target=runThr)\n",
    "t.start()\n",
    "t1.start()\n",
    "print('Hi')\n",
    "threading.activeCount()"
   ]
  },
  {
   "cell_type": "code",
   "execution_count": 3,
   "id": "3b9e96c9-20f7-4163-8cae-6581135a4c09",
   "metadata": {},
   "outputs": [
    {
     "name": "stdout",
     "output_type": "stream",
     "text": [
      "Thread is running\n",
      "<Thread(Thread-7 (runThr), started 140470244070976)>\n",
      "Thread is running\n",
      "<Thread(Thread-8 (runThr), started 140470244070976)>\n",
      "Hi\n"
     ]
    },
    {
     "name": "stderr",
     "output_type": "stream",
     "text": [
      "/tmp/ipykernel_103/1279871153.py:4: DeprecationWarning: currentThread() is deprecated, use current_thread() instead\n",
      "  print(threading.currentThread())\n",
      "/tmp/ipykernel_103/1279871153.py:12: DeprecationWarning: currentThread() is deprecated, use current_thread() instead\n",
      "  threading.currentThread()\n"
     ]
    },
    {
     "data": {
      "text/plain": [
       "<_MainThread(MainThread, started 140470802503488)>"
      ]
     },
     "execution_count": 3,
     "metadata": {},
     "output_type": "execute_result"
    }
   ],
   "source": [
    "from threading import Thread\n",
    "def runThr():\n",
    "    print('Thread is running')\n",
    "    print(threading.currentThread())\n",
    "    \n",
    "    \n",
    "t = Thread(target=runThr)\n",
    "t1 = Thread(target=runThr)\n",
    "t.start()\n",
    "t1.start()\n",
    "print('Hi')\n",
    "threading.currentThread()"
   ]
  },
  {
   "cell_type": "code",
   "execution_count": 4,
   "id": "5e3581fe-5f33-4849-bd78-eb1486125bd9",
   "metadata": {},
   "outputs": [
    {
     "name": "stdout",
     "output_type": "stream",
     "text": [
      "<_MainThread(MainThread, started 140470802503488)> \n",
      "\n",
      "<Thread(IOPub, started daemon 140470663509568)> \n",
      "\n",
      "<Heartbeat(Heartbeat, started daemon 140470655116864)> \n",
      "\n",
      "<Thread(Thread-3 (_watch_pipe_fd), started daemon 140470629938752)> \n",
      "\n",
      "<Thread(Thread-4 (_watch_pipe_fd), started daemon 140470621546048)> \n",
      "\n",
      "<ControlThread(Control, started daemon 140470613153344)> \n",
      "\n",
      "<HistorySavingThread(IPythonHistorySavingThread, started 140470260856384)> \n",
      "\n",
      "<ParentPollerUnix(Thread-2, started daemon 140470252463680)> \n",
      "\n"
     ]
    }
   ],
   "source": [
    "result = threading.enumerate()\n",
    "for i in result:\n",
    "    print(i,'\\n')\n",
    "    "
   ]
  },
  {
   "cell_type": "code",
   "execution_count": null,
   "id": "d2588e58-38e2-4cd2-b28e-ee78489752df",
   "metadata": {},
   "outputs": [],
   "source": [
    "Q3. Explain the following functions:\n",
    "run()\n",
    "start()\n",
    "join()\n",
    "isAlive()"
   ]
  },
  {
   "cell_type": "code",
   "execution_count": null,
   "id": "874ce59a-3e4a-49bf-ba27-b7fd599ce168",
   "metadata": {},
   "outputs": [],
   "source": [
    "Ans :\n",
    "\n",
    "run() : Every thread will run this method when thread is started. We can override this method and write our own code as body of the method. A thread will terminate automatically when it comes out of the run() Method.\n",
    "start() : This function used to start a thread when thread is created.\n",
    "join() : This function used to hold next thread untill complete current theread execution.\n",
    "isAlive() : This function replace with is_alive() function, It is used to check whether a thread is currently running or not."
   ]
  },
  {
   "cell_type": "code",
   "execution_count": null,
   "id": "008b710f-b436-4d78-89b7-f77934e1219f",
   "metadata": {},
   "outputs": [],
   "source": [
    "Q4. Write a python program to create two threads. Thread one must print the list of squares and thread two must print the list of cubes."
   ]
  },
  {
   "cell_type": "code",
   "execution_count": 5,
   "id": "29897230-568c-4e6c-8165-fee492c00de6",
   "metadata": {},
   "outputs": [],
   "source": [
    "\n",
    "List = [2,3,4,5,5,6,7,4]"
   ]
  },
  {
   "cell_type": "code",
   "execution_count": 6,
   "id": "543ed1f3-0747-4139-ae59-08ac1cdb6cbf",
   "metadata": {},
   "outputs": [
    {
     "name": "stdout",
     "output_type": "stream",
     "text": [
      "[4, 9, 16, 25, 25, 36, 49, 16]\n"
     ]
    }
   ],
   "source": [
    "import threading\n",
    "square = []\n",
    "def test(a):\n",
    "    square.append(a**2)\n",
    "\n",
    "first_thread = [threading.Thread(target=test , args=(i,) )for i in List]\n",
    "for t in first_thread : \n",
    "    t.start()\n",
    "print(square)"
   ]
  },
  {
   "cell_type": "code",
   "execution_count": 7,
   "id": "2f98a272-de74-4934-b74a-0d7d746515a8",
   "metadata": {},
   "outputs": [
    {
     "name": "stdout",
     "output_type": "stream",
     "text": [
      "[8, 27, 64, 125, 125, 216, 343, 64]\n"
     ]
    }
   ],
   "source": [
    "import threading\n",
    "cube = []\n",
    "def test(a):\n",
    "    cube.append(a**3)\n",
    "\n",
    "second_thread = [threading.Thread(target=test , args=(i,) )for i in List]\n",
    "for t in second_thread : \n",
    "    t.start()\n",
    "print(cube)"
   ]
  },
  {
   "cell_type": "code",
   "execution_count": null,
   "id": "8eade641-eca2-4cfc-9a5c-36c16707a4f1",
   "metadata": {},
   "outputs": [],
   "source": [
    "Q5. State advantages and disadvantages of multithreading."
   ]
  },
  {
   "cell_type": "code",
   "execution_count": null,
   "id": "926d6604-c4c2-4628-aac3-fbd83bfc0887",
   "metadata": {},
   "outputs": [],
   "source": [
    "\n",
    "Advantages\t\n",
    "Improved performance\t\n",
    "Reduced idle time or processing time\t\n",
    "Concurrent execution\n",
    "Responsiveness\n",
    "\n",
    "\n",
    "Advantages\tDisadvantages\n",
    "Global Interpreter Lock\n",
    "Increased memory usage\n",
    "Thread safety issues\n",
    "Increased complexity"
   ]
  },
  {
   "cell_type": "code",
   "execution_count": null,
   "id": "093738b5-6a56-4e5c-89cb-17d8bb2d0050",
   "metadata": {},
   "outputs": [],
   "source": [
    "Q6. Explain deadlocks and race conditions."
   ]
  },
  {
   "cell_type": "code",
   "execution_count": null,
   "id": "fae3f436-9620-4c37-812c-de23ef1bcc09",
   "metadata": {},
   "outputs": [],
   "source": [
    "deadlocks : A deadlock is a situation where two or more threads are blocked and unable to proceed because both are waiting for a resource that the other thread is holding.\n",
    "race conditions : A race condition can occur when two or more threads access a shared variable without proper coordination"
   ]
  },
  {
   "cell_type": "code",
   "execution_count": null,
   "id": "d5732ad1-5680-4323-99ef-17f6c1704cb7",
   "metadata": {},
   "outputs": [],
   "source": []
  },
  {
   "cell_type": "code",
   "execution_count": null,
   "id": "348a4e6c-5f1e-4b1e-b3b5-f922b5aeb7a1",
   "metadata": {},
   "outputs": [],
   "source": []
  }
 ],
 "metadata": {
  "kernelspec": {
   "display_name": "Python 3 (ipykernel)",
   "language": "python",
   "name": "python3"
  },
  "language_info": {
   "codemirror_mode": {
    "name": "ipython",
    "version": 3
   },
   "file_extension": ".py",
   "mimetype": "text/x-python",
   "name": "python",
   "nbconvert_exporter": "python",
   "pygments_lexer": "ipython3",
   "version": "3.10.8"
  }
 },
 "nbformat": 4,
 "nbformat_minor": 5
}
