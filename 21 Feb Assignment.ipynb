{
 "cells": [
  {
   "cell_type": "markdown",
   "id": "cf688ebf-c3a8-4c7d-9e3c-5d5676c88e6a",
   "metadata": {},
   "source": [
    "Q1. What is Web Scraping? Why is it Used? Give three areas where Web Scraping is used to get data."
   ]
  },
  {
   "cell_type": "markdown",
   "id": "7270d951-a9f3-485e-8725-2372fa2dfe50",
   "metadata": {},
   "source": [
    "Web Scraping is a way to scrap or collent data form a website. It is used to grab data to perfom some test and gethr use full information by using this data.\n",
    "\n",
    "In big data\n",
    "In data Analytics\n",
    "In data engineer\n",
    "every data related fields"
   ]
  },
  {
   "cell_type": "markdown",
   "id": "c126e19e-aa91-422f-8136-480f9237b1dd",
   "metadata": {},
   "source": [
    "Q2. What are the different methods used for Web Scraping?"
   ]
  },
  {
   "cell_type": "code",
   "execution_count": null,
   "id": "54cab32f-a9e6-49ca-8c34-96c5f5622be3",
   "metadata": {},
   "outputs": [],
   "source": [
    "scraping.find(\"div\")                # find first div\n",
    "scraping.find_all(\"a\")                 # return all anchor tag\n",
    "scraping.select(\"div > p\")           # find paragraph tag inside a div tag\n",
    "scraping.find(\"div\").text            # return tag in text format"
   ]
  },
  {
   "cell_type": "raw",
   "id": "61322fd4-fd9e-4b92-9850-cc9f3d8eaf44",
   "metadata": {},
   "source": [
    "by using chrome extension\n",
    "by using python modules\n",
    "by using some online tools"
   ]
  },
  {
   "cell_type": "markdown",
   "id": "0cc49539-3031-44f5-862d-714d5d28c867",
   "metadata": {},
   "source": [
    "\n",
    "Q3. What is Beautiful Soup? Why is it used?"
   ]
  },
  {
   "cell_type": "markdown",
   "id": "6a2a71f8-ce2a-4333-b319-e0eb556ee6e8",
   "metadata": {},
   "source": [
    "BeautifulSoup is a python module, It is used to fetch/scrap data form any publicly abailable website data"
   ]
  },
  {
   "cell_type": "markdown",
   "id": "055f1b29-6de2-47cf-86ac-41db9c7f9683",
   "metadata": {},
   "source": [
    "Q4. Why is flask used in this Web Scraping project?"
   ]
  },
  {
   "cell_type": "markdown",
   "id": "aa69b01b-d05c-4e65-a099-046eb14677d9",
   "metadata": {},
   "source": [
    "Basicly flask is a API tool, So it is used to build connection between web scraping data and project"
   ]
  },
  {
   "cell_type": "markdown",
   "id": "6900f985-0827-4399-81ab-bbf4ea5c741e",
   "metadata": {},
   "source": [
    "Q5. Write the names of AWS services used in this project. Also, explain the use of each service."
   ]
  },
  {
   "cell_type": "markdown",
   "id": "f4e8a05e-7004-4916-8396-968213b07102",
   "metadata": {},
   "source": [
    "Ans :\n",
    "In this project two AWS services uses\n",
    "\n",
    "First one is Code Pipeline, which is used to connect github repo\n",
    "Second one is Beanstalk, which is used to connect with code pipeline"
   ]
  },
  {
   "cell_type": "code",
   "execution_count": null,
   "id": "cdb13086-aa83-40ce-b9bb-de3c94dfb2f9",
   "metadata": {},
   "outputs": [],
   "source": []
  }
 ],
 "metadata": {
  "kernelspec": {
   "display_name": "Python 3 (ipykernel)",
   "language": "python",
   "name": "python3"
  },
  "language_info": {
   "codemirror_mode": {
    "name": "ipython",
    "version": 3
   },
   "file_extension": ".py",
   "mimetype": "text/x-python",
   "name": "python",
   "nbconvert_exporter": "python",
   "pygments_lexer": "ipython3",
   "version": "3.10.8"
  }
 },
 "nbformat": 4,
 "nbformat_minor": 5
}
