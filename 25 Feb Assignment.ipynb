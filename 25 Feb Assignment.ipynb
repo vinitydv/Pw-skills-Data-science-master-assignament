{
 "cells": [
  {
   "cell_type": "markdown",
   "id": "77c8c705-19b6-49c4-afc4-7e5a7f911d29",
   "metadata": {},
   "source": [
    "Consider following code to answer further questions:"
   ]
  },
  {
   "cell_type": "code",
   "execution_count": 1,
   "id": "bcc3f22f-b7d5-4908-966b-f3a4896674b4",
   "metadata": {},
   "outputs": [
    {
     "data": {
      "text/html": [
       "<div>\n",
       "<style scoped>\n",
       "    .dataframe tbody tr th:only-of-type {\n",
       "        vertical-align: middle;\n",
       "    }\n",
       "\n",
       "    .dataframe tbody tr th {\n",
       "        vertical-align: top;\n",
       "    }\n",
       "\n",
       "    .dataframe thead th {\n",
       "        text-align: right;\n",
       "    }\n",
       "</style>\n",
       "<table border=\"1\" class=\"dataframe\">\n",
       "  <thead>\n",
       "    <tr style=\"text-align: right;\">\n",
       "      <th></th>\n",
       "      <th>course_name</th>\n",
       "      <th>duration</th>\n",
       "    </tr>\n",
       "  </thead>\n",
       "  <tbody>\n",
       "    <tr>\n",
       "      <th>0</th>\n",
       "      <td>Data Science</td>\n",
       "      <td>2</td>\n",
       "    </tr>\n",
       "    <tr>\n",
       "      <th>1</th>\n",
       "      <td>Machine Learning</td>\n",
       "      <td>3</td>\n",
       "    </tr>\n",
       "    <tr>\n",
       "      <th>2</th>\n",
       "      <td>Big Data</td>\n",
       "      <td>6</td>\n",
       "    </tr>\n",
       "    <tr>\n",
       "      <th>3</th>\n",
       "      <td>Data Engineer</td>\n",
       "      <td>4</td>\n",
       "    </tr>\n",
       "  </tbody>\n",
       "</table>\n",
       "</div>"
      ],
      "text/plain": [
       "        course_name  duration\n",
       "0      Data Science         2\n",
       "1  Machine Learning         3\n",
       "2          Big Data         6\n",
       "3     Data Engineer         4"
      ]
     },
     "execution_count": 1,
     "metadata": {},
     "output_type": "execute_result"
    }
   ],
   "source": [
    "import pandas as pd\n",
    "course_name = ['Data Science', 'Machine Learning', 'Big Data', 'Data Engineer'] \n",
    "duration = [2,3,6,4]\n",
    "df = pd.DataFrame(data = {'course_name': course_name, 'duration': duration})\n",
    "df"
   ]
  },
  {
   "cell_type": "markdown",
   "id": "afdd2e77-153e-4c3d-a806-e92ab6a1e38d",
   "metadata": {},
   "source": [
    "Q1. Write a code to print the data present in the second row of the dataframe, df."
   ]
  },
  {
   "cell_type": "code",
   "execution_count": 2,
   "id": "85aa380b-7024-4b4c-9fbf-4774cb5779bf",
   "metadata": {},
   "outputs": [
    {
     "data": {
      "text/plain": [
       "course_name    Machine Learning\n",
       "duration                      3\n",
       "Name: 1, dtype: object"
      ]
     },
     "execution_count": 2,
     "metadata": {},
     "output_type": "execute_result"
    }
   ],
   "source": [
    "df.loc[1]"
   ]
  },
  {
   "cell_type": "markdown",
   "id": "f8165edf-213d-4562-9003-acee5aab49df",
   "metadata": {},
   "source": [
    "Q2. What is the difference between the functions loc and iloc in pandas.DataFrame?"
   ]
  },
  {
   "cell_type": "markdown",
   "id": "f570c37c-0110-440c-8261-94f37c9ee999",
   "metadata": {},
   "source": [
    "loc() and iloc() both are used in slicing data from the Pandas DataFrame. They help in the convenient selection of data from the DataFrame in Python. They are used in filtering the data according to some conditions.\n",
    "\n",
    "Note : a label refers to a specific name or identifier that is associated with a row or column in a DataFrame or Series.\n",
    "\n",
    "loc is used to select rows and columns in dataframe based on their labels,"
   ]
  },
  {
   "cell_type": "code",
   "execution_count": 5,
   "id": "a8ea912e-ca90-4065-b4a8-d259e950c3a1",
   "metadata": {},
   "outputs": [
    {
     "data": {
      "text/plain": [
       "1    3\n",
       "2    6\n",
       "3    4\n",
       "Name: duration, dtype: int64"
      ]
     },
     "execution_count": 5,
     "metadata": {},
     "output_type": "execute_result"
    }
   ],
   "source": [
    "df.loc[1:3,'duration']                         # access row by using column name and row indexing"
   ]
  },
  {
   "cell_type": "markdown",
   "id": "d6e04402-0437-4630-a6a8-a57f19ac238f",
   "metadata": {},
   "source": [
    "iloc is used to select rows and columns based on their integer position."
   ]
  },
  {
   "cell_type": "code",
   "execution_count": 4,
   "id": "e174765c-becd-4b23-95da-6357217f2149",
   "metadata": {},
   "outputs": [
    {
     "data": {
      "text/plain": [
       "1    Machine Learning\n",
       "2            Big Data\n",
       "Name: course_name, dtype: object"
      ]
     },
     "execution_count": 4,
     "metadata": {},
     "output_type": "execute_result"
    }
   ],
   "source": [
    "df.iloc[1:3,0]                              # accessing first column by using row integer and column in integer also\n"
   ]
  },
  {
   "cell_type": "markdown",
   "id": "c4918545-3d66-4dc3-9df7-345fe5db1b44",
   "metadata": {},
   "source": [
    "Q3. Reindex the given dataframe using a variable, reindex = [3,0,1,2] and store it in the variable, new_df then find the output for both new_df.loc[2] and new_df.iloc[2].\n",
    "Did you observe any difference in both the outputs? If so then explain it.\n",
    "Consider the below code to answer further questions:"
   ]
  },
  {
   "cell_type": "code",
   "execution_count": 6,
   "id": "d88cb736-4dfa-4cb0-93f8-bc43ab7837aa",
   "metadata": {},
   "outputs": [
    {
     "data": {
      "text/html": [
       "<div>\n",
       "<style scoped>\n",
       "    .dataframe tbody tr th:only-of-type {\n",
       "        vertical-align: middle;\n",
       "    }\n",
       "\n",
       "    .dataframe tbody tr th {\n",
       "        vertical-align: top;\n",
       "    }\n",
       "\n",
       "    .dataframe thead th {\n",
       "        text-align: right;\n",
       "    }\n",
       "</style>\n",
       "<table border=\"1\" class=\"dataframe\">\n",
       "  <thead>\n",
       "    <tr style=\"text-align: right;\">\n",
       "      <th></th>\n",
       "      <th>column_1</th>\n",
       "      <th>column_2</th>\n",
       "      <th>column_3</th>\n",
       "      <th>column_4</th>\n",
       "      <th>column_5</th>\n",
       "      <th>column_6</th>\n",
       "    </tr>\n",
       "  </thead>\n",
       "  <tbody>\n",
       "    <tr>\n",
       "      <th>1</th>\n",
       "      <td>0.373036</td>\n",
       "      <td>0.866482</td>\n",
       "      <td>0.992876</td>\n",
       "      <td>0.546752</td>\n",
       "      <td>0.148633</td>\n",
       "      <td>0.065886</td>\n",
       "    </tr>\n",
       "    <tr>\n",
       "      <th>2</th>\n",
       "      <td>0.942254</td>\n",
       "      <td>0.967450</td>\n",
       "      <td>0.224408</td>\n",
       "      <td>0.306630</td>\n",
       "      <td>0.321476</td>\n",
       "      <td>0.982640</td>\n",
       "    </tr>\n",
       "    <tr>\n",
       "      <th>3</th>\n",
       "      <td>0.586125</td>\n",
       "      <td>0.174674</td>\n",
       "      <td>0.714929</td>\n",
       "      <td>0.539280</td>\n",
       "      <td>0.827463</td>\n",
       "      <td>0.252420</td>\n",
       "    </tr>\n",
       "    <tr>\n",
       "      <th>4</th>\n",
       "      <td>0.182528</td>\n",
       "      <td>0.262089</td>\n",
       "      <td>0.266490</td>\n",
       "      <td>0.531161</td>\n",
       "      <td>0.442541</td>\n",
       "      <td>0.348846</td>\n",
       "    </tr>\n",
       "    <tr>\n",
       "      <th>5</th>\n",
       "      <td>0.085688</td>\n",
       "      <td>0.261785</td>\n",
       "      <td>0.995478</td>\n",
       "      <td>0.324057</td>\n",
       "      <td>0.380337</td>\n",
       "      <td>0.535051</td>\n",
       "    </tr>\n",
       "    <tr>\n",
       "      <th>6</th>\n",
       "      <td>0.382149</td>\n",
       "      <td>0.510738</td>\n",
       "      <td>0.095380</td>\n",
       "      <td>0.650686</td>\n",
       "      <td>0.524997</td>\n",
       "      <td>0.043676</td>\n",
       "    </tr>\n",
       "  </tbody>\n",
       "</table>\n",
       "</div>"
      ],
      "text/plain": [
       "   column_1  column_2  column_3  column_4  column_5  column_6\n",
       "1  0.373036  0.866482  0.992876  0.546752  0.148633  0.065886\n",
       "2  0.942254  0.967450  0.224408  0.306630  0.321476  0.982640\n",
       "3  0.586125  0.174674  0.714929  0.539280  0.827463  0.252420\n",
       "4  0.182528  0.262089  0.266490  0.531161  0.442541  0.348846\n",
       "5  0.085688  0.261785  0.995478  0.324057  0.380337  0.535051\n",
       "6  0.382149  0.510738  0.095380  0.650686  0.524997  0.043676"
      ]
     },
     "execution_count": 6,
     "metadata": {},
     "output_type": "execute_result"
    }
   ],
   "source": [
    "import pandas as pd\n",
    "import numpy as np\n",
    "columns = ['column_1', 'column_2', 'column_3', 'column_4', 'column_5', 'column_6'] \n",
    "indices = [1,2,3,4,5,6]\n",
    "# Creating a dataframe:\n",
    "df1 = pd.DataFrame(np.random.rand(6,6), columns = columns, index = indices)\n",
    "df1"
   ]
  },
  {
   "cell_type": "code",
   "execution_count": 7,
   "id": "5d6cb417-fbbd-437a-ad2d-ff9c47c7ac9c",
   "metadata": {},
   "outputs": [],
   "source": [
    "new_df = df1.reindex([3,0,1,2])"
   ]
  },
  {
   "cell_type": "code",
   "execution_count": 8,
   "id": "cd8839a7-5042-4bd9-be21-7bded1584182",
   "metadata": {},
   "outputs": [
    {
     "data": {
      "text/plain": [
       "column_1    0.942254\n",
       "column_2    0.967450\n",
       "column_3    0.224408\n",
       "column_4    0.306630\n",
       "column_5    0.321476\n",
       "column_6    0.982640\n",
       "Name: 2, dtype: float64"
      ]
     },
     "execution_count": 8,
     "metadata": {},
     "output_type": "execute_result"
    }
   ],
   "source": [
    "new_df.loc[2]"
   ]
  },
  {
   "cell_type": "code",
   "execution_count": 9,
   "id": "3fa7b7fe-4358-43f7-ab52-16237fcd580c",
   "metadata": {},
   "outputs": [
    {
     "data": {
      "text/plain": [
       "column_1    0.373036\n",
       "column_2    0.866482\n",
       "column_3    0.992876\n",
       "column_4    0.546752\n",
       "column_5    0.148633\n",
       "column_6    0.065886\n",
       "Name: 1, dtype: float64"
      ]
     },
     "execution_count": 9,
     "metadata": {},
     "output_type": "execute_result"
    }
   ],
   "source": [
    "new_df.iloc[2]"
   ]
  },
  {
   "cell_type": "markdown",
   "id": "f64ccf35-e8c4-40f0-b882-f1372b9d4f25",
   "metadata": {},
   "source": [
    "Q4. Write a code to find the following statistical measurements for the above dataframe dfl:\n",
    "(i) mean of each and every column present in the dataframe."
   ]
  },
  {
   "cell_type": "code",
   "execution_count": 10,
   "id": "556a242b-aefc-4cbf-84f2-091bb5b544b4",
   "metadata": {},
   "outputs": [
    {
     "data": {
      "text/plain": [
       "column_1    0.425296\n",
       "column_2    0.507203\n",
       "column_3    0.548260\n",
       "column_4    0.483094\n",
       "column_5    0.440908\n",
       "column_6    0.371420\n",
       "dtype: float64"
      ]
     },
     "execution_count": 10,
     "metadata": {},
     "output_type": "execute_result"
    }
   ],
   "source": [
    "df1.mean()"
   ]
  },
  {
   "cell_type": "markdown",
   "id": "a64c39a3-5fe7-465c-8326-469efb6a13f6",
   "metadata": {},
   "source": [
    "(ii) standard deviation of column, 'column_2'"
   ]
  },
  {
   "cell_type": "code",
   "execution_count": 11,
   "id": "30925b7c-dd7c-41e3-a8f1-0a027b3c9bbe",
   "metadata": {},
   "outputs": [
    {
     "data": {
      "text/plain": [
       "<bound method NDFrame._add_numeric_operations.<locals>.std of 1    0.866482\n",
       "2    0.967450\n",
       "3    0.174674\n",
       "4    0.262089\n",
       "5    0.261785\n",
       "6    0.510738\n",
       "Name: column_2, dtype: float64>"
      ]
     },
     "execution_count": 11,
     "metadata": {},
     "output_type": "execute_result"
    }
   ],
   "source": [
    "df1['column_2'].std    "
   ]
  },
  {
   "cell_type": "markdown",
   "id": "377078ab-d2f6-4835-9c16-002c8a4f5ca0",
   "metadata": {},
   "source": [
    "Q5. Replace the data present in the second row of column, 'column_2' by a string variable then find the mean of column, column_2.\n",
    "If you are getting errors in executing it then explain why.\n",
    "[Hint: To replace the data use dfl.loc[] and equate this to string data of your choice.]"
   ]
  },
  {
   "cell_type": "code",
   "execution_count": 12,
   "id": "00fe2c94-f48c-44e3-a89f-62998232dde8",
   "metadata": {},
   "outputs": [
    {
     "data": {
      "text/html": [
       "<div>\n",
       "<style scoped>\n",
       "    .dataframe tbody tr th:only-of-type {\n",
       "        vertical-align: middle;\n",
       "    }\n",
       "\n",
       "    .dataframe tbody tr th {\n",
       "        vertical-align: top;\n",
       "    }\n",
       "\n",
       "    .dataframe thead th {\n",
       "        text-align: right;\n",
       "    }\n",
       "</style>\n",
       "<table border=\"1\" class=\"dataframe\">\n",
       "  <thead>\n",
       "    <tr style=\"text-align: right;\">\n",
       "      <th></th>\n",
       "      <th>column_1</th>\n",
       "      <th>column_2</th>\n",
       "      <th>column_3</th>\n",
       "      <th>column_4</th>\n",
       "      <th>column_5</th>\n",
       "      <th>column_6</th>\n",
       "    </tr>\n",
       "  </thead>\n",
       "  <tbody>\n",
       "    <tr>\n",
       "      <th>1</th>\n",
       "      <td>0.373036</td>\n",
       "      <td>0.866482</td>\n",
       "      <td>0.992876</td>\n",
       "      <td>0.546752</td>\n",
       "      <td>0.148633</td>\n",
       "      <td>0.065886</td>\n",
       "    </tr>\n",
       "    <tr>\n",
       "      <th>2</th>\n",
       "      <td>0.942254</td>\n",
       "      <td>0.967450</td>\n",
       "      <td>0.224408</td>\n",
       "      <td>0.306630</td>\n",
       "      <td>0.321476</td>\n",
       "      <td>0.982640</td>\n",
       "    </tr>\n",
       "    <tr>\n",
       "      <th>3</th>\n",
       "      <td>0.586125</td>\n",
       "      <td>0.174674</td>\n",
       "      <td>0.714929</td>\n",
       "      <td>0.539280</td>\n",
       "      <td>0.827463</td>\n",
       "      <td>0.252420</td>\n",
       "    </tr>\n",
       "    <tr>\n",
       "      <th>4</th>\n",
       "      <td>0.182528</td>\n",
       "      <td>0.262089</td>\n",
       "      <td>0.266490</td>\n",
       "      <td>0.531161</td>\n",
       "      <td>0.442541</td>\n",
       "      <td>0.348846</td>\n",
       "    </tr>\n",
       "    <tr>\n",
       "      <th>5</th>\n",
       "      <td>0.085688</td>\n",
       "      <td>0.261785</td>\n",
       "      <td>0.995478</td>\n",
       "      <td>0.324057</td>\n",
       "      <td>0.380337</td>\n",
       "      <td>0.535051</td>\n",
       "    </tr>\n",
       "    <tr>\n",
       "      <th>6</th>\n",
       "      <td>0.382149</td>\n",
       "      <td>0.510738</td>\n",
       "      <td>0.095380</td>\n",
       "      <td>0.650686</td>\n",
       "      <td>0.524997</td>\n",
       "      <td>0.043676</td>\n",
       "    </tr>\n",
       "  </tbody>\n",
       "</table>\n",
       "</div>"
      ],
      "text/plain": [
       "   column_1  column_2  column_3  column_4  column_5  column_6\n",
       "1  0.373036  0.866482  0.992876  0.546752  0.148633  0.065886\n",
       "2  0.942254  0.967450  0.224408  0.306630  0.321476  0.982640\n",
       "3  0.586125  0.174674  0.714929  0.539280  0.827463  0.252420\n",
       "4  0.182528  0.262089  0.266490  0.531161  0.442541  0.348846\n",
       "5  0.085688  0.261785  0.995478  0.324057  0.380337  0.535051\n",
       "6  0.382149  0.510738  0.095380  0.650686  0.524997  0.043676"
      ]
     },
     "execution_count": 12,
     "metadata": {},
     "output_type": "execute_result"
    }
   ],
   "source": [
    "df1"
   ]
  },
  {
   "cell_type": "code",
   "execution_count": 13,
   "id": "8bd7fbd9-880f-4923-852e-f5be058626f6",
   "metadata": {},
   "outputs": [],
   "source": [
    "df1.loc[2,'column_2'] = 'Nazer'"
   ]
  },
  {
   "cell_type": "code",
   "execution_count": 14,
   "id": "a18311c1-f12e-482c-9147-f7c6f2f8a516",
   "metadata": {},
   "outputs": [
    {
     "name": "stdout",
     "output_type": "stream",
     "text": [
      "This is :  unsupported operand type(s) for +: 'float' and 'str'\n"
     ]
    }
   ],
   "source": [
    "try:\n",
    "    df1['column_2'].mean()\n",
    "except TypeError as e:\n",
    "    print(f'This is : ',e)"
   ]
  },
  {
   "cell_type": "markdown",
   "id": "fa02a746-b2b6-4e44-949a-468ecf87f069",
   "metadata": {},
   "source": [
    "We got TypeError due to use string on place of float or int"
   ]
  },
  {
   "cell_type": "markdown",
   "id": "40a57635-66b8-4ff2-b9ee-5a0925c08938",
   "metadata": {},
   "source": [
    "Q6. What do you understand about the windows function in pandas and list the types of windows functions?\n"
   ]
  },
  {
   "cell_type": "markdown",
   "id": "bf50b48c-86fd-4b92-8530-58021ccde7bb",
   "metadata": {},
   "source": [
    "windows function work inside a rolling() function as a parameter, rolling means roll it self. If you provide windows = 1 no any changing will be happend"
   ]
  },
  {
   "cell_type": "code",
   "execution_count": 15,
   "id": "bc11e404-a80f-4a5d-93a0-6b48f9ced4f6",
   "metadata": {},
   "outputs": [
    {
     "data": {
      "text/html": [
       "<div>\n",
       "<style scoped>\n",
       "    .dataframe tbody tr th:only-of-type {\n",
       "        vertical-align: middle;\n",
       "    }\n",
       "\n",
       "    .dataframe tbody tr th {\n",
       "        vertical-align: top;\n",
       "    }\n",
       "\n",
       "    .dataframe thead th {\n",
       "        text-align: right;\n",
       "    }\n",
       "</style>\n",
       "<table border=\"1\" class=\"dataframe\">\n",
       "  <thead>\n",
       "    <tr style=\"text-align: right;\">\n",
       "      <th></th>\n",
       "      <th>column_1</th>\n",
       "      <th>column_2</th>\n",
       "      <th>column_3</th>\n",
       "      <th>column_4</th>\n",
       "      <th>column_5</th>\n",
       "      <th>column_6</th>\n",
       "    </tr>\n",
       "  </thead>\n",
       "  <tbody>\n",
       "    <tr>\n",
       "      <th>1</th>\n",
       "      <td>0.373036</td>\n",
       "      <td>0.866482</td>\n",
       "      <td>0.992876</td>\n",
       "      <td>0.546752</td>\n",
       "      <td>0.148633</td>\n",
       "      <td>0.065886</td>\n",
       "    </tr>\n",
       "    <tr>\n",
       "      <th>2</th>\n",
       "      <td>0.942254</td>\n",
       "      <td>Nazer</td>\n",
       "      <td>0.224408</td>\n",
       "      <td>0.306630</td>\n",
       "      <td>0.321476</td>\n",
       "      <td>0.982640</td>\n",
       "    </tr>\n",
       "    <tr>\n",
       "      <th>3</th>\n",
       "      <td>0.586125</td>\n",
       "      <td>0.174674</td>\n",
       "      <td>0.714929</td>\n",
       "      <td>0.539280</td>\n",
       "      <td>0.827463</td>\n",
       "      <td>0.252420</td>\n",
       "    </tr>\n",
       "    <tr>\n",
       "      <th>4</th>\n",
       "      <td>0.182528</td>\n",
       "      <td>0.262089</td>\n",
       "      <td>0.266490</td>\n",
       "      <td>0.531161</td>\n",
       "      <td>0.442541</td>\n",
       "      <td>0.348846</td>\n",
       "    </tr>\n",
       "    <tr>\n",
       "      <th>5</th>\n",
       "      <td>0.085688</td>\n",
       "      <td>0.261785</td>\n",
       "      <td>0.995478</td>\n",
       "      <td>0.324057</td>\n",
       "      <td>0.380337</td>\n",
       "      <td>0.535051</td>\n",
       "    </tr>\n",
       "    <tr>\n",
       "      <th>6</th>\n",
       "      <td>0.382149</td>\n",
       "      <td>0.510738</td>\n",
       "      <td>0.095380</td>\n",
       "      <td>0.650686</td>\n",
       "      <td>0.524997</td>\n",
       "      <td>0.043676</td>\n",
       "    </tr>\n",
       "  </tbody>\n",
       "</table>\n",
       "</div>"
      ],
      "text/plain": [
       "   column_1  column_2  column_3  column_4  column_5  column_6\n",
       "1  0.373036  0.866482  0.992876  0.546752  0.148633  0.065886\n",
       "2  0.942254     Nazer  0.224408  0.306630  0.321476  0.982640\n",
       "3  0.586125  0.174674  0.714929  0.539280  0.827463  0.252420\n",
       "4  0.182528  0.262089  0.266490  0.531161  0.442541  0.348846\n",
       "5  0.085688  0.261785  0.995478  0.324057  0.380337  0.535051\n",
       "6  0.382149  0.510738  0.095380  0.650686  0.524997  0.043676"
      ]
     },
     "execution_count": 15,
     "metadata": {},
     "output_type": "execute_result"
    }
   ],
   "source": [
    "df1"
   ]
  },
  {
   "cell_type": "code",
   "execution_count": 16,
   "id": "b17e79fe-09c7-47c0-9e1f-f9bd71f1c95e",
   "metadata": {},
   "outputs": [
    {
     "name": "stderr",
     "output_type": "stream",
     "text": [
      "/tmp/ipykernel_124/2661563458.py:1: FutureWarning: Dropping of nuisance columns in rolling operations is deprecated; in a future version this will raise TypeError. Select only valid columns before calling the operation. Dropped columns were Index(['column_2'], dtype='object')\n",
      "  df1.rolling(window=3).mean()\n"
     ]
    },
    {
     "data": {
      "text/html": [
       "<div>\n",
       "<style scoped>\n",
       "    .dataframe tbody tr th:only-of-type {\n",
       "        vertical-align: middle;\n",
       "    }\n",
       "\n",
       "    .dataframe tbody tr th {\n",
       "        vertical-align: top;\n",
       "    }\n",
       "\n",
       "    .dataframe thead th {\n",
       "        text-align: right;\n",
       "    }\n",
       "</style>\n",
       "<table border=\"1\" class=\"dataframe\">\n",
       "  <thead>\n",
       "    <tr style=\"text-align: right;\">\n",
       "      <th></th>\n",
       "      <th>column_1</th>\n",
       "      <th>column_3</th>\n",
       "      <th>column_4</th>\n",
       "      <th>column_5</th>\n",
       "      <th>column_6</th>\n",
       "    </tr>\n",
       "  </thead>\n",
       "  <tbody>\n",
       "    <tr>\n",
       "      <th>1</th>\n",
       "      <td>NaN</td>\n",
       "      <td>NaN</td>\n",
       "      <td>NaN</td>\n",
       "      <td>NaN</td>\n",
       "      <td>NaN</td>\n",
       "    </tr>\n",
       "    <tr>\n",
       "      <th>2</th>\n",
       "      <td>NaN</td>\n",
       "      <td>NaN</td>\n",
       "      <td>NaN</td>\n",
       "      <td>NaN</td>\n",
       "      <td>NaN</td>\n",
       "    </tr>\n",
       "    <tr>\n",
       "      <th>3</th>\n",
       "      <td>0.633805</td>\n",
       "      <td>0.644071</td>\n",
       "      <td>0.464221</td>\n",
       "      <td>0.432524</td>\n",
       "      <td>0.433649</td>\n",
       "    </tr>\n",
       "    <tr>\n",
       "      <th>4</th>\n",
       "      <td>0.570302</td>\n",
       "      <td>0.401942</td>\n",
       "      <td>0.459024</td>\n",
       "      <td>0.530493</td>\n",
       "      <td>0.527969</td>\n",
       "    </tr>\n",
       "    <tr>\n",
       "      <th>5</th>\n",
       "      <td>0.284780</td>\n",
       "      <td>0.658966</td>\n",
       "      <td>0.464833</td>\n",
       "      <td>0.550114</td>\n",
       "      <td>0.378772</td>\n",
       "    </tr>\n",
       "    <tr>\n",
       "      <th>6</th>\n",
       "      <td>0.216788</td>\n",
       "      <td>0.452449</td>\n",
       "      <td>0.501968</td>\n",
       "      <td>0.449292</td>\n",
       "      <td>0.309191</td>\n",
       "    </tr>\n",
       "  </tbody>\n",
       "</table>\n",
       "</div>"
      ],
      "text/plain": [
       "   column_1  column_3  column_4  column_5  column_6\n",
       "1       NaN       NaN       NaN       NaN       NaN\n",
       "2       NaN       NaN       NaN       NaN       NaN\n",
       "3  0.633805  0.644071  0.464221  0.432524  0.433649\n",
       "4  0.570302  0.401942  0.459024  0.530493  0.527969\n",
       "5  0.284780  0.658966  0.464833  0.550114  0.378772\n",
       "6  0.216788  0.452449  0.501968  0.449292  0.309191"
      ]
     },
     "execution_count": 16,
     "metadata": {},
     "output_type": "execute_result"
    }
   ],
   "source": [
    "df1.rolling(window=3).mean()"
   ]
  },
  {
   "cell_type": "markdown",
   "id": "14c49a0e-1f2f-4e2e-bbe6-21fb4fb7f3b0",
   "metadata": {},
   "source": [
    "Q7. Write a code to print only the current month and year at the time of answering this question. [Hint: Use pandas.datetime function]"
   ]
  },
  {
   "cell_type": "code",
   "execution_count": 17,
   "id": "2e83b90e-9890-4b66-b43d-29db9ecc5674",
   "metadata": {},
   "outputs": [
    {
     "data": {
      "text/plain": [
       "Timestamp('2023-03-05 05:34:59.585244')"
      ]
     },
     "execution_count": 17,
     "metadata": {},
     "output_type": "execute_result"
    }
   ],
   "source": [
    "pd.to_datetime('today')"
   ]
  },
  {
   "cell_type": "markdown",
   "id": "4d55a0a8-c44b-4de9-b9ce-f097f3baf0e0",
   "metadata": {},
   "source": [
    "Q8. Write a Python program that takes in two dates as input (in the format YYYY-MM-DD) and calculates the difference between them in days, hours, and minutes using Pandas time delta. The program should prompt the user to enter the dates and display the result."
   ]
  },
  {
   "cell_type": "code",
   "execution_count": 19,
   "id": "f5cf6559-f478-43c8-bdb5-276d061064b6",
   "metadata": {},
   "outputs": [
    {
     "name": "stdin",
     "output_type": "stream",
     "text": [
      "Enter a date in format of YYYY-MM-DD :  2023-01-15\n",
      "Enter a date in format of YYYY-MM-DD :  2023-04-01\n"
     ]
    },
    {
     "data": {
      "text/html": [
       "<div>\n",
       "<style scoped>\n",
       "    .dataframe tbody tr th:only-of-type {\n",
       "        vertical-align: middle;\n",
       "    }\n",
       "\n",
       "    .dataframe tbody tr th {\n",
       "        vertical-align: top;\n",
       "    }\n",
       "\n",
       "    .dataframe thead th {\n",
       "        text-align: right;\n",
       "    }\n",
       "</style>\n",
       "<table border=\"1\" class=\"dataframe\">\n",
       "  <thead>\n",
       "    <tr style=\"text-align: right;\">\n",
       "      <th></th>\n",
       "      <th>F Date</th>\n",
       "      <th>S Date</th>\n",
       "      <th>Different</th>\n",
       "    </tr>\n",
       "  </thead>\n",
       "  <tbody>\n",
       "    <tr>\n",
       "      <th>0</th>\n",
       "      <td>2023-01-15</td>\n",
       "      <td>2023-04-01</td>\n",
       "      <td>-76 days</td>\n",
       "    </tr>\n",
       "  </tbody>\n",
       "</table>\n",
       "</div>"
      ],
      "text/plain": [
       "      F Date     S Date Different\n",
       "0 2023-01-15 2023-04-01  -76 days"
      ]
     },
     "execution_count": 19,
     "metadata": {},
     "output_type": "execute_result"
    }
   ],
   "source": [
    "first_date = input(\"Enter a date in format of YYYY-MM-DD : \")\n",
    "second_date = input(\"Enter a date in format of YYYY-MM-DD : \")\n",
    "\n",
    "date_1 = pd.DataFrame({'F Date':[pd.to_datetime(first_date)],\n",
    "                      'S Date':[pd.to_datetime(second_date)],\n",
    "                      'Different':[pd.to_datetime(first_date)-pd.to_datetime(second_date)]})\n",
    "date_1"
   ]
  },
  {
   "cell_type": "markdown",
   "id": "856f0aa1-91b6-48b8-a32c-e48c875ee605",
   "metadata": {},
   "source": [
    "Q9. Write a Python program that reads a CSV file containing categorical data and converts a specified column to a categorical data type. The program should prompt the user to enter the file path, column name, and category order, and then display the sorted data."
   ]
  },
  {
   "cell_type": "code",
   "execution_count": 20,
   "id": "627de5e1-2543-48de-8f19-3288dc2e3b3f",
   "metadata": {},
   "outputs": [],
   "source": [
    "import csv\n",
    "import pandas as pd\n",
    "import numpy as np"
   ]
  },
  {
   "cell_type": "code",
   "execution_count": null,
   "id": "a4397c7e-b078-4544-838c-afd80c94f189",
   "metadata": {},
   "outputs": [],
   "source": [
    "# file_path = \"E:\\\\dummy_data\\\\taxonomy.csv\"\n",
    "file_path = input(\"Enter file location with file name : \")\n",
    "\n",
    "column_name = input(\"Enter file categorical column name : \")\n",
    "# column_name = \"parent_name\"\n",
    "\n",
    "category_order = bool(input(\"Enter column order True or False : \"))\n",
    "# category_order = True\n",
    "\n",
    "df = pd.read_csv(file_path, encoding='utf-8')\n",
    "print(f\"Your file datas are : \\n {df}\")"
   ]
  },
  {
   "cell_type": "code",
   "execution_count": null,
   "id": "56f8833f-c39e-49bf-900d-34e5f221d729",
   "metadata": {},
   "outputs": [],
   "source": [
    "\n",
    "pd.Categorical(df[column_name],ordered=category_order)"
   ]
  },
  {
   "cell_type": "markdown",
   "id": "b2337f30-8e2d-4a87-9922-467f78f2a634",
   "metadata": {},
   "source": [
    "Q10. Write a Python program that reads a CSV file containing sales data for different products and visualizes the data using a stacked bar chart to show the sales of each product category over time. The program should prompt the user to enter the file path and display the chart."
   ]
  },
  {
   "cell_type": "code",
   "execution_count": null,
   "id": "f90b8ef8-669c-4b29-ab36-731d5a764a7d",
   "metadata": {},
   "outputs": [],
   "source": [
    "file_path = input(\"Enter file location with file name : \")\n",
    "df = pd.read_csv(file_path)\n",
    "# display(df.head())\n",
    "display(df.plot.scatter(x= 'TYPE OF HOME',y='TOTAL NO. OF PROPERTIES'))"
   ]
  },
  {
   "cell_type": "markdown",
   "id": "f444c56f-fef6-48db-8cb2-0b9114735f31",
   "metadata": {},
   "source": [
    "Q11. You are given a CSV file containing student data that includes the student ID and their test score. Write a Python program that reads the CSV file, calculates the mean, median, and mode of the test scores, and displays the results in a table.\n"
   ]
  },
  {
   "cell_type": "markdown",
   "id": "7aa1ecf1-f3d8-42a6-a102-b8b48cea844d",
   "metadata": {},
   "source": [
    "\n",
    "The program should do the following:\n",
    "\n",
    "Prompt the user to enter the file path of the CSV file containing the student data.\n",
    "Read the CSV file into a Pandas DataFrame.\n",
    "Calculate the mean, median, and mode of the test scores using Pandas tools. Display the mean, median, and mode in a table.\n",
    "Assume the CSV file contains the following columns:\n",
    "\n",
    "Student ID: The ID of the student.\n",
    "Test Score: The score of the student's test.\n",
    "Example usage of the program:\n",
    "Enter the file path of the CSV file containing the student data: student_data.csv\n",
    "\n",
    "+-----------+-------+\n",
    "| Statistic | Value |\n",
    "+-----------+-------+\n",
    "| Mean |179.6 |\n",
    "| Median | 82 |\n",
    "| Mode | 85,90 |\n",
    "+-----------+-------+\n",
    "\n",
    "Assume that the CSV file student_data.csv contains the following data:\n",
    "Student ID,Test Score\n",
    "1,85\n",
    "2,90\n",
    "3,80\n",
    "4,75\n",
    "5,85\n",
    "6,82\n",
    "7,78\n",
    "8,85\n",
    "9,90\n",
    "10,85\n",
    "The program should calculate the mean, median, and mode of the test scores and display the results in a table."
   ]
  },
  {
   "cell_type": "code",
   "execution_count": null,
   "id": "b6450eb7-ae83-4a93-9d44-55216dc36cfe",
   "metadata": {},
   "outputs": [],
   "source": [
    "path = \"E:\\\\dummy_data\\\\student data.csv\"\n",
    "df = pd.read_csv(path)\n",
    "\n",
    "print('Get mean pd.DataFrame')\n",
    "# display(df.mean())\n",
    "display(df.mean)\n",
    "\n",
    "print('Get mddian pd.DataFrame')\n",
    "# display(df.median())\n",
    "display(df.median)\n",
    "\n",
    "print('Get mode pd.DataFrame')\n",
    "# display(df.mode)\n",
    "display(df.mode())"
   ]
  },
  {
   "cell_type": "code",
   "execution_count": null,
   "id": "d6fa690b-3a0f-43ac-a015-08893e5df157",
   "metadata": {},
   "outputs": [],
   "source": []
  }
 ],
 "metadata": {
  "kernelspec": {
   "display_name": "Python 3 (ipykernel)",
   "language": "python",
   "name": "python3"
  },
  "language_info": {
   "codemirror_mode": {
    "name": "ipython",
    "version": 3
   },
   "file_extension": ".py",
   "mimetype": "text/x-python",
   "name": "python",
   "nbconvert_exporter": "python",
   "pygments_lexer": "ipython3",
   "version": "3.10.8"
  }
 },
 "nbformat": 4,
 "nbformat_minor": 5
}
