{
 "cells": [
  {
   "cell_type": "code",
   "execution_count": null,
   "id": "0b34005b-9444-42df-84d8-d8d56cc8329b",
   "metadata": {},
   "outputs": [],
   "source": [
    "Question 1 Who developed Python Programming Language?\n",
    "Answer 1 Guido van Rossum"
   ]
  },
  {
   "cell_type": "code",
   "execution_count": null,
   "id": "3a1d82f3-6bd1-4768-bda5-cd1327ecdd61",
   "metadata": {},
   "outputs": [],
   "source": [
    "Question 2 which type of Programming does Python Support?\n",
    "Answer 2 Python is a multi-paradigm programming language. Object-oriented programming and structured programming are fully supported, and many of their features support functional programming and aspect-oriented programming (including metaprogramming and metaobjects)."
   ]
  },
  {
   "cell_type": "code",
   "execution_count": null,
   "id": "b60d24bd-2574-485d-bdb2-0978dfa7af34",
   "metadata": {},
   "outputs": [],
   "source": [
    "Question 3 Is Python case sensitive when dealing with identifiers?\n",
    "Answer 3  Yes, Python is a case-sensitive language, i.e., it treats uppercase and lowercase characters differently. This applies to identifiers too. You must avoid using the same name with different cases while naming identifiers."
   ]
  },
  {
   "cell_type": "code",
   "execution_count": null,
   "id": "50106721-a6bd-449b-bec2-d77cd29a62f1",
   "metadata": {},
   "outputs": [],
   "source": [
    "Question 4 What is the correct extension of the Python File?\n",
    "Answer 4  .py"
   ]
  },
  {
   "cell_type": "code",
   "execution_count": null,
   "id": "808ecc28-2c91-4dbb-b6e7-c3cddcd8e01b",
   "metadata": {},
   "outputs": [],
   "source": [
    "Question 5 Is python code compiled or interpreted?\n",
    "Answer 5  Python is an interpreted language, which means the source code of a Python program is converted into bytecode that is then executed by the Python virtual machine. Python is different from major compiled languages, such as C and C + +, as Python code is not required to be built and linked like code for these languages."
   ]
  },
  {
   "cell_type": "code",
   "execution_count": null,
   "id": "062d4c04-2d98-444d-a971-fe688c4ce440",
   "metadata": {},
   "outputs": [],
   "source": [
    "Question 6  Name a few blocks of code used to define in Python Language?\n",
    "Answer 6   A module, a function body, and a class definition. Each command typed interactively is a block. A script file (a file given as standard input to the interpreter or specified as a command line argument to the interpreter) is a code block."
   ]
  },
  {
   "cell_type": "code",
   "execution_count": null,
   "id": "0a3e55bd-991c-4dc1-8385-b8fe235d37ee",
   "metadata": {},
   "outputs": [],
   "source": [
    "Question 7 State a character used to give single-line comments in Python?\n",
    "Answer 7 Hash character(#)"
   ]
  },
  {
   "cell_type": "code",
   "execution_count": null,
   "id": "cca0702a-e2cb-405f-8cdc-d83d8ef3e6d7",
   "metadata": {},
   "outputs": [],
   "source": [
    "Question 8 Mention functions which can help us to find the version of python that we are currently working on?\n",
    "Answer 8  The function sys. version can help us to find the version of python that we are currently working on."
   ]
  },
  {
   "cell_type": "code",
   "execution_count": null,
   "id": "d25251a2-49da-4839-be5f-7e1847489463",
   "metadata": {},
   "outputs": [],
   "source": [
    "Question 9 Python supports the creation of anonymous functions at runtime,using a construct called....?\n",
    "Answer 9 Python supports to make anonymous functions which are not bound to a name(@ runtime). It uses a construct called \"lambda\" .preferred installer program"
   ]
  },
  {
   "cell_type": "code",
   "execution_count": null,
   "id": "d891c4aa-9bbc-4005-989f-32e27fc0ec12",
   "metadata": {},
   "outputs": [],
   "source": [
    "Question 10 What does pip stand for Python?\n",
    "Answer 10  preferred installer program"
   ]
  },
  {
   "cell_type": "code",
   "execution_count": null,
   "id": "e1ee3d2e-3498-4502-8455-c331c35704ff",
   "metadata": {},
   "outputs": [],
   "source": [
    "Question 11 Mention a few built-in functions in python?\n",
    "Answer 11 \n",
    "print( ) function.\n",
    "type( ) function.\n",
    "input( ) function.\n",
    "abs( ) function.\n",
    "pow( ) function.\n",
    "dir( ) function.\n",
    "sorted( ) function.\n",
    "max( ) function."
   ]
  },
  {
   "cell_type": "code",
   "execution_count": null,
   "id": "932da3e0-9e9d-47a5-a931-cbc3ae0f2942",
   "metadata": {},
   "outputs": [],
   "source": [
    "Question 12 What is the maximum possible length of an identifier in python?\n",
    "Answer 12  An identifier can have a maximum length of 79 characters in Python. Python is one of the most popular programming languages."
   ]
  },
  {
   "cell_type": "code",
   "execution_count": null,
   "id": "76b849a2-bf84-49d7-9277-581cdf438935",
   "metadata": {},
   "outputs": [],
   "source": [
    "Question 13 What are the benefits of using python ?\n",
    "Answer 13 Data science.\n",
    "Scientific and mathematical computing.\n",
    "Web development.\n",
    "Finance and trading.\n",
    "System automation and administration.\n",
    "Computer graphics.\n",
    "Basic game development.\n",
    "Security and penetration testing."
   ]
  },
  {
   "cell_type": "code",
   "execution_count": null,
   "id": "aabe6d5f-db2d-478f-9d10-8b9f1a9ef941",
   "metadata": {},
   "outputs": [],
   "source": [
    "Question 14 How is memory managed in python?\n",
    "Answer 14 Memory management in Python involves a private heap containing all Python objects and data structures. The management of this private heap is ensured internally by the Python memory manager."
   ]
  },
  {
   "cell_type": "code",
   "execution_count": null,
   "id": "fe2470ba-1174-4740-8c7c-bbee52183efe",
   "metadata": {},
   "outputs": [],
   "source": [
    "Question 15 How to install Python on Windows and set path variables? \n",
    "Answer 15 Path C:\\Users\\Ron\\AppData\\Local\\Programs\\Python\\Python39;C:\\Users\\…\n",
    "...\n",
    "You can find the Python application path by following these steps:\n",
    "1 Type “Python” in the Windows Search Bar.\n",
    "2 Right-click on the Python App, and then select “Open file location“\n",
    "3 Right-click again on the Python shortcut, and then select “Open file location“"
   ]
  },
  {
   "cell_type": "code",
   "execution_count": null,
   "id": "cf4fca33-f628-4031-b3cf-56c091b5693d",
   "metadata": {},
   "outputs": [],
   "source": [
    "Question 16 Is indentation required in Python?\n",
    "Answer 16 Indentation refers to the spaces at the beginning of a code line. Where in other programming languages the indentation in code is for readability only, the indentation in Python is very important. Python uses indentation to indicate a block of code.+"
   ]
  }
 ],
 "metadata": {
  "kernelspec": {
   "display_name": "Python 3 (ipykernel)",
   "language": "python",
   "name": "python3"
  },
  "language_info": {
   "codemirror_mode": {
    "name": "ipython",
    "version": 3
   },
   "file_extension": ".py",
   "mimetype": "text/x-python",
   "name": "python",
   "nbconvert_exporter": "python",
   "pygments_lexer": "ipython3",
   "version": "3.10.8"
  }
 },
 "nbformat": 4,
 "nbformat_minor": 5
}
