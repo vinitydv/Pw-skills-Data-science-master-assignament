{
 "cells": [
  {
   "cell_type": "code",
   "execution_count": null,
   "id": "1b4ae40f-ef67-422f-bb42-b4a77bb7df18",
   "metadata": {},
   "outputs": [],
   "source": [
    "Q1. What is a database? Differentiate between SQL and NoSQL databases."
   ]
  },
  {
   "cell_type": "code",
   "execution_count": null,
   "id": "7f470a58-63ad-4ad3-b317-41cf375c631a",
   "metadata": {},
   "outputs": [],
   "source": [
    "Ans :\n",
    "\n",
    "Database is a data storage, Where you can store data/information\n",
    "\n",
    "\n",
    "SQL\n",
    "Data storage in tabuler form\n",
    "Vertical Scaling(top to bottom)\t\n",
    "Use for General purpose\t\n",
    "Schemas Fixed\t\n",
    "\n",
    "NoSQL\n",
    "Data storage in document/JSON form\n",
    "Horizontal Scaling (left to right)\n",
    "Use in key-value pair\n",
    "Schemas Flexible"
   ]
  },
  {
   "cell_type": "code",
   "execution_count": null,
   "id": "44cee55f-00d5-42b9-ab49-9abd52876ad8",
   "metadata": {},
   "outputs": [],
   "source": [
    "Q2. What is DDL? Explain why CREATE, DROP, ALTER, and TRUNCATE are used with an example."
   ]
  },
  {
   "cell_type": "code",
   "execution_count": null,
   "id": "3ab3dc4d-333b-4146-82cc-dfd5130e7edd",
   "metadata": {},
   "outputs": [],
   "source": [
    "Ans :\n",
    "DDL (Data Defination Language) : actually consists of the SQL commands that can be used to define the database schema.\n",
    "\n",
    "CREATE : It is used to create a new table in MySql database"
   ]
  },
  {
   "cell_type": "code",
   "execution_count": null,
   "id": "eb8b1fbe-196c-43c9-b568-af9ce8a0ada3",
   "metadata": {},
   "outputs": [],
   "source": [
    "import mysql.connector\n",
    "mydb = mysql.connector.connect(\n",
    "  host=\"localhost\",\n",
    "  user=\"root\",\n",
    "  password=\"root\"\n",
    ")\n",
    "mycursor = mydb.cursor()\n",
    "mycursor.execute(\"CREATE TABLE test_table (ID INT, name VARCHAR, addr VARCHAR(300) )\")\n",
    "print('Done')"
   ]
  },
  {
   "cell_type": "code",
   "execution_count": null,
   "id": "e43c491a-13e1-47b1-bc2b-cd85ff30860e",
   "metadata": {},
   "outputs": [],
   "source": [
    "Done\n",
    "ALTER : It is used to rename table or update row\n"
   ]
  },
  {
   "cell_type": "code",
   "execution_count": null,
   "id": "6ca479aa-ceec-44f6-89f2-c652623032c1",
   "metadata": {},
   "outputs": [],
   "source": [
    "import mysql.connector\n",
    "mydb = mysql.connector.connect(\n",
    "  host=\"localhost\",\n",
    "  user=\"root\",\n",
    "  password=\"root\"\n",
    ")\n",
    "mycursor = mydb.cursor()\n",
    "mycursor.execute(\"ALTER TABLE test_teable RENAME TO finaly_table\")\n",
    "print('Done')"
   ]
  },
  {
   "cell_type": "code",
   "execution_count": null,
   "id": "75e6fa86-be9c-4934-a0c0-c4ba4da3da2c",
   "metadata": {},
   "outputs": [],
   "source": [
    "Done\n",
    "TRUNCATE : It is used to remove/delete all data from a table without using WHERE clause."
   ]
  },
  {
   "cell_type": "code",
   "execution_count": null,
   "id": "a134921d-2c36-4123-a919-5d14d2bd579a",
   "metadata": {},
   "outputs": [],
   "source": [
    "import mysql.connector\n",
    "mydb = mysql.connector.connect(\n",
    "  host=\"localhost\",\n",
    "  user=\"root\",\n",
    "  password=\"root\"\n",
    ")\n",
    "mycursor = mydb.cursor()\n",
    "mycursor.execute(\"TRUNCATE TABLE test_db.finaly_table\")\n",
    "print('Done')"
   ]
  },
  {
   "cell_type": "code",
   "execution_count": null,
   "id": "8b613ea6-44d1-4792-b59b-2c9608ba0e6e",
   "metadata": {},
   "outputs": [],
   "source": [
    "Done\n"
   ]
  },
  {
   "cell_type": "code",
   "execution_count": null,
   "id": "387e7d19-9ff0-48fa-9587-ed54a2ef8689",
   "metadata": {},
   "outputs": [],
   "source": [
    "Q3. What is DML? Explain INSERT, UPDATE, and DELETE with an example.\n"
   ]
  },
  {
   "cell_type": "code",
   "execution_count": null,
   "id": "c9f17e12-bc63-4d7b-842f-06016a4dd05c",
   "metadata": {},
   "outputs": [],
   "source": [
    "Ans :\n",
    "DML (Data Manuplation Language) : A list of MySql commands, that deal with the manuplation of data persent in database.\n",
    "\n",
    "INSERT : It is used to add new record in table."
   ]
  },
  {
   "cell_type": "code",
   "execution_count": null,
   "id": "3eabc831-a81a-4304-9918-5b3119100d9f",
   "metadata": {},
   "outputs": [],
   "source": [
    "import mysql.connector\n",
    "mydb = mysql.connector.connect(\n",
    "  host=\"localhost\",\n",
    "  user=\"root\",\n",
    "  password=\"root\"\n",
    ")\n",
    "mycursor = mydb.cursor()\n",
    "mycursor.execute(\"INSERT INTO finaly_table VALUES(1, 'Nazer', 'Patna')\")\n",
    "print('Done')"
   ]
  },
  {
   "cell_type": "code",
   "execution_count": null,
   "id": "95f02ac0-d7ac-4311-972f-6c4e935bf47d",
   "metadata": {},
   "outputs": [],
   "source": [
    "UPDATE : It is used to update data in existing table"
   ]
  },
  {
   "cell_type": "code",
   "execution_count": null,
   "id": "ddaf9e63-29bd-4cf6-b1d3-7bde6d5fb8fa",
   "metadata": {},
   "outputs": [],
   "source": [
    "import mysql.connector\n",
    "mydb = mysql.connector.connect(\n",
    "  host=\"localhost\",\n",
    "  user=\"root\",\n",
    "  password=\"root\"\n",
    ")\n",
    "mycursor = mydb.cursor()\n",
    "mycursor.execute(\"UPDATE TABLE finaly_table SET name='Imran' WHERE name='Nazer'\")\n",
    "print('Done')"
   ]
  },
  {
   "cell_type": "code",
   "execution_count": null,
   "id": "6e218009-b64f-4f31-a802-b1917c575b22",
   "metadata": {},
   "outputs": [],
   "source": [
    "Done\n",
    "DELETE : It used to delete/remove data from a table. whole data will remove without using WHERE clause."
   ]
  },
  {
   "cell_type": "code",
   "execution_count": null,
   "id": "7fe26bb8-d06d-4209-a6a4-aaad07df8a18",
   "metadata": {},
   "outputs": [],
   "source": [
    "import mysql.connector\n",
    "mydb = mysql.connector.connect(\n",
    "  host=\"localhost\",\n",
    "  user=\"root\",\n",
    "  password=\"root\"\n",
    ")\n",
    "mycursor = mydb.cursor()\n",
    "mycursor.execute(\"DELETE TABLE finaly_table WHERE id>10\")"
   ]
  },
  {
   "cell_type": "code",
   "execution_count": null,
   "id": "3cb72b01-0446-47e1-9fd1-933386578e86",
   "metadata": {},
   "outputs": [],
   "source": [
    "Q4. What is DQL? Explain SELECT with an example."
   ]
  },
  {
   "cell_type": "code",
   "execution_count": null,
   "id": "81788454-501e-4798-a93b-662c83e06a00",
   "metadata": {},
   "outputs": [],
   "source": [
    "Ans :\n",
    "DQL (Data Query Language) : It is used for performing queries on the data within schema objects.\n",
    "\n",
    "SELECT: It is used to select data from existing table"
   ]
  },
  {
   "cell_type": "code",
   "execution_count": null,
   "id": "3b30b9b7-3b66-477f-b99c-449c5669f9cb",
   "metadata": {},
   "outputs": [],
   "source": [
    "import mysql.connector\n",
    "mydb = mysql.connector.connect(\n",
    "  host=\"localhost\",\n",
    "  user=\"root\",\n",
    "  password=\"root\"\n",
    ")\n",
    "mycursor = mydb.cursor()\n",
    "mycursor.execute(\"SELECT * FROM test_db.test_table\")"
   ]
  },
  {
   "cell_type": "code",
   "execution_count": null,
   "id": "9f1e76cb-5467-4877-9057-e0c7067295ca",
   "metadata": {},
   "outputs": [],
   "source": [
    "Q5. Explain Primary Key and Foreign Key."
   ]
  },
  {
   "cell_type": "code",
   "execution_count": null,
   "id": "7611e604-e010-43bc-b7ab-5ce3cc4bc4b9",
   "metadata": {},
   "outputs": [],
   "source": [
    "Ans :\n",
    "\n",
    "Primary Key : The PRIMARY KEY constraint uniquely identifies each record/row in a table."
   ]
  },
  {
   "cell_type": "code",
   "execution_count": null,
   "id": "e41fa25c-19c0-428f-869b-a89acd9045e1",
   "metadata": {},
   "outputs": [],
   "source": [
    "import mysql.connector\n",
    "mydb = mysql.connector.connect(\n",
    "  host=\"localhost\",\n",
    "  user=\"root\",\n",
    "  password=\"root\"\n",
    ")\n",
    "mycursor = mydb.cursor()\n",
    "mycursor.execute(\"CREATE TABLE Customer(id int PRIMARY, name VARCHAR, mobile INT)\")"
   ]
  },
  {
   "cell_type": "code",
   "execution_count": null,
   "id": "652905b3-d5ad-4f83-ad0e-89ddcc42ac7e",
   "metadata": {},
   "outputs": [],
   "source": [
    "FOREIGEN KEY : A FOREIGEN KEY in one table points to a PRIMARY KEY in other table."
   ]
  },
  {
   "cell_type": "code",
   "execution_count": null,
   "id": "1220836c-4a02-43d9-84d1-7d6a3976af8b",
   "metadata": {},
   "outputs": [],
   "source": [
    "import mysql.connector\n",
    "mydb = mysql.connector.connect(\n",
    "  host=\"localhost\",\n",
    "  user=\"root\",\n",
    "  password=\"root\"\n",
    ")\n",
    "mycursor = mydb.cursor()\n",
    "mycursor.execute(\"CREATE TABLE Orders (OrderNo int PRIMARY KEY, name VARCHAR, FOREIGN KEY(OrderNo)  REFERENCES finaly_table(id) )\")"
   ]
  },
  {
   "cell_type": "code",
   "execution_count": null,
   "id": "2d009c5f-5de0-4046-b93b-a2a04d24baf8",
   "metadata": {},
   "outputs": [],
   "source": [
    "Q6. Write a python code to connect MySQL to python. Explain the cursor() and execute() method."
   ]
  },
  {
   "cell_type": "code",
   "execution_count": null,
   "id": "535a98d4-615a-440d-9bd4-e9f5af89d006",
   "metadata": {},
   "outputs": [],
   "source": [
    "import mysql.connector\n",
    "mydb = mysql.connector.connect(\n",
    "  host=\"localhost\",\n",
    "  user=\"root\",\n",
    "  password=\"root\"\n",
    ")\n",
    "if mydb.is_connected():\n",
    "    print('Connection Success')\n",
    "else:\n",
    "    print('Connection failed')\n",
    "mycursor = mydb.cursor()"
   ]
  },
  {
   "cell_type": "code",
   "execution_count": null,
   "id": "7cdaa1f5-d8b0-48fa-93e4-e6fbd972be0f",
   "metadata": {},
   "outputs": [],
   "source": [
    "\n",
    "cursor() : cursor() method creates a cursor/pointer object which is used to interact with a MySQL database.\n",
    "\n",
    "execute() : It is used to execute a SQL query on a MySQL database using a cursor object in Python."
   ]
  },
  {
   "cell_type": "code",
   "execution_count": null,
   "id": "23286931-4ca3-415b-94a6-a555f0289c16",
   "metadata": {},
   "outputs": [],
   "source": [
    "Q7. Give the order of execution of SQL clauses in an SQL query."
   ]
  },
  {
   "cell_type": "code",
   "execution_count": null,
   "id": "a4c5efca-08b1-4e7e-9b27-77c348b021fa",
   "metadata": {},
   "outputs": [],
   "source": [
    "Ans :\n",
    "\n",
    "Order of execution of SQL clauses\n",
    "FROM\n",
    "JOIN\n",
    "WHERE\n",
    "GROUP BY\n",
    "HAVING\n",
    "SELECT\n",
    "DISTINCT\n",
    "ORDER BY\n",
    "LIMIT"
   ]
  },
  {
   "cell_type": "code",
   "execution_count": null,
   "id": "752f3409-10b1-40b7-9bfa-db48a1bb4653",
   "metadata": {},
   "outputs": [],
   "source": []
  },
  {
   "cell_type": "code",
   "execution_count": null,
   "id": "fbe9f050-09d4-4a97-a26e-929c39b0604b",
   "metadata": {},
   "outputs": [],
   "source": []
  },
  {
   "cell_type": "code",
   "execution_count": null,
   "id": "23a6f55b-46b7-41cd-8d2d-2e548744cf47",
   "metadata": {},
   "outputs": [],
   "source": []
  },
  {
   "cell_type": "code",
   "execution_count": null,
   "id": "3947f08e-ceff-4829-809d-3d542c982fae",
   "metadata": {},
   "outputs": [],
   "source": []
  },
  {
   "cell_type": "code",
   "execution_count": null,
   "id": "30f92125-f205-4659-a9ac-b555e6c8091e",
   "metadata": {},
   "outputs": [],
   "source": []
  }
 ],
 "metadata": {
  "kernelspec": {
   "display_name": "Python 3 (ipykernel)",
   "language": "python",
   "name": "python3"
  },
  "language_info": {
   "codemirror_mode": {
    "name": "ipython",
    "version": 3
   },
   "file_extension": ".py",
   "mimetype": "text/x-python",
   "name": "python",
   "nbconvert_exporter": "python",
   "pygments_lexer": "ipython3",
   "version": "3.10.8"
  }
 },
 "nbformat": 4,
 "nbformat_minor": 5
}
