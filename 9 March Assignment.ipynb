{
 "cells": [
  {
   "cell_type": "markdown",
   "id": "d38d133f-8903-40cb-b023-e04d822cdbb9",
   "metadata": {},
   "source": [
    "## Q1: What are the Probability Mass Function (PMF) and Probability Density Function (PDF)? Explain with an example.\n",
    "Ans :\n",
    "- Probability Mass Function (PMF) is used to describe the probabilities of discrete random variables. It maps each possible value of a discrete random variable to the probability of that value occurring.\n",
    "e.g.\n",
    "\n",
    "* rolling a dice\n",
    "- Probability Density Function (pdf) is a type of Probability Distribution Function. It is used to denote the distribution of the data set if the dataset is a continuous random variable. e.g.\n",
    "\n",
    "* Rolling a dice"
   ]
  },
  {
   "cell_type": "markdown",
   "id": "b47b1fbb-2642-4698-9b48-d77e00db09ba",
   "metadata": {},
   "source": [
    "## Q2: What is Cumulative Density Function (CDF)? Explain with an example. Why CDF is used?\n",
    "Ans : PDF describe the distribution only continuous random variable and PMF describe the distribution only discrete random variable, but CDF, that it can be defined for any kind of random variable (discrete, continuous, and mixed). Therefore we are using CDF\n",
    "\n"
   ]
  },
  {
   "cell_type": "markdown",
   "id": "0fa188e6-6022-46ca-b02d-ff52509ef07b",
   "metadata": {},
   "source": [
    "## Q3: What are some examples of situations where the normal distribution might be used as a model? Explain how the parameters of the normal distribution relate to the shape of the distribution.\n",
    "In statistics, a normal distribution or gaussion distribution is a\n",
    "\n",
    "- Type of continuous probability distribution\n",
    "- for a real valued random variable\n",
    "- It has bell-shaped curve\n",
    "- wiht an equale number of measurements\n",
    "- mean = median = mode"
   ]
  },
  {
   "cell_type": "markdown",
   "id": "cb1e2133-5205-43aa-804c-b795581aa5ae",
   "metadata": {},
   "source": [
    "## Q4: Explain the importance of Normal Distribution. Give a few real-life examples of Normal Distribution.\n",
    "such as the height of a population, the weight of objects,\n",
    "\n",
    "- It is a fundamental concept in statistics\n",
    "- It is widely recognized and understood\n",
    "- all centrel\n",
    "\n",
    "e.g.\n",
    "\n",
    "- student Height\n",
    "- Rolling A Dice\n",
    "- Tossing A Coin\n",
    "- student IQ\n",
    "- Blood Pressure"
   ]
  },
  {
   "cell_type": "markdown",
   "id": "a02f07f2-aed2-4a57-bd27-dc34abe2245f",
   "metadata": {},
   "source": [
    "## Q5: What is Bernaulli Distribution? Give an Example. What is the difference between Bernoulli Distribution and Binomial Distribution?\n",
    "The bernaulli Distribution is the discete progability distribution of a random variable.\n",
    "\n",
    "- which has two outcomes Y and N\n",
    "- Binary outcomes\n",
    "\n",
    "                                          Bernaulli Distribution\t              Binomial Distribution\n",
    "                                  \n",
    "          Probability Distribution\t  Continuous Probability Distribution\tDiscrete Probability Distribution\n",
    "\n",
    "          Outcomes\t                              Binary\t                          Yes or No\n",
    "\n",
    "          parameter\t                            for success\t                     1-p = q for failure"
   ]
  },
  {
   "cell_type": "markdown",
   "id": "43239ff8-1b01-40d5-8baa-fd19cedd04f0",
   "metadata": {},
   "source": [
    "## Q6. Consider a dataset with a mean of 50 and a standard deviation of 10. If we assume that the dataset is normally distributed, what is the probability that a randomly selected observation will be greater than 60? Use the appropriate formula and show your calculations.\n",
    "Solution"
   ]
  },
  {
   "cell_type": "markdown",
   "id": "a652a749-f3cf-413b-8297-00f08c8d16b5",
   "metadata": {},
   "source": [
    "## Q7: Explain uniform Distribution with an example.\n",
    "Ans :\n",
    "\n",
    "Uniform Distribution Function is a part of the discrete distribution function, Therefore we are using probability mass function (pmf).Uniform distribution is when all the possible events are equally likely. For example, consider an experiment of rolling a dice. We have six possible events X = {1, 2, 3, 4, 5, 6} each having a probability of P(X) = 1/6.In other way of saying \"discrete uniform distribution\" would be a known finite number of outcomes equally likely to happen."
   ]
  },
  {
   "cell_type": "code",
   "execution_count": 1,
   "id": "b1a869e7-323a-43ef-9a78-365ca9efd669",
   "metadata": {},
   "outputs": [
    {
     "data": {
      "text/plain": [
       "0.4"
      ]
     },
     "execution_count": 1,
     "metadata": {},
     "output_type": "execute_result"
    }
   ],
   "source": [
    "# Suppose a bus shows up at a bus stop every 20 minutes. If you arrive at the bus stop, what is the probability that the bus will show up in 8 minutes or less?\n",
    "from scipy.stats import uniform\n",
    "#calculate uniform probability\n",
    "uniform.cdf(x=8, loc=0, scale=20) - uniform.cdf(x=0, loc=0, scale=20)"
   ]
  },
  {
   "cell_type": "markdown",
   "id": "33e0c5e3-9808-47c2-8d32-3e8f1ece83f9",
   "metadata": {},
   "source": [
    "## Q8: What is the z score? State the importance of the z score.\n",
    "Ans : z-score (also called a standard score) gives you an idea of how far from the mean a data point is.\n",
    "\n",
    "State the importance of the z score.\n",
    "\n",
    "- The z-score can be used in hypothesis testing to determine the statistical significance of the difference between two groups or samples.\n",
    "- It enables us to calculate probabilities\n",
    "- It allows for comparison of data points from different populations"
   ]
  },
  {
   "cell_type": "markdown",
   "id": "e001153d-8372-4493-ab4a-ff59fe35b04c",
   "metadata": {},
   "source": [
    "## Q9: What is Central Limit Theorem? State the significance of the Central Limit Theorem.\n",
    "Ans :\n",
    "\n",
    "Central Limit Theorem says If you get different samples from population S1,S2,S¬,…Sm (some data can be repeated) and the number of samples is n>=30, and sample means is x1bar, x2bar, x3bar,…..xmbar, and you go to plot there mean you will get a ball curve.\n",
    "\n",
    "- In CLT sample size (n) >= 30\n",
    "- In CLT mean of all samples plot looks like a ball curve\n",
    "- It is the foundation of many statistical techniques\n",
    "- It helps us to understand the behavior of the sampling distribution"
   ]
  },
  {
   "cell_type": "markdown",
   "id": "a20ddd35-34b0-4754-b37b-cb0dba538be9",
   "metadata": {},
   "source": [
    "## Q10: State the assumptions of the Central Limit Theorem.\n",
    "\n",
    "Ans :\n",
    "\n",
    "1. The data must follow the randomization condition.\n",
    "2. Samples should be independent of each other.\n",
    "3. Sample size should be not more than 10% of the population\n",
    "4. The sample size should be sufficiently large."
   ]
  },
  {
   "cell_type": "code",
   "execution_count": null,
   "id": "1038a0e1-df94-497f-9ebb-5bb0f8307c51",
   "metadata": {},
   "outputs": [],
   "source": []
  }
 ],
 "metadata": {
  "kernelspec": {
   "display_name": "Python 3 (ipykernel)",
   "language": "python",
   "name": "python3"
  },
  "language_info": {
   "codemirror_mode": {
    "name": "ipython",
    "version": 3
   },
   "file_extension": ".py",
   "mimetype": "text/x-python",
   "name": "python",
   "nbconvert_exporter": "python",
   "pygments_lexer": "ipython3",
   "version": "3.10.8"
  }
 },
 "nbformat": 4,
 "nbformat_minor": 5
}
