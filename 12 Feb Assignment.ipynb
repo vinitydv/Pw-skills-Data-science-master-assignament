{
 "cells": [
  {
   "cell_type": "code",
   "execution_count": 1,
   "id": "30ab4ae8-ad71-422a-a063-2674f270790f",
   "metadata": {},
   "outputs": [],
   "source": [
    "# Q1. What is an Exception in python? Write the difference between Exceptions and Syntax errors."
   ]
  },
  {
   "cell_type": "code",
   "execution_count": null,
   "id": "b1138cea-87fd-4ff6-b632-fc998ab226b0",
   "metadata": {},
   "outputs": [],
   "source": [
    "Ans :\n",
    "\n",
    "Exceptions: Exceptions are raised when the program is syntactically correct, but the code resulted in an error.\n",
    "Syntax Error : As the name suggests this error is caused by the wrong syntax in the code. It leads to the termination/block of the program."
   ]
  },
  {
   "cell_type": "code",
   "execution_count": 2,
   "id": "1c0e586f-faf1-43bf-80ba-f3215a6854bf",
   "metadata": {},
   "outputs": [],
   "source": [
    "# Q2. What happens when an exception is not handled? Explain with an example."
   ]
  },
  {
   "cell_type": "code",
   "execution_count": null,
   "id": "0707e3a7-80c0-431a-8f4c-338458b78cee",
   "metadata": {},
   "outputs": [],
   "source": [
    "Ans : Stop code to execute."
   ]
  },
  {
   "cell_type": "code",
   "execution_count": 3,
   "id": "bc1df74c-1b65-461a-b7f9-af6f9ad4906b",
   "metadata": {},
   "outputs": [
    {
     "ename": "ZeroDivisionError",
     "evalue": "division by zero",
     "output_type": "error",
     "traceback": [
      "\u001b[0;31m---------------------------------------------------------------------------\u001b[0m",
      "\u001b[0;31mZeroDivisionError\u001b[0m                         Traceback (most recent call last)",
      "Cell \u001b[0;32mIn[3], line 3\u001b[0m\n\u001b[1;32m      1\u001b[0m \u001b[38;5;66;03m# without exception handling\u001b[39;00m\n\u001b[1;32m      2\u001b[0m num \u001b[38;5;241m=\u001b[39m \u001b[38;5;241m20\u001b[39m\n\u001b[0;32m----> 3\u001b[0m num2 \u001b[38;5;241m=\u001b[39m \u001b[43mnum\u001b[49m\u001b[38;5;241;43m/\u001b[39;49m\u001b[38;5;241;43m0\u001b[39;49m\n\u001b[1;32m      4\u001b[0m \u001b[38;5;28mprint\u001b[39m(num2)\n",
      "\u001b[0;31mZeroDivisionError\u001b[0m: division by zero"
     ]
    }
   ],
   "source": [
    "# without exception handling\n",
    "num = 20\n",
    "num2 = num/0\n",
    "print(num2)"
   ]
  },
  {
   "cell_type": "code",
   "execution_count": 4,
   "id": "9f14242b-f85d-43ab-b989-e1c21fa59071",
   "metadata": {},
   "outputs": [
    {
     "name": "stdout",
     "output_type": "stream",
     "text": [
      "Error type is : division by zero\n"
     ]
    }
   ],
   "source": [
    "# with exception handling\n",
    "try:\n",
    "    num = 20\n",
    "    num1 = num/0\n",
    "    print(num1)\n",
    "except ZeroDivisionError as e:\n",
    "    print(f'Error type is : {e}')"
   ]
  },
  {
   "cell_type": "code",
   "execution_count": null,
   "id": "a8356ec9-2c95-4b40-a835-9d489583b9f1",
   "metadata": {},
   "outputs": [],
   "source": [
    "Q3. Which Python statements are used to catch and handle exceptions? Explain with an example."
   ]
  },
  {
   "cell_type": "code",
   "execution_count": null,
   "id": "03666eb7-52c6-46b4-9a5b-2dd0c4afc50f",
   "metadata": {},
   "outputs": [],
   "source": [
    "try:\n",
    "    statement(s)\n",
    "except ErrorType as e:\n",
    "    statement(s)\n",
    "else:\n",
    "    statement(s)\n",
    "finally:\n",
    "    statement(s)"
   ]
  },
  {
   "cell_type": "code",
   "execution_count": 5,
   "id": "6dcb5584-9bc2-40a0-aef6-942c1a38f1ef",
   "metadata": {},
   "outputs": [
    {
     "name": "stdout",
     "output_type": "stream",
     "text": [
      "Error type is : [Errno 2] No such file or directory: 'test1.txt'\n",
      "This is finally block\n"
     ]
    }
   ],
   "source": [
    "try:\n",
    "    with open('test1.txt','r') as file:\n",
    "        file.write(\"This file open in read mode\")\n",
    "except Exception as e:\n",
    "    print(f\"Error type is : {e}\")\n",
    "else:\n",
    "    print(\"This is else block run with try block\")\n",
    "finally:\n",
    "    print('This is finally block')"
   ]
  },
  {
   "cell_type": "code",
   "execution_count": null,
   "id": "a64b0cac-b674-4925-aef2-13dba413cd53",
   "metadata": {},
   "outputs": [],
   "source": [
    "Q4. Explain with an example:"
   ]
  },
  {
   "cell_type": "code",
   "execution_count": null,
   "id": "526b048f-8e38-4da2-83a0-c827f5e9f833",
   "metadata": {},
   "outputs": [],
   "source": [
    "Ans :\n",
    "\n",
    "a. try and else : eles execute after try execution, without try block, else block does not execute\n",
    "b. finally : finally block execute in every time,\n",
    "c. raise : raise is a keyword that is used to raise an exception manually by using Exception or any error class."
   ]
  },
  {
   "cell_type": "code",
   "execution_count": 6,
   "id": "4177b4f5-adea-4abf-991a-31b50f5ebb30",
   "metadata": {},
   "outputs": [
    {
     "name": "stdout",
     "output_type": "stream",
     "text": [
      "can only concatenate list (not \"tuple\") to list\n"
     ]
    }
   ],
   "source": [
    "try:\n",
    "    print([2,5,6,8]+(4,5.6))\n",
    "except TypeError as e:\n",
    "    print(e)\n",
    "else:\n",
    "    print('This will execute with try block')"
   ]
  },
  {
   "cell_type": "code",
   "execution_count": 7,
   "id": "2e0f1b0a-7b94-4058-bd45-776076131713",
   "metadata": {},
   "outputs": [
    {
     "name": "stdout",
     "output_type": "stream",
     "text": [
      "unsupported operand type(s) for +: 'int' and 'str'\n",
      "This is finally block\n"
     ]
    }
   ],
   "source": [
    "try:\n",
    "    print(90+'hello')\n",
    "except TypeError as e:\n",
    "    print(e)\n",
    "finally:\n",
    "    print(\"This is finally block\")"
   ]
  },
  {
   "cell_type": "code",
   "execution_count": 8,
   "id": "bd128f97-bcc2-4eb6-8a51-02a97a6a0954",
   "metadata": {},
   "outputs": [
    {
     "name": "stdin",
     "output_type": "stream",
     "text": [
      "Enter your age :  -9\n"
     ]
    },
    {
     "name": "stdout",
     "output_type": "stream",
     "text": [
      "Age must be grater than 0\n"
     ]
    }
   ],
   "source": [
    "#raise example\n",
    "class getError(Exception):\n",
    "    pass\n",
    "try:\n",
    "    age = int(input(\"Enter your age : \"))\n",
    "    if age<0:\n",
    "        raise getError('Age must be grater than 0')\n",
    "except getError as e:\n",
    "    print(e)"
   ]
  },
  {
   "cell_type": "code",
   "execution_count": 9,
   "id": "6a82bcb0-627c-4d56-9343-ffe46384408d",
   "metadata": {},
   "outputs": [
    {
     "name": "stdout",
     "output_type": "stream",
     "text": [
      "division by zero\n"
     ]
    }
   ],
   "source": [
    "try:\n",
    "    num = 10/0\n",
    "except Exception as e:\n",
    "    print(e)"
   ]
  },
  {
   "cell_type": "code",
   "execution_count": null,
   "id": "000eb670-d4d1-471c-9559-043a0fa3a319",
   "metadata": {},
   "outputs": [],
   "source": [
    "Q5. What are Custom Exceptions in python? Why do we need Custom Exceptions? Explain with an example."
   ]
  },
  {
   "cell_type": "code",
   "execution_count": null,
   "id": "8a32b08f-40a2-4585-a1fd-6963c01c72b1",
   "metadata": {},
   "outputs": [],
   "source": [
    "Ans:\n",
    "\n",
    "Python provide some classes to handle error manually or by user define, It is called custom exception.\n",
    "In Python, we can define custom exceptions by creating a new class that is derived from the built-in Exception class.\n",
    "When we are writing a large number of code in Python, it is a good practice to place all the user-defined exceptions that our program raises in a separate file.\n",
    "Many standard modules define their exceptions separately as exceptions.py or errors.py.\n",
    "When as exeception occurs, the program terminates suddenly.\n",
    "Suddenly termination of program may corrupt the program\n",
    "Execption may cause data loss form the database or a file."
   ]
  },
  {
   "cell_type": "code",
   "execution_count": null,
   "id": "c8efa174-4ba8-4a26-a5ac-7a209545e8a0",
   "metadata": {},
   "outputs": [],
   "source": [
    "class CustomError(Exception):\n",
    "    statement(.........)\n",
    "try:\n",
    "   statemtn(...........)\n",
    "except CustomError:\n",
    "    statement(.........)"
   ]
  },
  {
   "cell_type": "code",
   "execution_count": 10,
   "id": "68e7372a-406d-4434-a7d4-664b5681fcf9",
   "metadata": {},
   "outputs": [
    {
     "name": "stdin",
     "output_type": "stream",
     "text": [
      "Enter your amount :  8790\n"
     ]
    },
    {
     "name": "stdout",
     "output_type": "stream",
     "text": [
      "You are not eligible to withdraw this amount.\n"
     ]
    }
   ],
   "source": [
    "import logging\n",
    "logging.basicConfig(filename = 'test1.log', level = logging.DEBUG)\n",
    "\n",
    "class bankbalanceError(Exception):\n",
    "    \"\"\" my custom exception class \"\"\"\n",
    "try:\n",
    "    balance = 2300\n",
    "    withdraw = int(input(\"Enter your amount : \"))\n",
    "    if balance - withdraw <= 2000:\n",
    "        raise bankbalanceError('You are not eligible to withdraw this amount.')\n",
    "    else:\n",
    "        logging.info(balance - withdraw)\n",
    "except bankbalanceError as e:\n",
    "    print(e)"
   ]
  },
  {
   "cell_type": "code",
   "execution_count": null,
   "id": "d3afa29b-bf29-4917-a194-cde5ad5036c9",
   "metadata": {},
   "outputs": [],
   "source": [
    "Q6. Create a custom exception class. Use this class to handle an exception."
   ]
  },
  {
   "cell_type": "code",
   "execution_count": 11,
   "id": "26054a65-96e2-42d2-8092-b91548342ef5",
   "metadata": {},
   "outputs": [
    {
     "name": "stdin",
     "output_type": "stream",
     "text": [
      "Enter a your age :  20\n"
     ]
    }
   ],
   "source": [
    "import logging\n",
    "logging.basicConfig(filename = 'test2.log', level = logging.DEBUG)\n",
    "\n",
    "class InvalidAge(Exception):\n",
    "    \"Raised when the input value is less than 18\"\n",
    "    pass\n",
    "\n",
    "\n",
    "age = 18\n",
    "try:\n",
    "    input_age = int(input(\"Enter a your age : \"))\n",
    "    if input_age < age:\n",
    "        raise InvalidAge\n",
    "    else:\n",
    "        logging.info(\"Eligible to Vote\")\n",
    "        \n",
    "except InvalidAge:\n",
    "    logging.warning(\"Exception occurred: Invalid Age\")"
   ]
  },
  {
   "cell_type": "code",
   "execution_count": null,
   "id": "61b88902-7cdf-4acf-9a04-4a0a0d665513",
   "metadata": {},
   "outputs": [],
   "source": []
  },
  {
   "cell_type": "code",
   "execution_count": null,
   "id": "dfdade24-46a0-4d5b-b409-91936b1a2832",
   "metadata": {},
   "outputs": [],
   "source": []
  },
  {
   "cell_type": "code",
   "execution_count": null,
   "id": "f2d37f51-2d61-4c5d-9d42-6dcf986f2449",
   "metadata": {},
   "outputs": [],
   "source": []
  },
  {
   "cell_type": "code",
   "execution_count": null,
   "id": "b3a65c63-2d99-4af9-bfab-3a7050aa4b73",
   "metadata": {},
   "outputs": [],
   "source": []
  }
 ],
 "metadata": {
  "kernelspec": {
   "display_name": "Python 3 (ipykernel)",
   "language": "python",
   "name": "python3"
  },
  "language_info": {
   "codemirror_mode": {
    "name": "ipython",
    "version": 3
   },
   "file_extension": ".py",
   "mimetype": "text/x-python",
   "name": "python",
   "nbconvert_exporter": "python",
   "pygments_lexer": "ipython3",
   "version": "3.10.8"
  }
 },
 "nbformat": 4,
 "nbformat_minor": 5
}
