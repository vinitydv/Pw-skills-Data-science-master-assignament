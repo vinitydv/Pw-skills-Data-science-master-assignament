{
 "cells": [
  {
   "cell_type": "code",
   "execution_count": 1,
   "id": "9abd25af-fc07-4562-94e4-abe054bdbff9",
   "metadata": {},
   "outputs": [],
   "source": [
    "# Q1. What is Abstraction in Oops? Explain with an example.\n",
    "# Abstraction / Hide\n",
    "# Abstraction fundamental concept that refers to the process of hiding complex implementation details/code and exposing only essential information to the user.\n",
    "# Focusing on essential characteristics while ignoring or suppressing non-essential details."
   ]
  },
  {
   "cell_type": "code",
   "execution_count": 9,
   "id": "da7fca25-2320-4c8e-8c7d-c8dc17c4f2e0",
   "metadata": {},
   "outputs": [],
   "source": [
    "#insert abstract module\n",
    "from abc import ABC,abstractmethod"
   ]
  },
  {
   "cell_type": "code",
   "execution_count": 10,
   "id": "f5b0bde0-b298-4681-8f6f-82ff99b788f1",
   "metadata": {},
   "outputs": [],
   "source": [
    "#parent class\n",
    "class Shapes(ABC):                #use ABC method for creating abstract class \n",
    "    @abstractmethod              \n",
    "    def area(self):               # abstract class\n",
    "        pass\n",
    "    @abstractmethod\n",
    "    def primeter(self):           # abstract class\n",
    "        pass"
   ]
  },
  {
   "cell_type": "code",
   "execution_count": 11,
   "id": "e735028a-7d3d-48b0-9e6c-2e928857ff19",
   "metadata": {},
   "outputs": [],
   "source": [
    "# child class for Shapes parent class \n",
    "class Square_area(Shapes):\n",
    "    def __init__(self, side):\n",
    "        self.side = side\n",
    "    def area(self):\n",
    "        return self.side * self.side\n",
    "    def primeter(self):\n",
    "        return 4*self.side"
   ]
  },
  {
   "cell_type": "code",
   "execution_count": 12,
   "id": "ff9cc854-aa25-4838-bcb5-06ea3af695b7",
   "metadata": {},
   "outputs": [
    {
     "ename": "TypeError",
     "evalue": "Can't instantiate abstract class Shapes with abstract methods area, primeter",
     "output_type": "error",
     "traceback": [
      "\u001b[0;31m---------------------------------------------------------------------------\u001b[0m",
      "\u001b[0;31mTypeError\u001b[0m                                 Traceback (most recent call last)",
      "Cell \u001b[0;32mIn[12], line 1\u001b[0m\n\u001b[0;32m----> 1\u001b[0m obj \u001b[38;5;241m=\u001b[39m \u001b[43mShapes\u001b[49m\u001b[43m(\u001b[49m\u001b[43m)\u001b[49m \u001b[38;5;66;03m# We are not able to access parent class\u001b[39;00m\n",
      "\u001b[0;31mTypeError\u001b[0m: Can't instantiate abstract class Shapes with abstract methods area, primeter"
     ]
    }
   ],
   "source": [
    "obj = Shapes() # We are not able to access parent class"
   ]
  },
  {
   "cell_type": "code",
   "execution_count": 13,
   "id": "62f576c0-4812-4384-990d-c27c2c4dbc34",
   "metadata": {},
   "outputs": [],
   "source": [
    "obj_sq = Square_area(5)"
   ]
  },
  {
   "cell_type": "code",
   "execution_count": 14,
   "id": "b2a55596-49f4-44c4-87da-b7873ba46911",
   "metadata": {},
   "outputs": [
    {
     "data": {
      "text/plain": [
       "5"
      ]
     },
     "execution_count": 14,
     "metadata": {},
     "output_type": "execute_result"
    }
   ],
   "source": [
    "obj_sq.side"
   ]
  },
  {
   "cell_type": "code",
   "execution_count": 15,
   "id": "aed8cace-c054-491b-9a08-02786b7663ce",
   "metadata": {},
   "outputs": [
    {
     "ename": "NameError",
     "evalue": "name 'obj' is not defined",
     "output_type": "error",
     "traceback": [
      "\u001b[0;31m---------------------------------------------------------------------------\u001b[0m",
      "\u001b[0;31mNameError\u001b[0m                                 Traceback (most recent call last)",
      "Cell \u001b[0;32mIn[15], line 1\u001b[0m\n\u001b[0;32m----> 1\u001b[0m \u001b[43mobj\u001b[49m\u001b[38;5;241m.\u001b[39mperc_price\n",
      "\u001b[0;31mNameError\u001b[0m: name 'obj' is not defined"
     ]
    }
   ],
   "source": [
    "obj.perc_price"
   ]
  },
  {
   "cell_type": "code",
   "execution_count": 17,
   "id": "b12c2e0f-b477-4d9a-b5fa-255eccbc575b",
   "metadata": {},
   "outputs": [],
   "source": [
    "# Q2. Differentiate between Abstraction and Encapsulation. Explain with an example."
   ]
  },
  {
   "cell_type": "code",
   "execution_count": 18,
   "id": "f0d9892c-c525-4fd8-a2a3-12453fa44e8e",
   "metadata": {},
   "outputs": [],
   "source": [
    "# Abstraction Vs Encapsulation\n",
    "# Both Abstraction and Encapsulation are fundamental concepts in OOPs.\n",
    "# Abstraction\n",
    "# Hide class from user\n",
    "# It solves an issue at the design level\n",
    "# It is implementing by using abstract @abstractmethod.\n",
    "# Abstract class only mehtods decleration\n",
    "\n",
    "# Encapsulation\n",
    "# Hide somethig from class form user\n",
    "# Solves an issue at implementation level\n",
    "# It can be implemented by using _ or __ (private, public, protected).\n",
    "# We use the getter and setter methods to hide the data\n",
    "# Encapsulation class mehtods decleration and implementation"
   ]
  },
  {
   "cell_type": "code",
   "execution_count": 19,
   "id": "35dafd10-251b-4ba9-9a21-9db16f826203",
   "metadata": {},
   "outputs": [],
   "source": [
    "#abstraction\n",
    "from abc import abstractmethod,ABC\n",
    "class Abstrac(ABC):\n",
    "    @abstractmethod\n",
    "    def test():\n",
    "        pass\n",
    "    @abstractmethod\n",
    "    def test2():\n",
    "        pass"
   ]
  },
  {
   "cell_type": "code",
   "execution_count": 20,
   "id": "0ffc0013-6fd6-41f5-aa04-ef8f75e50c92",
   "metadata": {},
   "outputs": [],
   "source": [
    "#Encapsulation\n",
    "class Encap:\n",
    "    def __init__(self, arg1,arg2,arg3):\n",
    "        self.arg1 = arg1                            #public \n",
    "        self._arg2 = arg2                           #protected\n",
    "        self.__arg3 = arg3                          #private\n",
    "    def test(self):\n",
    "        return self.arg1 + self.arg2 + self.arg3"
   ]
  },
  {
   "cell_type": "code",
   "execution_count": 21,
   "id": "d1e488e6-f877-42fd-b173-890798f169b8",
   "metadata": {},
   "outputs": [],
   "source": [
    "# Q3. What is abc module in python? Why is it used?"
   ]
  },
  {
   "cell_type": "code",
   "execution_count": 22,
   "id": "1afa3bc2-ecec-4737-ab4c-faa799b7c1fa",
   "metadata": {},
   "outputs": [],
   "source": [
    "# It is Abstract Base Classes module\n",
    "# It is used to abstract a class from user\n",
    "# By using an abstract class, a class can derive identity from another class without any object inheritance"
   ]
  },
  {
   "cell_type": "code",
   "execution_count": 23,
   "id": "7e6628c8-9685-438b-8939-6628bd263ae9",
   "metadata": {},
   "outputs": [],
   "source": [
    "# Q4. How can we achieve data abstraction?"
   ]
  },
  {
   "cell_type": "code",
   "execution_count": 26,
   "id": "f19cccf9-4451-402e-9e46-8c12cc2ba4e9",
   "metadata": {},
   "outputs": [],
   "source": [
    "# By using child class\n",
    "# Stop to inherit parent class methods in child class as abstract methods\n",
    "# Used abstract class methods in child class\n"
   ]
  },
  {
   "cell_type": "code",
   "execution_count": null,
   "id": "fb2b50f7-34ed-4df2-96a5-5973087438c1",
   "metadata": {},
   "outputs": [],
   "source": [
    "#example\n",
    "child_obj = Child_class(par,par2)\n",
    "child_obj.child_method()"
   ]
  },
  {
   "cell_type": "code",
   "execution_count": 27,
   "id": "057ef602-9849-4caa-be5f-0a32a31529e7",
   "metadata": {},
   "outputs": [],
   "source": [
    "# Q5. Can we create an instance of an abstract class? Explain your answer.\n"
   ]
  },
  {
   "cell_type": "code",
   "execution_count": 28,
   "id": "1a6caf68-732e-4e30-a522-f72a45b629e4",
   "metadata": {},
   "outputs": [],
   "source": [
    "# No\n",
    "\n",
    "# we can not create an instance of an abstract class directly...\n",
    "# It is (abstract class) create for common use for any child class\n",
    "# If we go to create an instance, it will throug an \"TypeError\""
   ]
  },
  {
   "cell_type": "code",
   "execution_count": 29,
   "id": "48b8e178-0b7d-4aed-b795-dbe370e4ed05",
   "metadata": {},
   "outputs": [],
   "source": [
    "from abc import ABC,abstractmethod\n",
    "\n",
    "class test_class(ABC):\n",
    "    @abstractmethod\n",
    "    def area(self):\n",
    "        pass"
   ]
  },
  {
   "cell_type": "code",
   "execution_count": 30,
   "id": "4237c19f-a8a1-4909-a2d1-2352d93ad24b",
   "metadata": {},
   "outputs": [
    {
     "ename": "TypeError",
     "evalue": "Can't instantiate abstract class test_class with abstract method area",
     "output_type": "error",
     "traceback": [
      "\u001b[0;31m---------------------------------------------------------------------------\u001b[0m",
      "\u001b[0;31mTypeError\u001b[0m                                 Traceback (most recent call last)",
      "Cell \u001b[0;32mIn[30], line 1\u001b[0m\n\u001b[0;32m----> 1\u001b[0m obj \u001b[38;5;241m=\u001b[39m \u001b[43mtest_class\u001b[49m\u001b[43m(\u001b[49m\u001b[43m)\u001b[49m\n",
      "\u001b[0;31mTypeError\u001b[0m: Can't instantiate abstract class test_class with abstract method area"
     ]
    }
   ],
   "source": [
    "\n",
    "obj = test_class()"
   ]
  },
  {
   "cell_type": "code",
   "execution_count": null,
   "id": "c9a9f82a-dbf8-47ca-8752-0d928b7d2664",
   "metadata": {},
   "outputs": [],
   "source": []
  }
 ],
 "metadata": {
  "kernelspec": {
   "display_name": "Python 3 (ipykernel)",
   "language": "python",
   "name": "python3"
  },
  "language_info": {
   "codemirror_mode": {
    "name": "ipython",
    "version": 3
   },
   "file_extension": ".py",
   "mimetype": "text/x-python",
   "name": "python",
   "nbconvert_exporter": "python",
   "pygments_lexer": "ipython3",
   "version": "3.10.8"
  }
 },
 "nbformat": 4,
 "nbformat_minor": 5
}
