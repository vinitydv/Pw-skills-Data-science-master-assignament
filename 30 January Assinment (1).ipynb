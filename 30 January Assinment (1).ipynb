{
 "cells": [
  {
   "cell_type": "code",
   "execution_count": 1,
   "id": "0685b13b-1a87-488a-9174-e19b7bae6b87",
   "metadata": {},
   "outputs": [
    {
     "name": "stdin",
     "output_type": "stream",
     "text": [
      "enter the percentage 80\n"
     ]
    },
    {
     "name": "stdout",
     "output_type": "stream",
     "text": [
      "Grade C\n"
     ]
    }
   ],
   "source": [
    "# print grade according to percentage\n",
    "per=int(input(\"enter the percentage\"))\n",
    "if per>90:\n",
    "    print(\"Grade A\")\n",
    "elif per>80 and per<=90:\n",
    "    print(\"Grade B\")\n",
    "elif per>=60 and per<=90:\n",
    "    print(\"Grade C\")\n",
    "else:\n",
    "    print(\"Grade D\")"
   ]
  },
  {
   "cell_type": "code",
   "execution_count": 2,
   "id": "3b3a8683-4934-4cc2-bb0e-65ebbd3a4cd1",
   "metadata": {},
   "outputs": [
    {
     "name": "stdin",
     "output_type": "stream",
     "text": [
      "enter the cost price 10\n"
     ]
    },
    {
     "name": "stdout",
     "output_type": "stream",
     "text": [
      "5%\n"
     ]
    }
   ],
   "source": [
    "#Write a program to accept the cost price of a bike and display the road tax to be paid according to criteria:\n",
    "cp=int(input(\"enter the cost price\"))\n",
    "if cp>100000:\n",
    "    print(\"15%\")\n",
    "elif cp>50000 and cp<=100000:\n",
    "    print(\"10%\")\n",
    "elif cp<=50000:\n",
    "    print(\"5%\")"
   ]
  },
  {
   "cell_type": "code",
   "execution_count": 3,
   "id": "b78954b5-2a58-43a4-a739-451c49afc847",
   "metadata": {},
   "outputs": [
    {
     "name": "stdin",
     "output_type": "stream",
     "text": [
      "enter the city name dellhi\n"
     ]
    }
   ],
   "source": [
    "#Accept any city from the user and display monuments of that city.\n",
    "city=str(input(\"enter the city name\"))\n",
    "if city==\"Delhi\" or city==\"delhi\":\n",
    "    print(\"Red Fort\")\n",
    "elif city==\"Agra\" or city==\"agra\":\n",
    "    print(\"Taj Mahal\")\n",
    "elif city==\"Jaipur\" or city==\"jaipur\":\n",
    "    print(\"Jal Mahal\")"
   ]
  },
  {
   "cell_type": "code",
   "execution_count": 4,
   "id": "e36beb37-c775-41de-b319-1713c2fd50ad",
   "metadata": {},
   "outputs": [
    {
     "name": "stdin",
     "output_type": "stream",
     "text": [
      "enter the number 1\n"
     ]
    },
    {
     "name": "stdout",
     "output_type": "stream",
     "text": [
      "0\n"
     ]
    }
   ],
   "source": [
    "#Check how many times a given number can be divided by 3 before it is less than or equal to 10.\n",
    "n=int(input(\"enter the number\"))\n",
    "count=0\n",
    "while n>10:\n",
    "    n=n/3\n",
    "    count+=1\n",
    "print(count)"
   ]
  },
  {
   "cell_type": "code",
   "execution_count": null,
   "id": "744640a9-51d9-4b8d-b253-528791eb17f4",
   "metadata": {},
   "outputs": [],
   "source": [
    "#Why and When to Use while Loop in Python give a detailed description with example\n",
    "\n",
    "Python While Loop is used to execute a block of statements repeatedly until a given condition is satisfied.\n",
    "And when the condition becomes false, the line immediately after the loop in the program is executed.\n",
    "While loop falls under the category of indefinite iteration. \n",
    "Indefinite iteration means that the number of times the loop is executed isn’t specified explicitly in advance. \n",
    "\n",
    "Statements represent all the statements indented by the same number of character spaces after a programming\n",
    "construct are considered to be part of a single block of code.\n",
    "Python uses indentation as its method of grouping statements.\n",
    "When a while loop is executed, expr is first evaluated in a Boolean context and if it is true, the loop body is executed.\n",
    "Then the expr is checked again, if it is still true then the body is executed again and this continues until\n",
    "the expression becomes false.\n",
    "\n",
    "\n",
    "example--\n",
    "#program to display numbers from 1 to 5\n",
    "# initialize the variable\n",
    "i = 1\n",
    "n = 5\n",
    "# while loop from i = 1 to 5\n",
    "while i <= n:\n",
    "    print(i)\n",
    "    i = i + 1"
   ]
  },
  {
   "cell_type": "code",
   "execution_count": 6,
   "id": "b0364c82-f87f-4c98-b79b-201f1c905674",
   "metadata": {},
   "outputs": [
    {
     "name": "stdout",
     "output_type": "stream",
     "text": [
      "1st\n",
      "\n"
     ]
    },
    {
     "name": "stdin",
     "output_type": "stream",
     "text": [
      "Enter number of rows :  3\n"
     ]
    },
    {
     "name": "stdout",
     "output_type": "stream",
     "text": [
      "* \n",
      "* * \n",
      "* * * \n",
      "\n",
      "2nd\n",
      "\n",
      "* * * \n",
      "* * \n",
      "* \n",
      "\n",
      "3rd\n",
      "\n",
      "    * \n",
      "  * * \n",
      "* * * \n",
      "  * * \n",
      "    * \n",
      "      \n"
     ]
    }
   ],
   "source": [
    "#Use nested while loop to print 3 different pattern.\n",
    "#question5\n",
    "print(\"1st\\n\")\n",
    "n = int(input('Enter number of rows : '))\n",
    " \n",
    "i = 1\n",
    "while i <= n :\n",
    "    j = 1\n",
    "    while j <= i:\n",
    "        print(\"*\", end = \" \")\n",
    "        j += 1\n",
    "    print()\n",
    "    i += 1\n",
    "    \n",
    "    \n",
    "print('\\n2nd\\n')\n",
    "#n = int(input('Enter number of rows : '))\n",
    " \n",
    "i = 1\n",
    "while i <= n :\n",
    "    j = n\n",
    "    while j >= i:\n",
    "        print(\"*\", end = \" \")\n",
    "        j -= 1\n",
    "    print()\n",
    "    i += 1\n",
    "\n",
    "print('\\n3rd\\n')\n",
    "\n",
    "i = 1\n",
    "while i <= n:\n",
    "    j = i\n",
    "    while j < n:\n",
    "        # display space\n",
    "        print(' ', end=' ')\n",
    "        j += 1\n",
    "    k = 1\n",
    "    while k <= i:\n",
    "        print('*', end=' ')\n",
    "        k += 1\n",
    "    print()\n",
    "    i += 1\n",
    "\n",
    "i = n\n",
    "while i >= 1:\n",
    "    j = i\n",
    "    while j <= n:\n",
    "        print(' ', end=' ')\n",
    "        j += 1\n",
    "    k = 1\n",
    "    while k < i:\n",
    "        print('*', end=' ')\n",
    "        k += 1\n",
    "    print('')\n",
    "    i -= 1"
   ]
  },
  {
   "cell_type": "code",
   "execution_count": 7,
   "id": "4ce711a3-dd8e-4a0a-8005-662d6c6f72c4",
   "metadata": {},
   "outputs": [
    {
     "name": "stdout",
     "output_type": "stream",
     "text": [
      "10\n",
      "9\n",
      "8\n",
      "7\n",
      "6\n",
      "5\n",
      "4\n",
      "3\n",
      "2\n",
      "1\n"
     ]
    }
   ],
   "source": [
    "#7. Reverse a while loop to display numbers from 10 to 1.\n",
    "num=10\n",
    "while num>0:\n",
    "    print(num)\n",
    "    num-=1"
   ]
  },
  {
   "cell_type": "code",
   "execution_count": null,
   "id": "c4484cf0-4303-4c2c-ba2a-df9ddefa8ef3",
   "metadata": {},
   "outputs": [],
   "source": []
  }
 ],
 "metadata": {
  "kernelspec": {
   "display_name": "Python 3 (ipykernel)",
   "language": "python",
   "name": "python3"
  },
  "language_info": {
   "codemirror_mode": {
    "name": "ipython",
    "version": 3
   },
   "file_extension": ".py",
   "mimetype": "text/x-python",
   "name": "python",
   "nbconvert_exporter": "python",
   "pygments_lexer": "ipython3",
   "version": "3.10.8"
  }
 },
 "nbformat": 4,
 "nbformat_minor": 5
}
