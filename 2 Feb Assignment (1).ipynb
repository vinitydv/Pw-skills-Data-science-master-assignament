{
 "cells": [
  {
   "cell_type": "code",
   "execution_count": null,
   "id": "7a728f86-ae65-4232-9c50-6149e3db3c64",
   "metadata": {},
   "outputs": [],
   "source": [
    "#Explain with an example each when to use a for loop and a while loop.\n",
    "-->for loop\n",
    "A for loop is a control flow statement that executes code for a predefined number of iterations. \n",
    "The keyword used in this control flow statement is “for”.\n",
    "When the number of iterations is already known, the for loop is used.\n",
    "\n",
    "# input list\n",
    "inputList = [10, 20, 30, 40, 50]\n",
    "print(\"Input list elements:\")\n",
    "# traversing through all elements of the list using for loop\n",
    "for element in inputList:\n",
    "   # printing each element of the list\n",
    "   print(element)\n",
    "    \n",
    "--->While Loop\n",
    "A loop that runs a single statement or a set of statements for a given true condition.\n",
    "This loop is represented by the keyword \"while.\" When the number of iterations is unknown,\n",
    "a \"while\" loop is used. The statement is repeated until the boolean value is false.\n",
    "Because the condition is tested at the beginning of a while loop, it is also known as the pre-test loop.\n",
    "# Initializing a dummy variable with 1\n",
    "i = 1\n",
    "# Iterate until the given condition is true\n",
    "while i < 10:\n",
    "   # printing the current value of the above variable\n",
    "   print(i)\n",
    "   # incrementing the value of i value by 1\n",
    "   i += 1"
   ]
  },
  {
   "cell_type": "code",
   "execution_count": 1,
   "id": "8c63a03d-e533-4c89-a9b5-3d094a50371a",
   "metadata": {},
   "outputs": [
    {
     "name": "stdout",
     "output_type": "stream",
     "text": [
      "The sum is 55\n",
      "The product is 3628800\n",
      "The sum is 55\n",
      "The product is 3628800\n"
     ]
    }
   ],
   "source": [
    "#Write a python program to print the sum and product of the first 10 natural numbers using for\n",
    "#and while loop.\n",
    "## using while loop\n",
    "num = 10 \n",
    "  \n",
    "if num < 0:  \n",
    "   print(\"Enter a positive number\")  \n",
    "else:  \n",
    "   sum = 0 \n",
    "   product=1\n",
    "   # use while loop to iterate un till zero  \n",
    "   while(num > 0):  \n",
    "       sum += num \n",
    "       product=num*product\n",
    "       num -= 1  \n",
    "   print(\"The sum is\",sum)\n",
    "   print(\"The product is\",product)\n",
    "    \n",
    "# using for loop\n",
    "num = 10 \n",
    "  \n",
    "if num < 0:  \n",
    "   print(\"Enter a positive number\")  \n",
    "else:  \n",
    "   sum = 0 \n",
    "   product=1\n",
    "   # use while loop to iterate un till zero  \n",
    "   for i in range(1,11):  \n",
    "       sum += num \n",
    "       product=num*product\n",
    "       num -= 1  \n",
    "   print(\"The sum is\",sum)\n",
    "   print(\"The product is\",product)"
   ]
  },
  {
   "cell_type": "code",
   "execution_count": 2,
   "id": "48520a70-0966-407a-bc5c-f0cf87af6771",
   "metadata": {},
   "outputs": [
    {
     "name": "stdin",
     "output_type": "stream",
     "text": [
      " 2250\n"
     ]
    },
    {
     "name": "stdout",
     "output_type": "stream",
     "text": [
      "41050\n"
     ]
    }
   ],
   "source": [
    "# Create a python program to compute the electricity bill for a household.\n",
    "# The per-unit charges in rupees are as follows: For the first 100 units, the user will be charged Rs. 4.5 per\n",
    "# unit, for the next 100 units, the user will be charged Rs. 6 per unit, and for the next 100 units, the user will\n",
    "# be charged Rs. 10 per unit, After 300 units and above the user will be charged Rs. 20 per unit.\n",
    "# You are required to take the units of electricity consumed in a month from the user as input.\n",
    "# Your program must pass this test case: when the unit of electricity consumed by the user in a month is\n",
    "# 310, the total electricity bill should be 2250.\n",
    "\n",
    "unit = int(input())\n",
    "if (unit > 0 and unit <=100):\n",
    "    print(int(100*4.5))\n",
    "elif (unit > 100 and unit < 200):\n",
    "    print(int((100*4.5)+(unit-100)*6))\n",
    "elif (unit>200 and unit < 300):\n",
    "    print(int((100*4.5)+(100*6)+(unit-300)*10))\n",
    "elif (unit > 300):\n",
    "    print(int((100*4.5)+(100*6)+(100*10)+(unit-300)*20))"
   ]
  },
  {
   "cell_type": "code",
   "execution_count": 3,
   "id": "cfb6ba9a-8caf-4825-abf9-0741b40a664d",
   "metadata": {},
   "outputs": [
    {
     "name": "stdout",
     "output_type": "stream",
     "text": [
      "\n",
      "using for loop\n",
      "\n",
      "The list of cubes in 1 to 100 that are divided by 4 or 5 is : \n",
      " [2, 4, 5, 6, 8, 10, 12, 14, 15, 16, 18, 20, 22, 24, 25, 26, 28, 30, 32, 34, 35, 36, 38, 40, 42, 44, 45, 46, 48, 50, 52, 54, 55, 56, 58, 60, 62, 64, 65, 66, 68, 70, 72, 74, 75, 76, 78, 80, 82, 84, 85, 86, 88, 90, 92, 94, 95, 96, 98, 100] \n",
      " using while loop\n",
      "\n",
      "The list of cubes in 1 to 100 that are divided by 4 or 5 is : \n",
      " [2, 4, 5, 6, 8, 10, 12, 14, 15, 16, 18, 20, 22, 24, 25, 26, 28, 30, 32, 34, 35, 36, 38, 40, 42, 44, 45, 46, 48, 50, 52, 54, 55, 56, 58, 60, 62, 64, 65, 66, 68, 70, 72, 74, 75, 76, 78, 80, 82, 84, 85, 86, 88, 90, 92, 94, 95, 96, 98, 100] "
     ]
    }
   ],
   "source": [
    "# Q4. Create a list of numbers from 1 to 100. Use for loop and while loop to calculate the cube of each\n",
    "# number and if the cube of that number is divisible by 4 or 5 then append that number in a list and print\n",
    "# that list.\n",
    "print(\"\\nusing for loop\\n\")\n",
    "mylist=[]\n",
    "cubeans=[]\n",
    "for i in range(1,101):\n",
    "    mylist.append(i)\n",
    "    cube=i**3\n",
    "    if(cube%4==0 or cube%5==0):\n",
    "        cubeans.append(i)\n",
    "print(\"The list of cubes in 1 to 100 that are divided by 4 or 5 is : \\n\",cubeans,end=\" \")\n",
    "\n",
    "##using while loop\n",
    "print(\"\\n using while loop\\n\")\n",
    "i=1\n",
    "while(i>=100):\n",
    "    mylist.append(i)\n",
    "    i+=1\n",
    "    cube=i**3\n",
    "    if(cube%4==0 or cube%5==0):\n",
    "        cubeans.append(i)\n",
    "print(\"The list of cubes in 1 to 100 that are divided by 4 or 5 is : \\n\",cubeans,end=\" \")  "
   ]
  },
  {
   "cell_type": "code",
   "execution_count": 4,
   "id": "5b73882c-4d16-491d-9988-4843240368e6",
   "metadata": {},
   "outputs": [
    {
     "name": "stdout",
     "output_type": "stream",
     "text": [
      "The number of vowels in string: 12\n"
     ]
    }
   ],
   "source": [
    "# Write a program to filter count vowels in the below-given string.\n",
    "string = \"I want to become a data scientist\"\n",
    "string=\"i want to become a data scientist\"\n",
    "vowels=\"aeiou\"\n",
    "count=0\n",
    "for i in string:\n",
    "    if(i in vowels):\n",
    "        count+=1\n",
    "print(\"The number of vowels in string:\",count) "
   ]
  },
  {
   "cell_type": "code",
   "execution_count": null,
   "id": "192e84bb-79d9-4c97-9072-ba91612e3d42",
   "metadata": {},
   "outputs": [],
   "source": []
  }
 ],
 "metadata": {
  "kernelspec": {
   "display_name": "Python 3 (ipykernel)",
   "language": "python",
   "name": "python3"
  },
  "language_info": {
   "codemirror_mode": {
    "name": "ipython",
    "version": 3
   },
   "file_extension": ".py",
   "mimetype": "text/x-python",
   "name": "python",
   "nbconvert_exporter": "python",
   "pygments_lexer": "ipython3",
   "version": "3.10.8"
  }
 },
 "nbformat": 4,
 "nbformat_minor": 5
}
