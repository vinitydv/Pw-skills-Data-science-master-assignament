{
 "cells": [
  {
   "cell_type": "code",
   "execution_count": null,
   "id": "067a986c-cc87-4ce1-80bf-1539a192c18b",
   "metadata": {},
   "outputs": [],
   "source": [
    "# Q1. Create a function which will take a list as an argument and return the product of all the numbers\n",
    "# after creating a flat list.\n",
    "# Use the below-given list as an argument for your function.\n",
    "# list1 = [1,2,3,4, [44,55,66, True], False, (34,56,78,89,34), {1,2,3,3,2,1}, {1:34, \"key2\": [55, 67, 78, 89], 4: (45,\n",
    "# 22, 61, 34)}, [56, 'data science'], 'Machine Learning']\n",
    "# Note: you must extract numeric keys and values of the dictionary also."
   ]
  },
  {
   "cell_type": "code",
   "execution_count": 1,
   "id": "b959c00c-d565-42ce-adfd-58ad761fd9e7",
   "metadata": {},
   "outputs": [
    {
     "name": "stdout",
     "output_type": "stream",
     "text": [
      "Flat list : [1, 2, 3, 4, 44, 55, 66, True, False, 34, 56, 78, 89, 34, 1, 2, 3, 1, 34, 'key2', 55, 67, 78, 89, 4, 45, 22, 61, 34, 56, 'data science', 'Machine Learning']\n",
      "\n",
      "Product is: 4134711838987085478833841242112000\n"
     ]
    }
   ],
   "source": [
    "def flat_List_Creation(lst):\n",
    "    \"\"\"Function for creating a flat list from the given iterable\"\"\"\n",
    "    \n",
    "    flat_lst = []\n",
    "    \n",
    "    for item in lst:\n",
    "        \n",
    "        if isinstance(item, (int, float, str)):\n",
    "            flat_lst.append(item)\n",
    "            \n",
    "        elif isinstance(item, dict):\n",
    "            for key, value in item.items():\n",
    "                if isinstance(key, (int, float, str)):\n",
    "                    flat_lst.append(key)\n",
    "                else:\n",
    "                    flat_lst.extend(flat_List_Creation(key))\n",
    "                    \n",
    "                if isinstance(value, (int, float, str)):\n",
    "                    flat_lst.append(value)\n",
    "                else:\n",
    "                    flat_lst.extend(flat_List_Creation(value))\n",
    "            \n",
    "        else:\n",
    "            flat_lst.extend(flat_List_Creation(item))\n",
    "            \n",
    "    return flat_lst\n",
    "    \n",
    "def num_Product(flat_lst):\n",
    "    \"\"\"Function to calculate the product of all numbers in the flat list\"\"\"\n",
    "    product = 1\n",
    "    \n",
    "    for ele in flat_lst:\n",
    "        \n",
    "        if type(ele) == int or type(ele) == float:\n",
    "            product *= ele\n",
    "       \n",
    "    print(f\"\\nProduct is: {product}\")\n",
    "        \n",
    "\n",
    "\n",
    "list1 = [1,2,3,4, [44,55,66, True], False, (34,56,78,89,34), {1,2,3,3,2,1}, {1:34, \"key2\": [55, 67, 78, 89], 4: (45, 22, 61, 34)}, [56, 'data science'], 'Machine Learning']\n",
    "\n",
    "flat_lst = flat_List_Creation(list1) \n",
    "print(f\"Flat list : {flat_lst}\")\n",
    "num_Product(flat_lst)"
   ]
  },
  {
   "cell_type": "code",
   "execution_count": null,
   "id": "76588258-5b03-4365-9859-4498004992c5",
   "metadata": {},
   "outputs": [],
   "source": [
    "# Q2. Write a python program for encrypting a message sent to you by your friend. The logic of encryption\n",
    "# should be such that, for a the output should be z. For b, the output should be y. For c, the output should\n",
    "# be x respectively. Also, the whitespace should be replaced with a dollar sign. Keep the punctuation\n",
    "# marks unchanged.\n",
    "# Input Sentence: I want to become a Data Scientist.\n",
    "# Encrypt the above input sentence using the program you just created.\n",
    "# Note: Convert the given input sentence into lowercase before encrypting. The final output should be\n",
    "# lowercase."
   ]
  },
  {
   "cell_type": "code",
   "execution_count": 2,
   "id": "6a86bb2b-79bf-4552-8bc3-c2490347c3e4",
   "metadata": {},
   "outputs": [
    {
     "name": "stdout",
     "output_type": "stream",
     "text": [
      "The encrypted message is : r$dzmg$gl$yvxlnv$z$wzgz$hxrvmgrhg.\n"
     ]
    }
   ],
   "source": [
    "def encrypt(msg):\n",
    "    \"\"\"The function helps in encrypting your message!\"\"\"\n",
    "    \n",
    "    encryption_dict = {\"a\": \"z\", \"b\": \"y\", \"c\": \"x\", \"d\": \"w\", \"e\": \"v\",\"f\": \"u\",\"g\": \"t\",\"h\": \"s\",\n",
    "                       \"i\": \"r\",\"j\": \"q\",\"k\": \"p\",\"l\": \"o\",\"m\": \"n\",\"n\": \"m\",\"o\": \"l\",\"p\": \"k\",\n",
    "                       \"q\": \"j\",\"r\": \"i\",\"s\": \"h\",\"t\": \"g\",\"u\": \"f\",\"v\": \"e\",\"w\": \"d\",\"x\": \"c\",\n",
    "                       \"y\": \"b\",\"z\": \"a\"\n",
    "    }\n",
    "    \n",
    "    msg = msg.lower()\n",
    "    encrypted_msg = \"\"\n",
    "    \n",
    "    for char in msg:\n",
    "        if char.isalpha():\n",
    "            char = encryption_dict[char]\n",
    "            \n",
    "        if char == \" \":\n",
    "            char = \"$\"\n",
    "            \n",
    "        encrypted_msg += char\n",
    "        \n",
    "    return encrypted_msg\n",
    "\n",
    "\n",
    "msg = \"I want to become a Data Scientist.\"\n",
    "encrypted_msg = encrypt(msg)\n",
    "print(f\"The encrypted message is : {encrypted_msg}\")"
   ]
  },
  {
   "cell_type": "code",
   "execution_count": null,
   "id": "6cccfd29-a50c-4c4f-a4e1-abf1c691db6e",
   "metadata": {},
   "outputs": [],
   "source": []
  }
 ],
 "metadata": {
  "kernelspec": {
   "display_name": "Python 3 (ipykernel)",
   "language": "python",
   "name": "python3"
  },
  "language_info": {
   "codemirror_mode": {
    "name": "ipython",
    "version": 3
   },
   "file_extension": ".py",
   "mimetype": "text/x-python",
   "name": "python",
   "nbconvert_exporter": "python",
   "pygments_lexer": "ipython3",
   "version": "3.10.8"
  }
 },
 "nbformat": 4,
 "nbformat_minor": 5
}
