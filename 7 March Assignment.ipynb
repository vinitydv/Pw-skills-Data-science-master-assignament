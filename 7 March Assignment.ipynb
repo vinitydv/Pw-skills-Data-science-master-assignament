{
 "cells": [
  {
   "cell_type": "markdown",
   "id": "a21c3d2d-ca19-4736-bc76-ce4478c35619",
   "metadata": {},
   "source": [
    "# Q1. What are the three measures of central tendency?"
   ]
  },
  {
   "cell_type": "markdown",
   "id": "cb7b2d2d-8c9a-4a88-9255-0efb3c7d6b56",
   "metadata": {},
   "source": [
    "The three measures of central tendency are:\n",
    "\n",
    "1. Mean: The mean is the average of a dataset, calculated by adding up all the values in the dataset and then dividing by the number of values. It is a common measure of central tendency used in statistics.\n",
    "\n",
    "2. Median: The median is the middle value in a dataset when the values are arranged in order from lowest to highest. It is a good measure of central tendency to use when the dataset has extreme values or is not normally distributed.\n",
    "\n",
    "3. Mode: The mode is the value that appears most frequently in a dataset. It is a useful measure of central tendency when dealing with categorical data or looking for the most common value in a dataset.\n",
    "\n",
    "Each of these measures provides information about the central or typical value of a dataset, but they each have their strengths and weaknesses and are useful in different situations."
   ]
  },
  {
   "cell_type": "markdown",
   "id": "b8b76a57-990c-48d8-8ff8-8a08581c9ebd",
   "metadata": {},
   "source": [
    "# Q2. What is the difference between the mean, median, and mode? How are they used to measure the central tendency of a dataset?"
   ]
  },
  {
   "cell_type": "markdown",
   "id": "212fb1be-7f44-493d-aa63-4030b0ac04b1",
   "metadata": {},
   "source": [
    "The mean, median, and mode are measures of central tendency used in statistics to describe the typical or central value of a dataset.\n",
    "\n",
    "The mean is the sum of all the values in a dataset divided by the number of values. It is sometimes referred to as the average. To calculate the mean, you add up all the values in a dataset and divide by the number of values.\n",
    "\n",
    "The median is the middle value in a dataset when the values are arranged in order from lowest to highest. To find the median, you list all the values in order and select the middle value. If the dataset has an even number of values, then the median is the average of the two middle values.\n",
    "\n",
    "The mode is the value that appears most frequently in a dataset. If no value appears more frequently than any other, then the dataset has no mode.\n",
    "\n",
    "The choice of which measure of central tendency to use depends on the type of data and the specific question being asked.\n",
    "\n",
    "The mean is a good measure to use when the data is normally distributed or when the dataset does not have any extreme values. It is sensitive to outliers, which can affect its value.\n",
    "\n",
    "The median is a good measure to use when the data is not normally distributed or when there are extreme values that would affect the mean. It is not sensitive to outliers, which makes it a more robust measure of central tendency.\n",
    "\n",
    "The mode is useful when looking for the most common value or when dealing with categorical data. It is not as commonly used as the mean or median in statistics.\n",
    "\n",
    "In summary, the mean, median, and mode are all measures of central tendency used to describe a dataset. The choice of which one to use depends on the data and the question being asked."
   ]
  },
  {
   "cell_type": "markdown",
   "id": "34b02278-6e8b-4489-836f-bd979e1772fd",
   "metadata": {},
   "source": [
    "# Q3. Measure the three measures of central tendency for the given height data:\n",
    "# [178,177,176,177,178.2,178,175,179,180,175,178.9,176.2,177,172.5,178,176.5]"
   ]
  },
  {
   "cell_type": "markdown",
   "id": "9e59065c-b13c-4679-96a6-441bdda97a17",
   "metadata": {},
   "source": [
    "To find the three measures of central tendency for the given height data, we can calculate the mean, median, and mode:\n",
    "\n",
    "1. Mean:\n",
    "To find the mean, we add up all the values and divide by the total number of values:\n",
    "(178 + 177 + 176 + 177 + 178.2 + 178 + 175 + 179 + 180 + 175 + 178.9 + 176.2 + 177 + 172.5 + 178 + 176.5) / 16 = 177.3\n",
    "\n",
    "So the mean height is 177.3 cm.\n",
    "\n",
    "2. Median:\n",
    "To find the median, we need to arrange the data in order from lowest to highest and find the middle value. If there are an even number of values, we take the average of the two middle values.\n",
    "172.5, 175, 175, 176, 176.2, 176.5, 177, 177, 178, 178, 178, 178.2, 178.9, 179, 180\n",
    "\n",
    "We can see that there are 16 values, so the middle value will be the average of the 8th and 9th values:\n",
    "\n",
    "(177 + 178) / 2 = 177.5\n",
    "\n",
    "So the median height is 177.5 cm.\n",
    "\n",
    "3. Mode:\n",
    "To find the mode, we need to find the value that appears most frequently in the dataset. In this case, we can see that the value 178 appears most frequently, so the mode is 178 cm.\n",
    "So the measures of central tendency for the given height data are:\n",
    "\n",
    "Mean: 177.3 cm\n",
    "Median: 177.5 cm\n",
    "Mode: 178 cm"
   ]
  },
  {
   "cell_type": "markdown",
   "id": "349f0e92-20b8-4c84-844d-1a89bb8daf40",
   "metadata": {},
   "source": [
    "# Q4. Find the standard deviation for the given data:\n",
    "# [178,177,176,177,178.2,178,175,179,180,175,178.9,176.2,177,172.5,178,176.5]"
   ]
  },
  {
   "cell_type": "markdown",
   "id": "bd4533f3-3cb5-4fbe-ace1-df167a20fdc3",
   "metadata": {},
   "source": [
    "\n",
    "To find the standard deviation for the given data, we can use the following formula:\n",
    "\n",
    "standard deviation = sqrt( sum( (x - mean)^2 ) / (n - 1) )\n",
    "\n",
    "where x is each data point, mean is the average of the data, n is the number of data points, and sqrt is the square root function.\n",
    "\n",
    "1. Calculate the mean:\n",
    "We already calculated the mean in the previous question as 177.3 cm.\n",
    "\n",
    "2. Calculate the deviations from the mean:\n",
    "For each data point, we need to subtract the mean and square the result:\n",
    "\n",
    "(178 - 177.3)^2 = 0.49\n",
    "(177 - 177.3)^2 = 0.09\n",
    "(176 - 177.3)^2 = 1.69\n",
    "(177 - 177.3)^2 = 0.09\n",
    "(178.2 - 177.3)^2 = 0.80\n",
    "(178 - 177.3)^2 = 0.49\n",
    "(175 - 177.3)^2 = 5.29\n",
    "(179 - 177.3)^2 = 2.89\n",
    "(180 - 177.3)^2 = 7.29\n",
    "(175 - 177.3)^2 = 5.29\n",
    "(178.9 - 177.3)^2 = 2.56\n",
    "(176.2 - 177.3)^2 = 1.21\n",
    "(177 - 177.3)^2 = 0.09\n",
    "(172.5 - 177.3)^2 = 22.09\n",
    "(178 - 177.3)^2 = 0.49\n",
    "(176.5 - 177.3)^2 = 0.64\n",
    "\n",
    "3. Calculate the sum of the squared deviations:\n",
    "We add up all the squared deviations:\n",
    "0.49 + 0.09 + 1.69 + 0.09 + 0.80 + 0.49 + 5.29 + 2.89 + 7.29 + 5.29 + 2.56 + 1.21 + 0.09 + 22.09 + 0.49 + 0.64 = 50.34\n",
    "\n",
    "4. Calculate the variance:\n",
    "We divide the sum of the squared deviations by the number of data points minus 1:\n",
    "variance = 50.34 / (16 - 1) = 3.55\n",
    "\n",
    "5. Calculate the standard deviation:\n",
    "We take the square root of the variance:\n",
    "standard deviation = sqrt(3.55) = 1.88\n",
    "\n",
    "So the standard deviation for the given data is approximately 1.88 cm.\n",
    "\n",
    "\n",
    "\n",
    "\n"
   ]
  },
  {
   "cell_type": "markdown",
   "id": "45156769-7fbd-4b74-98c5-ae02fd9bf7a3",
   "metadata": {},
   "source": [
    "# Q5. How are measures of dispersion such as range, variance, and standard deviation used to describe the spread of a dataset? Provide an example."
   ]
  },
  {
   "cell_type": "markdown",
   "id": "e458cd55-d1e3-4f69-b2b9-762014e9d9d1",
   "metadata": {},
   "source": [
    "Measures of dispersion such as range, variance, and standard deviation are used to describe the spread or variability of a dataset. They provide information on how much the data points deviate from the central tendency of the dataset.\n",
    "\n",
    "The range is the simplest measure of dispersion and represents the difference between the largest and smallest values in the dataset. However, it is affected by outliers and can be misleading if there are extreme values.\n",
    "\n",
    "The variance and standard deviation are more robust measures of dispersion that take into account the deviation of each data point from the mean. The variance is calculated by taking the average of the squared deviations, while the standard deviation is the square root of the variance. The standard deviation is often used because it has the same units as the original data and provides a measure of how far each data point is from the mean.\n",
    "\n",
    "For example, consider two datasets:\n",
    "\n",
    "Dataset 1: [2, 4, 6, 8, 10]\n",
    "Dataset 2: [1, 1, 7, 7, 7]\n",
    "\n",
    "Both datasets have the same mean of 6, but they have different spreads. Dataset 1 has a range of 8 and a standard deviation of approximately 2.83, indicating that the data points are relatively close to the mean. On the other hand, Dataset 2 has a range of 6 and a standard deviation of approximately 3, indicating that the data points are more spread out and further from the mean.\n",
    "\n",
    "In this example, the standard deviation provides a more informative measure of dispersion than the range because it takes into account the deviation of each data point from the mean, and is not influenced as much by outliers or extreme values."
   ]
  },
  {
   "cell_type": "markdown",
   "id": "7a34c0dd-8b1d-493f-897a-44ef8487215a",
   "metadata": {},
   "source": [
    "# Q6. What is a Venn diagram?"
   ]
  },
  {
   "cell_type": "markdown",
   "id": "5881a580-59f7-41ec-8689-ed6895809025",
   "metadata": {},
   "source": [
    "A Venn diagram is a visual representation of the relationship between sets. It consists of overlapping circles or other shapes, with each circle representing a set and the overlapping region representing the intersection of those sets. The non-overlapping parts of each circle represent the items that are unique to that set.\n",
    "\n",
    "Venn diagrams are commonly used in mathematics, logic, and statistics to visually represent the relationships between different sets of objects or concepts. They are useful for analyzing data and identifying similarities and differences between different groups.\n"
   ]
  },
  {
   "cell_type": "markdown",
   "id": "34188e12-5ff2-48ef-a9ed-c7fb09a8877e",
   "metadata": {},
   "source": [
    "# Q7. For the two given sets A = (2,3,4,5,6,7) & B = (0,2,6,8,10). Find:\n",
    "# (i) A B\n",
    "# (ii) A B"
   ]
  },
  {
   "cell_type": "markdown",
   "id": "3fd7321a-dae2-497d-8b35-3de59f322c0a",
   "metadata": {},
   "source": [
    "To find the union and intersection of two sets A and B, we can use the following definitions:\n",
    "\n",
    "The union of A and B (denoted A U B) is the set of all elements that are in A, or in B, or in both.\n",
    "\n",
    "The intersection of A and B (denoted A ∩ B) is the set of all elements that are in both A and B.\n",
    "\n",
    "Using these definitions, we can find the union and intersection of A and B as follows:\n",
    "\n",
    "(i) A U B:\n",
    "The union of A and B is the set of all elements that are in A, or in B, or in both. So we need to list all the elements that appear in A, in B, or in both:\n",
    "\n",
    "A = (2,3,4,5,6,7)\n",
    "B = (0,2,6,8,10)\n",
    "\n",
    "A U B = (0,2,3,4,5,6,7,8,10)\n",
    "\n",
    "(ii) A ∩ B:\n",
    "The intersection of A and B is the set of all elements that are in both A and B. So we need to list all the elements that appear in both A and B:\n",
    "\n",
    "A = (2,3,4,5,6,7)\n",
    "B = (0,2,6,8,10)\n",
    "\n",
    "A ∩ B = (2,6)\n",
    "\n",
    "Therefore, A U B = (0,2,3,4,5,6,7,8,10) and A ∩ B = (2,6).\n",
    "\n",
    "\n",
    "\n",
    "\n",
    "\n",
    "Regenerate respo"
   ]
  },
  {
   "cell_type": "markdown",
   "id": "15174825-5ac4-4463-ab9f-61e5d310af7d",
   "metadata": {},
   "source": [
    "# Q8. What do you understand about skewness in data?\n",
    "\n",
    "Skewness is a measure of the asymmetry of a distribution of data. A distribution is said to be symmetric if it is evenly distributed around its mean, with roughly the same number of data points on either side of the mean. In contrast, if one tail of the distribution is longer than the other, the distribution is said to be skewed.\n",
    "\n",
    "Skewness is an important concept in statistics because it can have a significant impact on the interpretation of data. Skewed distributions can lead to misleading conclusions if the skewness is not taken into account. Skewed data can also affect the accuracy of statistical models that assume normality, such as linear regression.\n",
    "\n",
    "There are two types of skewness:\n",
    "\n",
    "1. Positive Skewness: In a positively skewed distribution, the tail of the distribution is longer on the right-hand side. This means that the mean is greater than the median, and the majority of the data points are clustered on the left-hand side of the distribution.\n",
    "\n",
    "2. Negative Skewness: In a negatively skewed distribution, the tail of the distribution is longer on the left-hand side. This means that the mean is less than the median, and the majority of the data points are clustered on the right-hand side of the distribution.\n",
    "\n",
    "It is important to identify the skewness in the data before performing any statistical analysis. If the data is skewed, it may be necessary to transform the data or use non-parametric statistical methods to obtain accurate results."
   ]
  },
  {
   "cell_type": "markdown",
   "id": "fc42b2d8-99d4-4dde-bfc1-977cd1e002aa",
   "metadata": {},
   "source": [
    "# Q9. If a data is right skewed then what will be the position of median with respect to mean?\n",
    "\n",
    "If a dataset is right-skewed, then the tail of the distribution is longer on the right-hand side. This means that the majority of the data points are clustered on the left-hand side of the distribution, and there are some extremely high values on the right-hand side that pull the mean towards the right. In such cases, the median will be less than the mean.\n",
    "\n",
    "To visualize this, imagine a dataset where the majority of the data points fall in the range of 1 to 10, but there are a few extremely high values like 100, 200, or 1000. These high values will pull the mean towards the right, as it takes into account all the values in the dataset. However, the median only considers the middle value(s) of the dataset, which will be around the 5th or 6th value in this case. Thus, the median will be less than the mean.\n",
    "\n",
    "In summary, if a dataset is right-skewed, the median will be less than the mean."
   ]
  },
  {
   "cell_type": "markdown",
   "id": "fe5abec6-a492-4d9f-8d59-8d2989302b4c",
   "metadata": {},
   "source": [
    "# Q10 Explain the difference between covariance and correlation. How are these(i) A B (ii) A B\n",
    "\n",
    "Covariance and correlation are both measures of the relationship between two variables, but they are different in terms of their properties and interpretation.\n",
    "\n",
    "Covariance is a measure of how two variables vary together. It is a measure of the extent to which two variables are linearly related. A positive covariance indicates that the two variables tend to increase or decrease together, while a negative covariance indicates that they tend to move in opposite directions. However, the covariance is not standardized and can take on any value, which makes it difficult to compare covariances between different datasets or variables.\n",
    "\n",
    "Correlation, on the other hand, is a standardized measure of the relationship between two variables. It ranges between -1 and 1, with a correlation of 1 indicating a perfect positive relationship, a correlation of -1 indicating a perfect negative relationship, and a correlation of 0 indicating no relationship at all. Correlation can be used to compare the strength and direction of the relationship between different datasets or variables.\n",
    "\n",
    "To calculate covariance and correlation, the formulas are:\n",
    "\n",
    "Covariance: cov(A,B) = sum((A - mean(A)) * (B - mean(B))) / (n-1)\n",
    "\n",
    "Correlation: corr(A,B) = cov(A,B) / (std(A) * std(B))\n",
    "\n",
    "Where A and B are two variables, mean(A) and mean(B) are their respective means, std(A) and std(B) are their respective standard deviations, and n is the number of data points.\n",
    "\n",
    "In summary, the main difference between covariance and correlation is that covariance is a measure of how two variables vary together, while correlation is a standardized measure of the strength and direction of the relationship between two variables."
   ]
  },
  {
   "cell_type": "markdown",
   "id": "427e28e8-131c-4e20-a8fa-b40ac6d55463",
   "metadata": {},
   "source": [
    "# Q11. What is the formula for calculating the sample mean? Provide an example calculation for a dataset.\n",
    "\n",
    "The formula for calculating the sample mean (also known as the arithmetic mean) is:\n",
    "\n",
    "sample mean = (sum of all data points) / (number of data points)\n",
    "\n",
    "For example, suppose we have the following dataset:\n",
    "\n",
    "3, 5, 7, 9, 11\n",
    "\n",
    "To find the sample mean, we first add up all the data points:\n",
    "\n",
    "3 + 5 + 7 + 9 + 11 = 35\n",
    "\n",
    "Then we divide the sum by the number of data points (which is 5 in this case):\n",
    "\n",
    "sample mean = 35 / 5 = 7\n",
    "\n",
    "Therefore, the sample mean for this dataset is 7.\n",
    "\n",
    "\n",
    "\n",
    "\n"
   ]
  },
  {
   "cell_type": "markdown",
   "id": "6415950f-02e0-4722-9498-1e744b58d998",
   "metadata": {},
   "source": [
    "# Q12. For a normal distribution data what is the relationship between its measure of central tendency?\n",
    "\n",
    "For a normal distribution, the mean, median, and mode are all equal to each other. This is because a normal distribution is symmetric around its mean, and the point of highest frequency (the mode) is also located at the mean.\n",
    "\n",
    "In other words, for a normal distribution, the mean, median, and mode are all located at the center of the distribution, which is also the point of highest density. This central tendency is one of the defining characteristics of a normal distribution, and it makes it a useful distribution for many statistical analyses.\n",
    "\n",
    "Note that this relationship between the mean, median, and mode is not necessarily true for other types of distributions, especially those that are skewed or have outliers. In such cases, the mean, median, and mode may not be equal or located at the same point, and different measures of central tendency may be more appropriate depending on the specific characteristics of the data.\n",
    "\n",
    "\n",
    "\n"
   ]
  },
  {
   "cell_type": "markdown",
   "id": "65516cb1-fa95-4a56-a5b3-f1930374cd14",
   "metadata": {},
   "source": [
    "# Q13. How is covariance different from correlation?\n",
    "Covariance and correlation are both measures of the relationship between two variables, but they differ in terms of their properties and interpretation.\n",
    "\n",
    "Covariance measures the extent to which two variables vary together. It measures the direction of the linear relationship between two variables, but it is not standardized, and its magnitude can be influenced by the scale of the variables. It can take on any value, positive or negative, and its units are the product of the units of the two variables. Covariance can be calculated using the formula:\n",
    "\n",
    "cov(A, B) = E[(A - E[A]) * (B - E[B])]\n",
    "\n",
    "Where A and B are two variables, E[A] and E[B] are their respective expected values.\n",
    "\n",
    "Correlation, on the other hand, is a standardized measure of the linear relationship between two variables. It is a unitless value that ranges between -1 and 1. A correlation of 1 indicates a perfect positive relationship, a correlation of -1 indicates a perfect negative relationship, and a correlation of 0 indicates no relationship at all. Correlation is calculated by dividing the covariance by the product of the standard deviations of the two variables. The formula for correlation is:\n",
    "\n",
    "corr(A, B) = cov(A, B) / (std(A) * std(B))\n",
    "\n",
    "Where A and B are two variables, cov(A, B) is their covariance, and std(A) and std(B) are their respective standard deviations.\n",
    "\n",
    "In summary, the main differences between covariance and correlation are:\n",
    "\n",
    "Covariance measures the direction of the linear relationship between two variables, while correlation measures both the direction and the strength of the linear relationship.\n",
    "\n",
    "Covariance is not standardized, while correlation is standardized and ranges between -1 and 1.\n",
    "\n",
    "Covariance can be influenced by the scale of the variables, while correlation is unaffected by changes in the scale of the variables."
   ]
  },
  {
   "cell_type": "markdown",
   "id": "2275bffc-d906-4b70-b659-ccd128c6465b",
   "metadata": {},
   "source": [
    "# Q14. How do outliers affect measures of central tendency and dispersion? Provide an example.\n",
    "\n",
    "Outliers are extreme values in a dataset that are significantly different from the other values in the distribution. They can have a significant impact on measures of central tendency and dispersion.\n",
    "\n",
    "In terms of measures of central tendency, outliers can significantly affect the mean. Since the mean is calculated by summing all the values and dividing by the number of values, outliers can disproportionately influence the sum and thus the mean. For example, consider the following dataset: 1, 2, 3, 4, 5, 10. The mean of this dataset is (1+2+3+4+5+10)/6 = 25/6 = 4.17. However, if we remove the outlier (10), the mean becomes (1+2+3+4+5)/5 = 15/5 = 3, which is significantly different.\n",
    "\n",
    "In terms of measures of dispersion, outliers can significantly affect the range, variance, and standard deviation. The range is the difference between the highest and lowest values in the dataset, so a single outlier can greatly increase the range. Similarly, the variance and standard deviation are both measures of how spread out the data is around the mean, so outliers can greatly increase these measures. For example, consider the following dataset: 1, 2, 3, 4, 5, 100. The range of this dataset is 99, the variance is 866, and the standard deviation is 29.43. However, if we remove the outlier (100), the range becomes 4, the variance becomes 2.5, and the standard deviation becomes 1.58.\n",
    "\n",
    "In summary, outliers can have a significant impact on measures of central tendency and dispersion, and it is important to carefully consider the presence of outliers when analyzing a dataset.\n",
    "\n",
    "\n",
    "\n",
    "\n"
   ]
  },
  {
   "cell_type": "code",
   "execution_count": null,
   "id": "fd0fc25c-835c-4a31-97db-d5f09f01100b",
   "metadata": {},
   "outputs": [],
   "source": []
  }
 ],
 "metadata": {
  "kernelspec": {
   "display_name": "Python 3 (ipykernel)",
   "language": "python",
   "name": "python3"
  },
  "language_info": {
   "codemirror_mode": {
    "name": "ipython",
    "version": 3
   },
   "file_extension": ".py",
   "mimetype": "text/x-python",
   "name": "python",
   "nbconvert_exporter": "python",
   "pygments_lexer": "ipython3",
   "version": "3.10.8"
  }
 },
 "nbformat": 4,
 "nbformat_minor": 5
}
