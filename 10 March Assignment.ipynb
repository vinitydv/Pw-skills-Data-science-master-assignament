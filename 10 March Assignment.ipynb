{
 "cells": [
  {
   "cell_type": "code",
   "execution_count": 1,
   "id": "8175e395-909d-4b3f-a214-efe4b19f335c",
   "metadata": {},
   "outputs": [],
   "source": [
    "import numpy as np\n",
    "import math\n",
    "import pandas as pd\n",
    "import scipy.stats as stats\n",
    "import matplotlib.pyplot as plt\n",
    "from IPython.display import Image"
   ]
  },
  {
   "cell_type": "markdown",
   "id": "ad4bc76d-99a0-4697-b1c5-e68ae08ec430",
   "metadata": {},
   "source": [
    "## Q1: What is Estimation Statistics? Explain point estimate and interval estimate.\n",
    "Ans :\n",
    "\n",
    "Estimate is a part of Inferential Statistics. It is an observation of numerical value by using sample to estimate an unknown population parameter(mean, median, variance, etc)..\n",
    "\n",
    "Estimate : It is an observed of numerical value by using sample to estimate an unknown population parameter(mean, median, variance, etc).. Estimation : It is a process used to estimate population parameter by using population sample dataset\n",
    "\n",
    "Point Estimate : Single numerical value used to estimate the unknown population parameter. Sometimes we are not able to find out population mean due to data loss(null, NaN) etc, then we use estimates to solve\n",
    "Interval Estimate : Range of value used to estimate the unknown population parameter, It is called interval estimate"
   ]
  },
  {
   "cell_type": "markdown",
   "id": "45db0f47-c9af-49ab-bc48-d08ebaecae39",
   "metadata": {},
   "source": [
    "## Q2. Write a Python function to estimate the population mean using a sample mean and standard deviation."
   ]
  },
  {
   "cell_type": "code",
   "execution_count": 2,
   "id": "391eda21-86d4-4ffd-989e-06c2baaa0309",
   "metadata": {},
   "outputs": [
    {
     "data": {
      "text/plain": [
       "(46.56011445610637, 42.872110148685394, 50.248118763527344)"
      ]
     },
     "execution_count": 2,
     "metadata": {},
     "output_type": "execute_result"
    }
   ],
   "source": [
    "def estimate_population_mean(sample_mean, sample_std_dev, sample_size):\n",
    "    # calculate the standard error of the mean\n",
    "    std_error = sample_std_dev / math.sqrt(sample_size)\n",
    "    \n",
    "    # calculate the margin of error (using a 95% confidence level)\n",
    "    margin_of_error = 1.96 * std_error\n",
    "    \n",
    "    # calculate the lower and upper bounds of the confidence interval\n",
    "    lower_bound = sample_mean - margin_of_error\n",
    "    upper_bound = sample_mean + margin_of_error\n",
    "    \n",
    "    # return the estimated population mean and confidence interval\n",
    "    return (sample_mean, lower_bound, upper_bound)\n",
    "\n",
    "#population dataset\n",
    "population_data = np.random.normal(50,10,1000)\n",
    "#sample dataset\n",
    "sample_data = np.random.choice(population_data, 10)\n",
    "#sample_mean, sample_std_dev, sample_size\n",
    "sample_mean = sample_data.mean()\n",
    "sample_std_dev = sample_data.std()\n",
    "sample_size = len(sample_data)\n",
    "estimate_population_mean(sample_mean, sample_std_dev, sample_size)"
   ]
  },
  {
   "cell_type": "markdown",
   "id": "46c5460a-9119-4901-94ad-175be3b94cee",
   "metadata": {},
   "source": [
    "## Q3: What is Hypothesis testing? Why is it used? State the importance of Hypothesis testing.\n",
    "Ans :\n",
    "\n",
    "Hypothesis testing is an assumption about a population parameter that is being tested using data from a sample. It is used to quantify/ verify the probability that our sample mean is unusual.\n",
    "\n",
    "State the importance of Hypothesis testing\n",
    "\n",
    "- decision-making\n",
    "- validity of claims (True of False)"
   ]
  },
  {
   "cell_type": "markdown",
   "id": "73b55d1b-431f-40a5-ba98-3d6ef9f10513",
   "metadata": {},
   "source": [
    "## Q4. Create a hypothesis that states whether the average weight of male college students is greater than the average weight of female college students.\n",
    "Ans :\n",
    "\n",
    "- 1. H0 xbar(male_student) > xbar(female_student)\n",
    "- 2. H1 xbar(male_student) <= xbar(female_student)\n",
    "- 3. this is two tail test\n",
    "- 4. alpha = 1 - C.I and dof = n - 1\n",
    "- 5.  if n >= 30 and std is known use z-table, other wise use t-table\n",
    "- 6. Conslussion"
   ]
  },
  {
   "cell_type": "code",
   "execution_count": 3,
   "id": "f4e20971-143d-456a-b073-ec504877775b",
   "metadata": {},
   "outputs": [
    {
     "data": {
      "text/html": [
       "<div>\n",
       "<style scoped>\n",
       "    .dataframe tbody tr th:only-of-type {\n",
       "        vertical-align: middle;\n",
       "    }\n",
       "\n",
       "    .dataframe tbody tr th {\n",
       "        vertical-align: top;\n",
       "    }\n",
       "\n",
       "    .dataframe thead th {\n",
       "        text-align: right;\n",
       "    }\n",
       "</style>\n",
       "<table border=\"1\" class=\"dataframe\">\n",
       "  <thead>\n",
       "    <tr style=\"text-align: right;\">\n",
       "      <th></th>\n",
       "      <th>m_weight</th>\n",
       "      <th>f_weight</th>\n",
       "    </tr>\n",
       "  </thead>\n",
       "  <tbody>\n",
       "    <tr>\n",
       "      <th>0</th>\n",
       "      <td>29</td>\n",
       "      <td>45</td>\n",
       "    </tr>\n",
       "    <tr>\n",
       "      <th>1</th>\n",
       "      <td>25</td>\n",
       "      <td>80</td>\n",
       "    </tr>\n",
       "    <tr>\n",
       "      <th>2</th>\n",
       "      <td>28</td>\n",
       "      <td>27</td>\n",
       "    </tr>\n",
       "    <tr>\n",
       "      <th>3</th>\n",
       "      <td>57</td>\n",
       "      <td>28</td>\n",
       "    </tr>\n",
       "    <tr>\n",
       "      <th>4</th>\n",
       "      <td>60</td>\n",
       "      <td>29</td>\n",
       "    </tr>\n",
       "    <tr>\n",
       "      <th>5</th>\n",
       "      <td>75</td>\n",
       "      <td>10</td>\n",
       "    </tr>\n",
       "    <tr>\n",
       "      <th>6</th>\n",
       "      <td>90</td>\n",
       "      <td>20</td>\n",
       "    </tr>\n",
       "  </tbody>\n",
       "</table>\n",
       "</div>"
      ],
      "text/plain": [
       "   m_weight  f_weight\n",
       "0        29        45\n",
       "1        25        80\n",
       "2        28        27\n",
       "3        57        28\n",
       "4        60        29\n",
       "5        75        10\n",
       "6        90        20"
      ]
     },
     "execution_count": 3,
     "metadata": {},
     "output_type": "execute_result"
    }
   ],
   "source": [
    "data = {\n",
    "    'm_weight' : [29,25,28,57,60,75,90],\n",
    "    'f_weight' : [45,80,27,28,29,10,20]\n",
    "}\n",
    "df = pd.DataFrame(data)\n",
    "df"
   ]
  },
  {
   "cell_type": "code",
   "execution_count": 4,
   "id": "7fa7f5f1-7fb7-43df-ba08-6620ebd6f13f",
   "metadata": {},
   "outputs": [
    {
     "data": {
      "text/plain": [
       "34.142857142857146"
      ]
     },
     "execution_count": 4,
     "metadata": {},
     "output_type": "execute_result"
    }
   ],
   "source": [
    "df['f_weight'].mean()"
   ]
  },
  {
   "cell_type": "markdown",
   "id": "2f824654-9af8-40f0-9e09-dc410b7bef98",
   "metadata": {},
   "source": [
    "## Q5. Write a Python script to conduct a hypothesis test on the difference between two population means, given a sample from each population."
   ]
  },
  {
   "cell_type": "code",
   "execution_count": 5,
   "id": "827ebe39-83d4-44a9-bc75-c269afee3ddc",
   "metadata": {},
   "outputs": [
    {
     "name": "stdout",
     "output_type": "stream",
     "text": [
      "The t-statistic is: -0.3179993640019078\n",
      "The p-value is: 0.7586277135967076\n",
      "We fail to reject the null hypothesis.\n"
     ]
    }
   ],
   "source": [
    "sample1 = np.random.randint(1,10,5)\n",
    "sample2 = np.random.randint(1,10,5)\n",
    "\n",
    "alpha = 0.05\n",
    "\n",
    "t_stat, p_val = stats.ttest_ind(sample1, sample2)\n",
    "\n",
    "print(\"The t-statistic is:\", t_stat)\n",
    "print(\"The p-value is:\", p_val)\n",
    "\n",
    "if p_val < alpha:\n",
    "    print(\"We reject the null hypothesis.\")\n",
    "else:\n",
    "    print(\"We fail to reject the null hypothesis.\")\n"
   ]
  },
  {
   "cell_type": "markdown",
   "id": "a3f92288-9a44-45fb-ad82-3b27fd9456e3",
   "metadata": {},
   "source": [
    "## Q6: What is a null and alternative hypothesis? Give some examples.\n",
    "Ans :\n",
    "\n",
    "null hypothesis assumes that any observed differences or relationships are due to chance or random sampling error or is accept the given ploblem in sample. e.g. Accept male student weight > female student weight\n",
    "Accept Girls pass marks > boys pass marks\n",
    "alternative hypothesis is a process to reject the null hypothesis\n",
    "e.g. not accept male student weight > female student weight\n",
    "not accept Girls pass marks > boys pass marks\n",
    "\n",
    "## Q7: Write down the steps involved in hypothesis testing.\n",
    "Ans :\n",
    "\n",
    "1. Accept hypothesis testing\n",
    "2. not accept hypotheses thesting\n",
    "3. See type of test\n",
    "4. find alpha = n-1\n",
    "5. find C.I\n",
    "6. use test according to n\n",
    "7. match table\n",
    "8. conclussion\n",
    "\n",
    "\n",
    "## Q8. Define p-value and explain its significance in hypothesis testing.\n",
    "The P-value (or probability value) is the probability of getting a sample statistic (such as the mean) or a more extreme sample statistic in the direction of the alternative hypothesis when the null hypothesis is true.\n",
    "\n",
    "- If P-value <= alpha , reject the null hypothesis\n",
    "- If P-value > alpha, do not reject the null hypothesis"
   ]
  },
  {
   "cell_type": "markdown",
   "id": "6001951f-18c0-4b73-8d49-48e1ab26d173",
   "metadata": {},
   "source": [
    "## Q9. Generate a Student's t-distribution plot using Python's matplotlib library, with the degrees of freedom parameter set to 10."
   ]
  },
  {
   "cell_type": "code",
   "execution_count": 6,
   "id": "6e7367cd-779b-4030-b291-68a179b70a09",
   "metadata": {},
   "outputs": [
    {
     "data": {
      "image/png": "[encoded data removed]",
      "text/plain": [
       "<Figure size 640x480 with 1 Axes>"
      ]
     },
     "metadata": {},
     "output_type": "display_data"
    }
   ],
   "source": [
    "dof = 10\n",
    "\n",
    "x = np.linspace(-4, 4, 100)\n",
    "y = (1 / (np.sqrt(dof) * np.sqrt(np.pi))) * ((1 + ((x ** 2) / dof)) ** (-(dof + 1) / 2))\n",
    "\n",
    "plt.plot(x, y)\n",
    "plt.title(\"Student's t-distribution with df = 10\")\n",
    "\n",
    "\n",
    "plt.show()"
   ]
  },
  {
   "cell_type": "markdown",
   "id": "f96e7087-2c72-4a37-89f6-02a6414653cb",
   "metadata": {},
   "source": [
    "## Q10. Write a Python program to calculate the two-sample t-test for independent samples, given two random samples of equal size and a null hypothesis that the population means are equal"
   ]
  },
  {
   "cell_type": "code",
   "execution_count": 7,
   "id": "0eda9925-cafd-4a4a-a6a0-77939ba63020",
   "metadata": {},
   "outputs": [
    {
     "name": "stdout",
     "output_type": "stream",
     "text": [
      "t-statistic: -1.3175375957632594\n",
      "p-value: 0.22413839344073622\n"
     ]
    }
   ],
   "source": [
    "import scipy.stats as stats\n",
    "\n",
    "sample1 = [6.2, 1.5, 2.3, 0.8, 5.46]\n",
    "sample2 = [25.56, 3.65, 7.02, 3.60, 4.98]\n",
    "\n",
    "t_stat, p_val = stats.ttest_ind(sample1, sample2)\n",
    "\n",
    "print(\"t-statistic:\", t_stat)\n",
    "print(\"p-value:\", p_val)"
   ]
  },
  {
   "cell_type": "markdown",
   "id": "b5c6f030-068a-4979-ac19-79d69e92baf8",
   "metadata": {},
   "source": [
    "## Q11: What is Student's t distribution? When to use the t-Distribution.\n",
    "Ans : Student's t-distribution is a probability distribution that is used in statistical inference for hypothesis testing. It is a continuous probability distribution that takes sample size and sample standard deviation.\n",
    "The t-distribution is particularly useful when the population standard deviation is unknown and must be estimated from the sample.\n",
    "\n",
    "## Q12: What is t-statistic? State the formula for t-statistic.\n",
    "Ans : The t-statistic is a measure used in statistical hypothesis testing to determine whether the difference between two sample means is significant or not.\n",
    "\n",
    "formula for t-statistic"
   ]
  },
  {
   "cell_type": "markdown",
   "id": "1ce838aa-9e34-44f6-bd29-0e043cb69807",
   "metadata": {},
   "source": [
    "The formula for the t-statistic is:\n",
    "\n",
    "t = (x̄ - μ) / (s / √n)\n",
    "\n",
    "where:\n",
    "\n",
    "x̄ is the sample mean\n",
    "μ is the population mean\n",
    "s is the sample standard deviation\n",
    "n is the sample size."
   ]
  },
  {
   "cell_type": "markdown",
   "id": "32e00eb4-b857-4862-81dd-a53a4ebaa819",
   "metadata": {},
   "source": [
    "## Q13. A coffee shop owner wants to estimate the average daily revenue for their shop. They take a random sample of 50 days and find the sample mean revenue to be with a standard deviation of . Estimate the population mean revenue with a 95% confidence interval."
   ]
  },
  {
   "cell_type": "markdown",
   "id": "7b7ff68d-4e7e-4756-97da-3764295700cf",
   "metadata": {},
   "source": [
    "We can use a t-distribution to estimate the population mean revenue with a 95% confidence interval.\n",
    "\n",
    "Given:\n",
    "\n",
    "- Sample size (n) = 50\n",
    "- Sample mean (x̄) = $500\n",
    "\n",
    "- Sample standard deviation (s) = $50\n",
    "\n",
    "The formula for the confidence interval is:\n",
    "\n",
    "CI = x̄ ± t * (s / √n)\n",
    "\n",
    "where t is the critical value from the t-distribution with n-1 degrees of freedom and a desired confidence level of 95%.\n",
    "Since the sample size is 50, we have n-1 = 49 degrees of freedom. From a t-distribution table, we can find that the critical value for a 95% confidence level and 49 degrees of freedom is approximately 2.009.\n",
    "\n",
    "Plugging in the values:\n",
    "\n",
    "CI = 500 ± 2.009 * (50 / √50)\n",
    "\n",
    "CI = 500 ± 14.14\n",
    "\n",
    "Therefore, we can estimate with 95% confidence that the true population mean revenue for the coffee shop is between $485.86 and $514.14."
   ]
  },
  {
   "cell_type": "markdown",
   "id": "71d75f79-c683-4943-b394-1474ff5048b8",
   "metadata": {},
   "source": [
    "## Q14. A researcher hypothesizes that a new drug will decrease blood pressure by 10 mmHg. They conduct a clinical trial with 100 patients and find that the sample mean decrease in blood pressure is 8 mmHg with a standard deviation of 3 mmHg. Test the hypothesis with a significance level of 0.05.\n",
    "Given:\n",
    "\n",
    "- Sample size (n) = 100\n",
    "- Sample mean (x̄) = 8 mmHg\n",
    "- Sample standard deviation (s) = 3 mmHg\n",
    "- Hypothesized mean (μ0) = 10 mmHg\n",
    "- Significance level (α) = 0.05\n",
    "\n",
    "The null hypothesis is that the true population mean decrease in blood pressure is equal to 10 mmHg. The alternative hypothesis is that the true population mean decrease in blood pressure is less than 10 mmHg.\n",
    "\n",
    "The test statistic for the one-sample t-test is:\n",
    "\n",
    "t = (x̄ - μ0) / (s / √n)\n",
    "\n",
    "Plugging in the values:\n",
    "\n",
    "t = (8 - 10) / (3 / √100)\n",
    "\n",
    "t = -2 / 0.3\n",
    "\n",
    "t = -6.67 (rounded to two decimal places)\n",
    "\n",
    "The degrees of freedom for the t-distribution is n-1 = 99. Using a t-distribution table or calculator, we can find the p-value associated with a t-statistic of -6.67 and 99 degrees of freedom to be less than 0.0001.\n",
    "\n",
    "Since the p-value is less than the significance level of 0.05, we reject the null hypothesis. We can conclude that there is sufficient evidence to support the alternative hypothesis that the new drug decreases blood pressure by less than 10 mmHg."
   ]
  },
  {
   "cell_type": "markdown",
   "id": "48a75aaf-7038-45dc-8e97-27734850808d",
   "metadata": {},
   "source": [
    "## Q15. An electronics company produces a certain type of product with a mean weight of 5 pounds and a standard deviation of 0.5 pounds. A random sample of 25 products is taken, and the sample mean weight is found to be 4.8 pounds. Test the hypothesis that the true mean weight of the products is less than 5 pounds with a significance level of 0.01.\n",
    "\n",
    "Given:\n",
    "\n",
    "- Population mean (μ) = 5 pounds\n",
    "- Population standard deviation (σ) = 0.5 pounds\n",
    "- Sample size (n) = 25\n",
    "- Sample mean (x̄) = 4.8 pounds\n",
    "- Significance level (α) = 0.01\n",
    "\n",
    "The null hypothesis is that the true mean weight of the products is equal to 5 pounds. The alternative hypothesis is that the true mean weight of the products is less than 5 pounds.\n",
    "\n",
    "The test statistic for the one-sample t-test is:\n",
    "\n",
    "t = (x̄ - μ) / (s / √n)\n",
    "\n",
    "where s is the sample standard deviation. However, since the population standard deviation is known, we can use the z-test instead and calculate the z-statistic as follows:\n",
    "\n",
    "z = (x̄ - μ) / (σ / √n)\n",
    "\n",
    "Plugging in the values:\n",
    "\n",
    "z = (4.8 - 5) / (0.5 / √25)\n",
    "\n",
    "z = -1.6\n",
    "\n",
    "Using a standard normal distribution table or calculator, we can find the p-value associated with a z-statistic of -1.6 to be approximately 0.0548.\n",
    "\n",
    "Since the p-value is greater than the significance level of 0.01, we fail to reject the null hypothesis. We can conclude that there is insufficient evidence to support the alternative hypothesis that the true mean weight of the products is less than 5 pounds at a significance level of 0.01.\n",
    "\n",
    "\n",
    "\n"
   ]
  },
  {
   "cell_type": "markdown",
   "id": "a16f74b8-c8f8-4584-9de2-32248a4b897f",
   "metadata": {},
   "source": [
    "## Q16. Two groups of students are given different study materials to prepare for a test. The first group (n1 = 30) has a mean score of 80 with a standard deviation of 10, and the second group (n2 = 40) has a mean score of 75 with a standard deviation of 8. Test the hypothesis that the population means for the two groups are equal with a significance level of 0.01.\n",
    "\n",
    "Given:\n",
    "\n",
    "- Sample size of group 1 (n1) = 30\n",
    "- Sample mean of group 1 (x̄1) = 80\n",
    "- Standard deviation of group 1 (s1) = 10\n",
    "- Sample size of group 2 (n2) = 40\n",
    "- Sample mean of group 2 (x̄2) = 75\n",
    "- Standard deviation of group 2 (s2) = 8\n",
    "- Significance level (α) = 0.01\n",
    "\n",
    "The null hypothesis is that the population means for the two groups are equal. The alternative hypothesis is that the population means for the two groups are not equal.\n",
    "\n",
    "The test statistic for the two-sample t-test is:\n",
    "\n",
    "t = (x̄1 - x̄2) / [sqrt{(s1^2/n1) + (s2^2/n2)}]\n",
    "\n",
    "Plugging in the values:\n",
    "\n",
    "t = (80 - 75) / [sqrt{(10^2/30) + (8^2/40)}]\n",
    "\n",
    "t = 2.30 (rounded to two decimal places)\n",
    "\n",
    "The degrees of freedom for the t-distribution is (n1 + n2 - 2) = 68. Using a t-distribution table or calculator, we can find the p-value associated with a t-statistic of 2.30 and 68 degrees of freedom to be approximately 0.024.\n",
    "\n",
    "Since the p-value is less than the significance level of 0.01, we reject the null hypothesis. We can conclude that there is sufficient evidence to support the alternative hypothesis that the population means for the two groups are not equal at a significance level of 0.01.\n",
    "\n",
    "\n",
    "\n",
    "\n",
    "\n"
   ]
  },
  {
   "cell_type": "markdown",
   "id": "70e61438-5674-4d6b-9eee-963bead99b78",
   "metadata": {},
   "source": [
    "## Q17. A marketing company wants to estimate the average number of ads watched by viewers during a TV program. They take a random sample of 50 viewers and find that the sample mean is 4 with a standard deviation of 1.5. Estimate the population mean with a 99% confidence interval\n",
    "\n",
    "Given:\n",
    "\n",
    "- Sample size (n) = 50\n",
    "- Sample mean (x̄) = 4\n",
    "- Standard deviation (s) = 1.5\n",
    "- Confidence level = 99%\n",
    "\n",
    "We need to calculate the margin of error and add/subtract it to/from the sample mean to obtain the confidence interval. The margin of error can be calculated as:\n",
    "\n",
    "Margin of error = t-value * (s / sqrt(n))\n",
    "\n",
    "where t-value is obtained from the t-distribution table or calculator based on the degrees of freedom (n - 1) and the confidence level. For a 99% confidence level and 49 degrees of freedom, the t-value is approximately 2.681.\n",
    "\n",
    "Plugging in the values:\n",
    "\n",
    "Margin of error = 2.681 * (1.5 / sqrt(50))\n",
    "\n",
    "Margin of error = 0.59 (rounded to two decimal places)\n",
    "\n",
    "Therefore, the 99% confidence interval for the population mean number of ads watched by viewers during a TV program is:\n",
    "\n",
    "Lower limit = x̄ - margin of error = 4 - 0.59 = 3.41\n",
    "\n",
    "Upper limit = x̄ + margin of error = 4 + 0.59 = 4.59\n",
    "\n",
    "We can say with 99% confidence that the population mean number of ads watched by viewers during a TV program lies between 3.41 and 4.59."
   ]
  },
  {
   "cell_type": "code",
   "execution_count": null,
   "id": "ec60a70b-0cef-4373-b82b-bab732943c82",
   "metadata": {},
   "outputs": [],
   "source": []
  }
 ],
 "metadata": {
  "kernelspec": {
   "display_name": "Python 3 (ipykernel)",
   "language": "python",
   "name": "python3"
  },
  "language_info": {
   "codemirror_mode": {
    "name": "ipython",
    "version": 3
   },
   "file_extension": ".py",
   "mimetype": "text/x-python",
   "name": "python",
   "nbconvert_exporter": "python",
   "pygments_lexer": "ipython3",
   "version": "3.10.8"
  }
 },
 "nbformat": 4,
 "nbformat_minor": 5
}
