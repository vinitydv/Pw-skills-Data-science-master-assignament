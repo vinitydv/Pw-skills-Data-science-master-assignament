{
 "cells": [
  {
   "cell_type": "markdown",
   "id": "95dc8ab6-2dad-4d1b-a8a6-222b584f9868",
   "metadata": {},
   "source": [
    "# Q1. What is the Probability density function?\n",
    "The probability density function (PDF) is a function that describes the relative likelihood of a random variable taking on a certain value. In other words, it provides a mathematical description of the probability distribution of a continuous random variable.\n",
    "\n",
    "The PDF is defined as the derivative of the cumulative distribution function (CDF), which is a function that gives the probability that a random variable is less than or equal to a certain value. The PDF is represented by a curve, and the area under the curve between two points represents the probability that the random variable will take on a value within that range.\n",
    "\n",
    "The properties of the PDF depend on the type of probability distribution being considered. For example, the PDF of a normal distribution is a bell-shaped curve, while the PDF of a uniform distribution is a flat line. The PDF is useful in many applications, including statistical inference, risk analysis, and machine learning."
   ]
  },
  {
   "cell_type": "markdown",
   "id": "943cf448-e245-4fb6-8d69-1cb1ad14612e",
   "metadata": {},
   "source": [
    "# Q2. What are the types of Probability distribution?\n",
    "There are many different types of probability distributions, but some of the most commonly used distributions in statistics and probability theory include:\n",
    "\n",
    "1. Normal distribution: Also known as the Gaussian distribution, this is a continuous probability distribution that is symmetric and bell-shaped. It is often used to model real-world phenomena, such as the heights or weights of people, and many statistical tests assume that data follows a normal distribution.\n",
    "\n",
    "2. Binomial distribution: This is a discrete probability distribution that describes the number of successes in a fixed number of independent trials, each with the same probability of success. For example, it can be used to model the number of heads in a series of coin flips.\n",
    "\n",
    "3. Poisson distribution: This is a discrete probability distribution that describes the number of occurrences of a rare event in a fixed amount of time or space. It is often used to model the number of customers arriving at a store or the number of defects in a manufacturing process.\n",
    "\n",
    "4. Exponential distribution: This is a continuous probability distribution that describes the time between occurrences of a rare event in a Poisson process. It is often used to model waiting times or survival times.\n",
    "\n",
    "5. Uniform distribution: This is a continuous probability distribution where all values between two endpoints are equally likely. It is often used to model random numbers or events that have no specific bias or preference.\n",
    "\n",
    "There are many other probability distributions that are used in different fields, such as the Student's t-distribution, the chi-squared distribution, and the Weibull distribution, among others."
   ]
  },
  {
   "cell_type": "markdown",
   "id": "3ccd9344-0881-408a-83cc-719dfdc59626",
   "metadata": {},
   "source": [
    "# Q3. Write a Python function to calculate the probability density function of a normal distribution with given mean and standard deviation at a given point.\n",
    "\n",
    "\n",
    "Here's an example Python function that calculates the probability density function of a normal distribution at a given point, given its mean and standard deviation using the SciPy library:"
   ]
  },
  {
   "cell_type": "code",
   "execution_count": 1,
   "id": "6a8f8675-cd55-40a2-9a9f-1c1c3037968d",
   "metadata": {},
   "outputs": [],
   "source": [
    "from scipy.stats import norm\n",
    "\n",
    "def pdf_normal_distribution(x, mean, std_dev):\n",
    "    # Calculate the probability density function of a normal distribution at a given point\n",
    "    # with a given mean and standard deviation\n",
    "    pdf = norm.pdf(x, loc=mean, scale=std_dev)\n",
    "    return pdf\n",
    "\n"
   ]
  },
  {
   "cell_type": "markdown",
   "id": "998d3b4b-0312-4d68-8d3d-c5ab0a07f7bf",
   "metadata": {},
   "source": [
    "To use this function, you would provide a value for x, which represents the point at which you want to evaluate the PDF, as well as the mean and std_dev parameters of the normal distribution. For example:"
   ]
  },
  {
   "cell_type": "code",
   "execution_count": 2,
   "id": "4ee4524b-8eae-4beb-acc9-0a05a61fe578",
   "metadata": {},
   "outputs": [
    {
     "data": {
      "text/plain": [
       "0.01752830049356854"
      ]
     },
     "execution_count": 2,
     "metadata": {},
     "output_type": "execute_result"
    }
   ],
   "source": [
    "pdf_normal_distribution(2.5, 0, 1)\n"
   ]
  },
  {
   "cell_type": "markdown",
   "id": "621dea82-d9e8-4a91-97d6-a230da6a7d9d",
   "metadata": {},
   "source": [
    "This would return the PDF of a normal distribution with mean 0 and standard deviation 1, evaluated at x=2.5."
   ]
  },
  {
   "cell_type": "markdown",
   "id": "a95584d3-0eaa-4b27-bd5a-0f85d39a6bc3",
   "metadata": {
    "tags": []
   },
   "source": [
    "# Q4. What are the properties of Binomial distribution? Give two examples of events where binomial distribution can be applied.\n",
    "The properties of a binomial distribution are:\n",
    "\n",
    "1. The experiment consists of a fixed number of trials, denoted by n.\n",
    "2. Each trial has only two possible outcomes, which are usually called \"success\" and \"failure\".\n",
    "3. The probability of success is constant for each trial and denoted by p.\n",
    "4. The trials are independent of each other.\n",
    "\n",
    "Two examples of events where a binomial distribution can be applied are:\n",
    "\n",
    "1. Flipping a coin: Suppose you flip a fair coin 10 times and want to know the probability of getting exactly 5 heads. This can be modeled using a binomial distribution, where n=10, p=0.5 (since the coin is fair and the probability of heads is 0.5), and the number of successes (k) is 5.\n",
    "2. Product quality control: Suppose a manufacturer wants to test the quality of a product by inspecting a sample of 50 items and counting the number of defective items. If the defect rate is known to be 10%, then the probability of getting a certain number of defective items can be modeled using a binomial distribution, where n=50, p=0.1, and the number of successes (k) is the number of defective items in the sample.\n",
    "\n",
    "\n"
   ]
  },
  {
   "cell_type": "markdown",
   "id": "d6c7c8f8-3f8a-48f3-b7d1-875b449979b8",
   "metadata": {},
   "source": [
    "# Q6. Write a Python function to calculate the cumulative distribution function of a Poisson distribution with given mean at a given point.\n",
    "Sure, here's a Python function that calculates the cumulative distribution function (CDF) of a Poisson distribution with a given mean mu at a given point k:"
   ]
  },
  {
   "cell_type": "code",
   "execution_count": 4,
   "id": "8418e8d2-678c-457b-984e-27bf14273e52",
   "metadata": {},
   "outputs": [],
   "source": [
    "import math\n",
    "\n",
    "def poisson_cdf(mu, k):\n",
    "    \"\"\"Calculate the cumulative distribution function (CDF) of a Poisson distribution with mean mu at point k.\"\"\"\n",
    "    cdf = 0\n",
    "    for i in range(k+1):\n",
    "        cdf += math.exp(-mu) * mu**i / math.factorial(i)\n",
    "    return cdf\n"
   ]
  },
  {
   "cell_type": "markdown",
   "id": "6278d8bc-5cb4-460c-a023-4719256dc60d",
   "metadata": {},
   "source": [
    "This function uses the formula for the Poisson distribution CDF, which is:\n",
    "\n",
    "CDF(k) = sum(i=0 to k) exp(-mu) * mu^i / i!\n",
    "\n",
    "where mu is the mean and k is the point at which the CDF is calculated.\n",
    "\n",
    "The math module is used to calculate the exponential and factorial functions needed for the formula.\n",
    "\n",
    "Here's an example of how to use the function:"
   ]
  },
  {
   "cell_type": "code",
   "execution_count": 8,
   "id": "b28a445b-a8ac-4456-b922-3e7f01981b03",
   "metadata": {},
   "outputs": [
    {
     "data": {
      "text/plain": [
       "0.42319008112684353"
      ]
     },
     "execution_count": 8,
     "metadata": {},
     "output_type": "execute_result"
    }
   ],
   "source": [
    "poisson_cdf(3, 2)\n"
   ]
  },
  {
   "cell_type": "markdown",
   "id": "6835ed3c-d839-4929-a97a-e5ade5aea15f",
   "metadata": {},
   "source": [
    "This means that the probability of observing 2 or fewer events in a Poisson process with a mean of 3 is approximately 0.423."
   ]
  },
  {
   "cell_type": "markdown",
   "id": "a4801978-1169-41b6-af9d-3f38ca157937",
   "metadata": {},
   "source": [
    "# Q7. How Binomial distribution different from Poisson distribution?\n",
    "Binomial distribution and Poisson distribution are two commonly used probability distributions, but they have different characteristics and are used in different situations.\n",
    "\n",
    "The main differences between the two distributions are:\n",
    "\n",
    "1. The Binomial distribution is used when there are a fixed number of trials, each trial is independent, and there are only two possible outcomes (success or failure). The Poisson distribution is used when the number of events in a fixed interval of time or space follows a Poisson process, where the events occur independently and at a constant rate.\n",
    "\n",
    "2. In the Binomial distribution, the probability of success (p) is constant for each trial. In the Poisson distribution, the mean (mu) is constant, but the probability of observing a certain number of events in a given interval depends on the length of the interval.\n",
    "\n",
    "3. The Binomial distribution is discrete, meaning that it is defined only for integer values of the number of successes. The Poisson distribution is also discrete, but it can be approximated by a continuous distribution (the normal distribution) for large values of mu.\n",
    "\n",
    "4. The Binomial distribution has two parameters: the number of trials (n) and the probability of success (p). The Poisson distribution has only one parameter: the mean (mu).\n",
    "\n",
    "5. The Binomial distribution is symmetric for p=0.5, meaning that the probability of getting k successes is the same as the probability of getting n-k failures. The Poisson distribution is skewed to the right, meaning that it has a longer tail on the right-hand side.\n",
    "\n",
    "In summary, the Binomial distribution is used for counting the number of successes in a fixed number of independent trials, while the Poisson distribution is used for counting the number of events in a fixed interval of time or space in a Poisson process.\n",
    "\n",
    "\n",
    "\n"
   ]
  },
  {
   "cell_type": "markdown",
   "id": "7c86e555-4431-47ad-8b0c-a158a9df7372",
   "metadata": {},
   "source": [
    "# Q8. Generate a random sample of size 1000 from a Poisson distribution with mean 5 and calculate the sample mean and variance."
   ]
  },
  {
   "cell_type": "code",
   "execution_count": 9,
   "id": "6d5b1f68-6937-4e81-9e99-6c87e2da625c",
   "metadata": {},
   "outputs": [
    {
     "name": "stdout",
     "output_type": "stream",
     "text": [
      "Sample mean: 4.919\n",
      "Sample variance: 5.030439\n"
     ]
    }
   ],
   "source": [
    "import numpy as np\n",
    "\n",
    "# Set seed for reproducibility\n",
    "np.random.seed(123)\n",
    "\n",
    "# Generate random sample of size 1000 from Poisson distribution with mean 5\n",
    "sample = np.random.poisson(lam=5, size=1000)\n",
    "\n",
    "# Calculate sample mean and variance\n",
    "sample_mean = np.mean(sample)\n",
    "sample_variance = np.var(sample)\n",
    "\n",
    "print(\"Sample mean:\", sample_mean)\n",
    "print(\"Sample variance:\", sample_variance)\n"
   ]
  },
  {
   "cell_type": "markdown",
   "id": "a62b6b54-b368-4711-8eee-6d485fb3bfc2",
   "metadata": {},
   "source": [
    "# Q9. How mean and variance are related in Binomial distribution and Poisson distribution?\n",
    "In both the Binomial and Poisson distributions, the mean and variance are related in a similar way:\n",
    "\n",
    "For a Binomial distribution with parameters n (number of trials) and p (probability of success), the mean and variance are given by:\n",
    "\n",
    "mean = n * p\n",
    "variance = n * p * (1 - p)\n",
    "For a Poisson distribution with parameter mu (mean), the mean and variance are both equal to mu:\n",
    "\n",
    "\n",
    "mean = mu\n",
    "variance = mu\n",
    "So, in both distributions, the variance is a function of the mean. For the Binomial distribution, the variance depends on both n and p, while for the Poisson distribution, the variance is solely determined by the mean mu.\n",
    "\n",
    "In other words, as the mean of the Binomial or Poisson distribution increases, so does its variance. However, for the Poisson distribution, the mean and variance are always equal, while for the Binomial distribution, the variance depends on the value of p and the number of trials n.\n",
    "\n",
    "\n",
    "\n"
   ]
  },
  {
   "cell_type": "markdown",
   "id": "7674d872-d2c8-4dcd-a43f-442cc304faf5",
   "metadata": {},
   "source": [
    "# Q10. In normal distribution with respect to mean position, where does the least frequent data appear?\n",
    "In a normal distribution, the least frequent data appears in the tails of the distribution, which are the areas furthest away from the mean. Specifically, the least frequent data appears at the extremes of the distribution, beyond a certain number of standard deviations from the mean.\n",
    "\n",
    "For a normal distribution, about 68% of the data falls within one standard deviation of the mean, about 95% falls within two standard deviations of the mean, and about 99.7% falls within three standard deviations of the mean. This means that the data in the tails, beyond three standard deviations from the mean, is very infrequent, with a probability of less than 0.3%.\n",
    "\n",
    "For example, if a normal distribution has a mean of 50 and a standard deviation of 10, the least frequent data would be found beyond 3 standard deviations from the mean, which would be beyond a value of 80 or below a value of 20.\n",
    "\n",
    "\n",
    "\n"
   ]
  },
  {
   "cell_type": "code",
   "execution_count": null,
   "id": "55623b65-347d-47fa-8dc4-728fea458623",
   "metadata": {},
   "outputs": [],
   "source": []
  }
 ],
 "metadata": {
  "kernelspec": {
   "display_name": "Python 3 (ipykernel)",
   "language": "python",
   "name": "python3"
  },
  "language_info": {
   "codemirror_mode": {
    "name": "ipython",
    "version": 3
   },
   "file_extension": ".py",
   "mimetype": "text/x-python",
   "name": "python",
   "nbconvert_exporter": "python",
   "pygments_lexer": "ipython3",
   "version": "3.10.8"
  }
 },
 "nbformat": 4,
 "nbformat_minor": 5
}
