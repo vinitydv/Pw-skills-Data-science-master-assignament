{
 "cells": [
  {
   "cell_type": "code",
   "execution_count": 1,
   "id": "1673acd7-efc6-43cd-9184-82e1c1bceaf2",
   "metadata": {},
   "outputs": [],
   "source": [
    "# Q1. You are writing code for a company. The requirement of the company is that you create a python function that will check whether the password entered by the user is correct or not. The function should take the password as input and return the string \"Valid Password\" if the entered password follows the below-given password guidelines else it should return \"Invalid Password\".\n",
    "\n",
    "# Note:\n",
    "\n",
    "# The Password should contain at least two uppercase letters and at least two lowercase letters.\n",
    "# The Password should contain at least a number and three special characters.\n",
    "# The length of the password should be 10 characters long"
   ]
  },
  {
   "cell_type": "code",
   "execution_count": 4,
   "id": "4063c0ff-eb52-46a7-b573-a8fa1d1e054b",
   "metadata": {},
   "outputs": [
    {
     "name": "stdin",
     "output_type": "stream",
     "text": [
      "Create your new password :  viVI987,.@cnij\n"
     ]
    },
    {
     "name": "stdout",
     "output_type": "stream",
     "text": [
      "Valid Password\n"
     ]
    }
   ],
   "source": [
    "password = input(\"Create your new password : \")\n",
    "# password = \"OZWQQca514!@#\"\n",
    "def pass_verify(check):\n",
    "    upper_case = lower_case = numbers = special_char = ''\n",
    "    for i in password:\n",
    "        if 64<ord(i)<91:upper_case += i\n",
    "        elif 96<ord(i)<123:lower_case += i\n",
    "        elif 48<ord(i)<58:numbers += i\n",
    "        elif 32<ord(i)<48 or 58<ord(i)<65 or 91<ord(i)<97 or ord(i)>122:special_char +=i\n",
    "        else:pass\n",
    "    if len(upper_case) >= 2 and len(lower_case) >= 2 and len(numbers) >= 1 and len(special_char) >=3 and len(password) >= 10:\n",
    "        print('Valid Password')\n",
    "    else:\n",
    "        print('Invalid Password')\n",
    "pass_verify(password)\n",
    "# len(password)"
   ]
  },
  {
   "cell_type": "code",
   "execution_count": 5,
   "id": "bc2349a4-aa8f-4960-b800-f3f5c21f5bef",
   "metadata": {},
   "outputs": [],
   "source": [
    " \n",
    "# Q2. Solve the below-given questions using at least one of the following:\n",
    "\n",
    "# Lambda function\n",
    "# Filter function\n",
    "# Map function\n",
    "# List Comprehension\n",
    "# Check if the string starts with a particular letter.\n",
    "# Check if the string is numeric.\n",
    "# .Sort a list of tuples having fruit names and their quantity. [ (\"mango\",99), (\"orange\",80), (\"grapes\", 1000)]\n",
    "# .Find the squares of numbers from 1 to 10.\n",
    "# Find the cube root of numbers from 1 to 10.\n",
    "# Check if a given number is even.\n",
    "# Filter odd numbers from the given list. [1,2,3,4,5,6,7,8,9,10]\n",
    "# Sort a list of integers into positive and negative integers lists. [1,2,3,4,5,6,-1,-2,-3,-4,-5,0]\n",
    "# 1. Check if the string starts with a particular letter."
   ]
  },
  {
   "cell_type": "code",
   "execution_count": 6,
   "id": "e93d0f3e-a541-4c4b-b173-88a1d65ccaa1",
   "metadata": {},
   "outputs": [
    {
     "name": "stdin",
     "output_type": "stream",
     "text": [
      "Enter a word start form 'a' :  lksd\n"
     ]
    },
    {
     "data": {
      "text/plain": [
       "False"
      ]
     },
     "execution_count": 6,
     "metadata": {},
     "output_type": "execute_result"
    }
   ],
   "source": [
    "# Check if the string starts with a particular letter.By using list comprehension\n",
    "string = input(\"Enter a word start form 'a' : \")\n",
    "# string = 'gthuid'\n",
    "obj = [True if string.startswith('a') else False for i in string]\n",
    "obj[0]"
   ]
  },
  {
   "cell_type": "code",
   "execution_count": 7,
   "id": "e8d349aa-33f2-42ce-a44b-c4e61caafe50",
   "metadata": {},
   "outputs": [
    {
     "name": "stdin",
     "output_type": "stream",
     "text": [
      "Enter a word start form 'a' :  thvi\n"
     ]
    },
    {
     "data": {
      "text/plain": [
       "False"
      ]
     },
     "execution_count": 7,
     "metadata": {},
     "output_type": "execute_result"
    }
   ],
   "source": [
    "# Check if the string starts with a particular letter. By using lambda function\n",
    "string = input(\"Enter a word start form 'a' : \")\n",
    "# string = 'gthuid'\n",
    "obj = lambda s : s.startswith('a')\n",
    "obj(string)"
   ]
  },
  {
   "cell_type": "code",
   "execution_count": 8,
   "id": "a51f9efe-3e0f-4f7b-85e6-1830f3b17d67",
   "metadata": {},
   "outputs": [],
   "source": [
    "# 2. Check if the string is numeric."
   ]
  },
  {
   "cell_type": "code",
   "execution_count": 9,
   "id": "a9d03c05-fb7e-4d0e-b7a1-398e2e11d721",
   "metadata": {},
   "outputs": [
    {
     "name": "stdin",
     "output_type": "stream",
     "text": [
      "Enter a numeric key :  8668\n"
     ]
    },
    {
     "data": {
      "text/plain": [
       "True"
      ]
     },
     "execution_count": 9,
     "metadata": {},
     "output_type": "execute_result"
    }
   ],
   "source": [
    "# Check if the string is numeric. By using list comprehension\n",
    "string = input(\"Enter a numeric key : \")\n",
    "# string = '34'\n",
    "obj = [True if string.isnumeric() else False for i in string]\n",
    "obj[0]"
   ]
  },
  {
   "cell_type": "code",
   "execution_count": 10,
   "id": "21efd471-e14b-468b-ac0c-0ca435d2a991",
   "metadata": {},
   "outputs": [
    {
     "data": {
      "text/plain": [
       "True"
      ]
     },
     "execution_count": 10,
     "metadata": {},
     "output_type": "execute_result"
    }
   ],
   "source": [
    "# Check if the string is numeric.By using lambda function\n",
    "# string = input(\"Enter a numeric key : \")\n",
    "string = '456'\n",
    "obj = lambda num : num.isnumeric()\n",
    "obj(string)"
   ]
  },
  {
   "cell_type": "code",
   "execution_count": 12,
   "id": "78ff30b6-505f-4481-8293-61a4ad140119",
   "metadata": {},
   "outputs": [],
   "source": [
    "# 3. .Sort a list of tuples having fruit names and their quantity. [ (\"mango\",99), (\"orange\",80), (\"grapes\", 1000)]"
   ]
  },
  {
   "cell_type": "code",
   "execution_count": 13,
   "id": "7f3a29ed-fd39-47f8-95c2-41573409a757",
   "metadata": {},
   "outputs": [
    {
     "name": "stdout",
     "output_type": "stream",
     "text": [
      "[('grapes', 1000), ('mango', 99), ('orange', 80)]\n"
     ]
    }
   ],
   "source": [
    "# .Sort a list of tuples having fruit names and their quantity. [ (\"mango\",99), (\"orange\",80), (\"grapes\", 1000)]\n",
    "List = [ (\"mango\",99), (\"orange\",80), (\"grapes\", 1000)]\n",
    "print(sorted(List))\n",
    "# print(sorted(List, reverse = True))"
   ]
  },
  {
   "cell_type": "code",
   "execution_count": 14,
   "id": "5828edc2-f6da-4624-bee5-eb53d325e846",
   "metadata": {},
   "outputs": [],
   "source": [
    "# 4. .Find the squares of numbers from 1 to 10."
   ]
  },
  {
   "cell_type": "code",
   "execution_count": 15,
   "id": "6da02eeb-6edd-4809-bcd0-ecb2ef93d300",
   "metadata": {},
   "outputs": [
    {
     "data": {
      "text/plain": [
       "[1, 4, 9, 16, 25, 36, 49, 64, 81, 100]"
      ]
     },
     "execution_count": 15,
     "metadata": {},
     "output_type": "execute_result"
    }
   ],
   "source": [
    "# .Find the squares of numbers from 1 to 10.\n",
    "square = [i*i for i in range(1,11)]\n",
    "list(square)"
   ]
  },
  {
   "cell_type": "code",
   "execution_count": 17,
   "id": "511fe718-cbf3-424e-9103-5b53c4cb8842",
   "metadata": {},
   "outputs": [],
   "source": [
    "# 6. Check if a given number is even.\n"
   ]
  },
  {
   "cell_type": "code",
   "execution_count": 18,
   "id": "6c1baffd-2da3-4428-bc3a-099215f76284",
   "metadata": {},
   "outputs": [
    {
     "name": "stdin",
     "output_type": "stream",
     "text": [
      "Enter a number :  24\n"
     ]
    },
    {
     "data": {
      "text/plain": [
       "True"
      ]
     },
     "execution_count": 18,
     "metadata": {},
     "output_type": "execute_result"
    }
   ],
   "source": [
    "num = int(input('Enter a number : '))\n",
    "# num = 24\n",
    "even = lambda x : x%2 == 0 \n",
    "even(num)"
   ]
  },
  {
   "cell_type": "code",
   "execution_count": 19,
   "id": "cdba5a45-e421-4406-8133-7d18826eb01d",
   "metadata": {},
   "outputs": [],
   "source": [
    "# 7. Filter odd numbers from the given list. [1,2,3,4,5,6,7,8,9,10]"
   ]
  },
  {
   "cell_type": "code",
   "execution_count": 20,
   "id": "572124d9-e22c-4bfe-898f-922953fb3d77",
   "metadata": {},
   "outputs": [
    {
     "data": {
      "text/plain": [
       "<filter at 0x7f2a70091030>"
      ]
     },
     "execution_count": 20,
     "metadata": {},
     "output_type": "execute_result"
    }
   ],
   "source": [
    "# Filter odd numbers from the given list. By using filter() function\n",
    "List = [1,2,3,4,5,6,7,8,9,10]\n",
    "odd_list = []\n",
    "def odd(a):\n",
    "    if a%2!=0:\n",
    "        odd_list.append(a)\n",
    "filter(odd,List)"
   ]
  },
  {
   "cell_type": "code",
   "execution_count": 21,
   "id": "63f3651b-1333-47cf-b6c3-8a0d52cac92c",
   "metadata": {},
   "outputs": [
    {
     "name": "stdout",
     "output_type": "stream",
     "text": [
      "[1, 3, 5, 7, 9]\n"
     ]
    }
   ],
   "source": [
    "list(filter(odd,List))\n",
    "print(odd_list)"
   ]
  },
  {
   "cell_type": "code",
   "execution_count": 22,
   "id": "ead9cdfe-3ed2-4fc2-a905-3c933edb01eb",
   "metadata": {},
   "outputs": [
    {
     "data": {
      "text/plain": [
       "[1, 3, 5, 7, 9]"
      ]
     },
     "execution_count": 22,
     "metadata": {},
     "output_type": "execute_result"
    }
   ],
   "source": [
    "# Filter odd numbers from the given list. By using lambda function\n",
    "List = [1,2,3,4,5,6,7,8,9,10]\n",
    "List = [i for i in List if i%2 != 0]\n",
    "List"
   ]
  },
  {
   "cell_type": "code",
   "execution_count": 23,
   "id": "0feb4ed3-78e0-47db-a254-db8bd3668a7e",
   "metadata": {},
   "outputs": [],
   "source": [
    "# 8. Sort a list of integers into positive and negative integers lists. [1,2,3,4,5,6,-1,-2,-3,-4,-5,0]"
   ]
  },
  {
   "cell_type": "code",
   "execution_count": 24,
   "id": "123c906e-58c1-48e5-9ee2-3adcd2e071eb",
   "metadata": {},
   "outputs": [
    {
     "name": "stdout",
     "output_type": "stream",
     "text": [
      "Positive Integers List : [0, 1, 2, 3, 4, 5, 6]\n",
      "Negative Integers List : [-5, -4, -3, -2, -1]\n"
     ]
    }
   ],
   "source": [
    "# Sort a list of integers into positive and negative integers lists. [1,2,3,4,5,6,-1,-2,-3,-4,-5,0]\n",
    "List = [1,2,3,4,5,6,-1,-2,-3,-4,-5,0]\n",
    "List1 = [str(i) for i in List]\n",
    "sorted_list = sorted(List1, key=lambda x: int(x[0:]))\n",
    "List2 = [int(i) for i in sorted_list]\n",
    "print(f'Positive Integers List : {[i for i in List2 if i>=0]}')\n",
    "# print(f'Negative Integers List : {[i for i in List if i<0]}')\n",
    "print(f'Negative Integers List : {[i for i in List if i<0][::-1]}')"
   ]
  },
  {
   "cell_type": "code",
   "execution_count": null,
   "id": "29731d4f-754f-42d6-8074-9e53b7f71774",
   "metadata": {},
   "outputs": [],
   "source": []
  }
 ],
 "metadata": {
  "kernelspec": {
   "display_name": "Python 3 (ipykernel)",
   "language": "python",
   "name": "python3"
  },
  "language_info": {
   "codemirror_mode": {
    "name": "ipython",
    "version": 3
   },
   "file_extension": ".py",
   "mimetype": "text/x-python",
   "name": "python",
   "nbconvert_exporter": "python",
   "pygments_lexer": "ipython3",
   "version": "3.10.8"
  }
 },
 "nbformat": 4,
 "nbformat_minor": 5
}
