{
 "cells": [
  {
   "cell_type": "markdown",
   "id": "e01bcbf0-433e-4e90-8cd8-81110c12d8b8",
   "metadata": {},
   "source": [
    "## Q1: Define overfitting and underfitting in machine learning. What are the consequences of each, and how can they be mitigated?\n",
    "Ans :\n",
    "\n",
    "1. when model accuracy is high on train dataset but model accuracy is low on test dataset it is called overfitting\n",
    "2. when model accuracy is low on train dataset and also model accuracy is low on test dataset it is called underfitting\n",
    "In overfitting and underfitting model accuracy will be affected on a given dataset\n",
    "\n",
    "## Q2: How can we reduce overfitting? Explain in brief.\n",
    "Ans : There is some technique, that can be used to handle overfitting\n",
    "\n",
    "1. Increase the amount of data : Some time this problem happens when small amount of data\n",
    "2. Simplify the model : Some time this type of problem occurs when we create a complex model\n",
    "3. Use cross-validation: This technique will improve if any error is there.\n",
    "\n",
    "## Q3: Explain underfitting. List scenarios where underfitting can occur in ML.\n",
    "Ans : This problem happened when ML model accuracy with train dataset was low and also the accuracy with test dataset low\n",
    "There is some reasons\n",
    "\n",
    "1. Insufficient training data\n",
    "2. Missing in Feature selection\n",
    "3. Model complexity without any region\n",
    "## Q4: Explain the bias-variance tradeoff in machine learning. What is the relationship between bias and variance, and how do they affect model performance?\n",
    "Ans :\n",
    "Both are using for checking model accuracy\n",
    "\n",
    "1. Bias relate to train dataset accuracy and Variance relates to test dataset accuracy\n",
    "2. If bias is high it means train dataset accuracy is low\n",
    "3. if the variance is high it means test dataset accuracy is low\n",
    "## Q5: Discuss some common methods for detecting overfitting and underfitting in machine learning models. How can you determine whether your model is overfitting or underfitting?\n",
    "Ans :\n",
    "There is some common methods that are used to fix overfitting or underfitting in ML\n",
    "\n",
    "1. Cross-validation : Check your model again\n",
    "2. Hyperparameter Tuning : test model by using the validation dataset\n",
    "3. Learning Curves about plots\n",
    "By using validation dataset check model accuracy\n",
    "\n",
    "## Q6: Compare and contrast bias and variance in machine learning. What are some examples of high bias and high variance models, and how do they differ in terms of their performance?\n",
    "Ans :\n",
    "Bias and Variance are two important sources of error in machine learning models. Bias refers to the error that is introduced by the model's assumptions about the target function and is related to the model's simplicity. Variance refers to the error that is introduced by the model's sensitivity to fluctuations in the training data and is related to the model's complexity. Both high bias and high variance can lead to poor performance and generalization, and it is important to strike a balance between them by selecting an appropriate model complexity and regularization technique.\n",
    "\n",
    "## Q7: What is regularization in machine learning, and how can it be used to prevent overfitting? Describe some common regularization techniques and how they work.\n",
    "Ans : Regularization is a technique in machine learning used to prevent overfitting and improve the generalization performance of a model. It involves adding a penalty term to the loss function during training to encourage the model to have smaller weights, and therefore, be less complex."
   ]
  },
  {
   "cell_type": "code",
   "execution_count": null,
   "id": "42e381ca-5ced-49a4-9a5b-6fd9652d72c9",
   "metadata": {},
   "outputs": [],
   "source": []
  }
 ],
 "metadata": {
  "kernelspec": {
   "display_name": "Python 3 (ipykernel)",
   "language": "python",
   "name": "python3"
  },
  "language_info": {
   "codemirror_mode": {
    "name": "ipython",
    "version": 3
   },
   "file_extension": ".py",
   "mimetype": "text/x-python",
   "name": "python",
   "nbconvert_exporter": "python",
   "pygments_lexer": "ipython3",
   "version": "3.10.8"
  }
 },
 "nbformat": 4,
 "nbformat_minor": 5
}
