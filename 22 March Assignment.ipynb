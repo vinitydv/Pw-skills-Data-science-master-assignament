{
 "cells": [
  {
   "cell_type": "markdown",
   "id": "c07cedc2-a928-400f-8827-e83587a3a4c1",
   "metadata": {},
   "source": [
    "## Q1. Pearson correlation coefficient is a measure of the linear relationship between two variables. Suppose you have collected data on the amount of time students spend studying for an exam and their final exam scores. Calculate the Pearson correlation coefficient between these two variables and interpret the result.\n",
    "\n",
    "Ans: To calculate the Pearson correlation coefficient between the amount of time students spend studying for an exam and their final exam scores, you will need to have collected data on both variables from a sample of students. Once you have collected the data, you can use the following formula to calculate the correlation coefficient:\n",
    "\n",
    "r = (Σ(x - x̄)(y - ȳ)) / √(Σ(x - x̄)²Σ(y - ȳ)²)\n",
    "\n",
    "where x and y are the two variables (in this case, the amount of time spent studying and the final exam scores), x̄ and ȳ are their respective means, and Σ represents the sum of the values.\n",
    "\n",
    "The resulting correlation coefficient, r, will be a value between -1 and 1. A value of 1 indicates a perfect positive correlation, meaning that as one variable increases, the other variable also increases in a linear fashion. A value of -1 indicates a perfect negative correlation, meaning that as one variable increases, the other variable decreases in a linear fashion. A value of 0 indicates no linear correlation between the two variables.\n",
    "\n",
    "Interpreting the result of the correlation coefficient calculation will depend on the value obtained. If the correlation coefficient is positive and close to 1, this would suggest a strong positive linear relationship between the amount of time spent studying and final exam scores. This means that students who spent more time studying tended to score higher on the exam. On the other hand, if the correlation coefficient is negative and close to -1, this would suggest a strong negative linear relationship between the amount of time spent studying and final exam scores. This would indicate that students who spent less time studying tended to score higher on the exam. Finally, if the correlation coefficient is close to 0, this would suggest that there is no linear relationship between the two variables, and studying time does not have a significant impact on final exam scores.\n",
    "\n",
    "\n",
    "\n"
   ]
  },
  {
   "cell_type": "markdown",
   "id": "8d6ffc3e-3e87-428d-8591-1d0777b48b00",
   "metadata": {},
   "source": [
    "## Q2. Spearman's rank correlation is a measure of the monotonic relationship between two variables.Suppose you have collected data on the amount of sleep individuals get each night and their overall job satisfaction level on a scale of 1 to 10. Calculate the Spearman's rank correlation between these two variables and interpret the result.\n",
    "\n",
    "Ans: To calculate Spearman's rank correlation between the amount of sleep individuals get each night and their overall job satisfaction level, you will need to have collected data on both variables from a sample of individuals. Once you have collected the data, you can use the following formula to calculate the correlation coefficient:\n",
    "\n",
    "r_s = 1 - (6 Σd^2) / (n(n^2 - 1))\n",
    "\n",
    "where d is the difference between the ranks of the two variables for each individual, n is the sample size, and Σ represents the sum of the values.\n",
    "\n",
    "The resulting correlation coefficient, r_s, will be a value between -1 and 1. A value of 1 indicates a perfect monotonic positive correlation, meaning that as one variable increases, the other variable also increases in a monotonic fashion. A value of -1 indicates a perfect monotonic negative correlation, meaning that as one variable increases, the other variable decreases in a monotonic fashion. A value of 0 indicates no monotonic correlation between the two variables.\n",
    "\n",
    "Interpreting the result of the correlation coefficient calculation will depend on the value obtained. If the correlation coefficient is positive and close to 1, this would suggest a strong monotonic positive relationship between the amount of sleep individuals get each night and their overall job satisfaction level. This means that individuals who get more sleep tend to report higher levels of job satisfaction. On the other hand, if the correlation coefficient is negative and close to -1, this would suggest a strong monotonic negative relationship between the amount of sleep individuals get each night and their overall job satisfaction level. This would indicate that individuals who get less sleep tend to report higher levels of job satisfaction. Finally, if the correlation coefficient is close to 0, this would suggest that there is no monotonic relationship between the two variables, and the amount of sleep individuals get each night does not have a significant impact on their overall job satisfaction level.\n",
    "\n",
    "\n",
    "\n"
   ]
  },
  {
   "cell_type": "markdown",
   "id": "4576a21f-cb15-464c-8731-124fb193caa4",
   "metadata": {},
   "source": [
    "## Q3. Suppose you are conducting a study to examine the relationship between the number of hours of exercise per week and body mass index (BMI) in a sample of adults. You collected data on both variables for 50 participants. Calculate the Pearson correlation coefficient and the Spearman's rank correlation between these two variables and compare the results.\n",
    "\n",
    "Ans: To calculate the Pearson correlation coefficient and the Spearman's rank correlation coefficient between the number of hours of exercise per week and body mass index (BMI), you will need to have collected data on both variables from a sample of 50 participants. Once you have collected the data, you can use the following formulas:\n",
    "\n",
    "Pearson correlation coefficient (r) = (Σ(x - x̄)(y - ȳ)) / √(Σ(x - x̄)²Σ(y - ȳ)²)\n",
    "\n",
    "Spearman's rank correlation coefficient (r_s) = 1 - (6 Σd^2) / (n(n^2 - 1))\n",
    "\n",
    "where x and y are the two variables (in this case, the number of hours of exercise per week and BMI), x̄ and ȳ are their respective means, d is the difference between the ranks of the two variables for each individual, n is the sample size, and Σ represents the sum of the values.\n",
    "\n",
    "After calculating both coefficients, you can compare the results. The Pearson correlation coefficient measures the strength of the linear relationship between two variables, while the Spearman's rank correlation coefficient measures the strength of the monotonic relationship between two variables. If the relationship between the two variables is linear, then the Pearson correlation coefficient will be higher. If the relationship between the two variables is monotonic, then the Spearman's rank correlation coefficient will be higher.\n",
    "\n",
    "If the Pearson correlation coefficient is high, for example, close to 1 or -1, this would indicate a strong linear relationship between the number of hours of exercise per week and BMI. If the Spearman's rank correlation coefficient is high, for example, close to 1 or -1, this would indicate a strong monotonic relationship between the number of hours of exercise per week and BMI, but not necessarily a linear one.\n",
    "\n",
    "It is important to note that both coefficients have their strengths and limitations, and the choice of which one to use depends on the nature of the data and the research question."
   ]
  },
  {
   "cell_type": "markdown",
   "id": "e2bb0ddc-6d95-4ade-b201-d7b7cdb68b72",
   "metadata": {},
   "source": [
    "## Q4. A researcher is interested in examining the relationship between the number of hours individuals spend watching television per day and their level of physical activity. The researcher collected data on both variables from a sample of 50 participants. Calculate the Pearson correlation coefficient between these two variables.\n",
    "\n",
    "Ans: To calculate the Pearson correlation coefficient between the number of hours individuals spend watching television per day and their level of physical activity, you will need to have collected data on both variables from a sample of 50 participants. Once you have collected the data, you can use the following formula:\n",
    "\n",
    "r = (Σ(x - x̄)(y - ȳ)) / √(Σ(x - x̄)²Σ(y - ȳ)²)\n",
    "\n",
    "where x and y are the two variables (in this case, the number of hours individuals spend watching television per day and their level of physical activity), x̄ and ȳ are their respective means, and Σ represents the sum of the values.\n",
    "\n",
    "After plugging in the values and calculating the formula, you will get a value between -1 and 1. A value of 1 indicates a perfect positive correlation, meaning that as the number of hours individuals spend watching television per day increases, their level of physical activity also increases. A value of -1 indicates a perfect negative correlation, meaning that as the number of hours individuals spend watching television per day increases, their level of physical activity decreases. A value of 0 indicates no correlation between the two variables.\n",
    "\n",
    "Interpreting the result of the correlation coefficient calculation will depend on the value obtained. If the correlation coefficient is positive and close to 1, this would suggest a strong positive correlation between the number of hours individuals spend watching television per day and their level of physical activity. This means that individuals who spend more time watching television tend to have higher levels of physical activity. On the other hand, if the correlation coefficient is negative and close to -1, this would suggest a strong negative correlation between the number of hours individuals spend watching television per day and their level of physical activity. This would indicate that individuals who spend more time watching television tend to have lower levels of physical activity. Finally, if the correlation coefficient is close to 0, this would suggest that there is no correlation between the two variables, and the number of hours individuals spend watching television per day does not have a significant impact on their level of physical activity.\n",
    "\n",
    "\n",
    "\n"
   ]
  },
  {
   "cell_type": "markdown",
   "id": "3b5da886-05dc-44b7-b066-5ba691eb18b8",
   "metadata": {},
   "source": [
    "## Q5. A survey was conducted to examine the relationship between age and preference for a particular brand of soft drink. The survey results are shown below:\n",
    "        Age                   (Years)\n",
    "        25                      Coke\n",
    "        42                      Pepsi\n",
    "        37                      Mountain dew\n",
    "        19                      Coke\n",
    "        31                      Pepsi\n",
    "        28                      Coke\n",
    "\n",
    "\n"
   ]
  },
  {
   "cell_type": "markdown",
   "id": "5e6d0d9e-da4b-4c37-af4f-94162ec41d3d",
   "metadata": {},
   "source": [
    "Ans :The survey results provide information on the age and brand preference for a particular soft drink. The information can be summarized as follows:\n",
    "\n",
    "Age: 25, 42, 37, 19, 31, 28\n",
    "Brand Preference: Coke, Pepsi, Mountain Dew, Coke, Pepsi, Coke\n",
    "\n",
    "To examine the relationship between age and preference for a particular brand of soft drink, you can use a contingency table or a bar graph to visualize the data.\n",
    "\n",
    "A contingency table can be constructed by listing the different ages in one column and the different soft drink brands in another column. Then, count the number of individuals who fall into each age group and soft drink brand category. The resulting table will show the frequency of each combination of age and soft drink brand.\n",
    "\n",
    "        Age\t    Coke\tPepsi\tMountain Dew\n",
    "        19\t     1\t     0\t        0\n",
    "        25\t     1\t     0\t        0\n",
    "        28\t     1\t     0\t        0\n",
    "        31     \t0\t     1\t        0  \n",
    "        37\t    0\t     0\t        1\n",
    "        42\t    0\t     1\t        0\n",
    "        \n",
    "From the contingency table, it can be observed that 3 individuals prefer Coke, 2 prefer Pepsi, and 1 prefers Mountain Dew. Additionally, the ages of the individuals who prefer Coke are 25, 28, and 19, while the ages of those who prefer Pepsi are 42 and 31, and the age of the individual who prefers Mountain Dew is 37.\n",
    "\n",
    "A bar graph can also be used to visualize the data, with age on the x-axis and the count or percentage of individuals who prefer each soft drink brand on the y-axis.\n",
    "\n",
    "In summary, the survey results indicate that there is no clear relationship between age and preference for a particular brand of soft drink, as the individuals surveyed have varying preferences across different age groups."
   ]
  },
  {
   "cell_type": "markdown",
   "id": "ce738751-3437-42b8-a793-f6e386991848",
   "metadata": {},
   "source": [
    "## Q6. A company is interested in examining the relationship between the number of sales calls made per day and the number of sales made per week. The company collected data on both variables from a sample of 30 sales representatives. Calculate the Pearson correlation coefficient between these two variables.\n",
    "\n",
    "Ans : To calculate the Pearson correlation coefficient between the number of sales calls made per day and the number of sales made per week, we need to first calculate the covariance and the standard deviations of the two variables.\n",
    "\n",
    "Let X be the number of sales calls made per day and Y be the number of sales made per week.\n",
    "\n",
    "The formula for the Pearson correlation coefficient (r) is:\n",
    "\n",
    "r = cov(X, Y) / (sd(X) * sd(Y))\n",
    "\n",
    "where cov(X, Y) is the covariance between X and Y, and sd(X) and sd(Y) are the standard deviations of X and Y, respectively.\n",
    "\n",
    "Suppose the data collected from the 30 sales representatives are as follows:\n",
    "\n",
    "X = {40, 30, 35, 45, 50, 35, 30, 25, 20, 35, 45, 50, 55, 60, 40, 35, 30, 45, 50, 55, 60, 65, 45, 50, 55, 60, 40, 35, 30, 25}\n",
    "Y = {5, 4, 3, 6, 7, 4, 3, 2, 1, 4, 6, 7, 8, 9, 5, 4, 3, 6, 7, 8, 9, 10, 6, 7, 8, 9, 5, 4, 3, 2}\n",
    "\n",
    "We can calculate the mean, covariance, and standard deviations using the following formulas:\n",
    "\n",
    "mean(X) = (sum of X) / n = 41.5\n",
    "\n",
    "mean(Y) = (sum of Y) / n = 5.5\n",
    "\n",
    "cov(X, Y) = (sum of (Xi - mean(X)) * (Yi - mean(Y))) / (n - 1) = 148.1\n",
    "\n",
    "sd(X) = sqrt((sum of (Xi - mean(X))^2) / (n - 1)) = 12.98\n",
    "\n",
    "sd(Y) = sqrt((sum of (Yi - mean(Y))^2) / (n - 1)) = 2.41\n",
    "\n",
    "Plugging these values into the formula for the Pearson correlation coefficient, we get:\n",
    "\n",
    "r = 148.1 / (12.98 * 2.41) = 5.83\n",
    "\n",
    "Therefore, the Pearson correlation coefficient between the number of sales calls made per day and the number of sales made per week is 5.83. This indicates a strong positive correlation between the two variables, suggesting that there is a relationship between the number of sales calls made per day and the number of sales made per week.\n",
    "\n",
    "\n",
    "\n"
   ]
  },
  {
   "cell_type": "code",
   "execution_count": null,
   "id": "f211904a-9a10-48f3-8764-44756be186ba",
   "metadata": {},
   "outputs": [],
   "source": []
  }
 ],
 "metadata": {
  "kernelspec": {
   "display_name": "Python 3 (ipykernel)",
   "language": "python",
   "name": "python3"
  },
  "language_info": {
   "codemirror_mode": {
    "name": "ipython",
    "version": 3
   },
   "file_extension": ".py",
   "mimetype": "text/x-python",
   "name": "python",
   "nbconvert_exporter": "python",
   "pygments_lexer": "ipython3",
   "version": "3.10.8"
  }
 },
 "nbformat": 4,
 "nbformat_minor": 5
}
