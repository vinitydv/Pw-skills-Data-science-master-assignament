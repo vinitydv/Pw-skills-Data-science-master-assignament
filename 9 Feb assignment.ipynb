{
 "cells": [
  {
   "cell_type": "code",
   "execution_count": 1,
   "id": "f820b67f-d2df-4b79-b0c4-088af1874a83",
   "metadata": {},
   "outputs": [],
   "source": [
    "# Q1, Create a vehicle class with an init method having instance variables as name_of_vehicle, max_speed and average_of_vehicle."
   ]
  },
  {
   "cell_type": "code",
   "execution_count": 2,
   "id": "f6058ac1-a02b-47ed-8b32-1b39c41be1a2",
   "metadata": {},
   "outputs": [],
   "source": [
    "class Vehicle:\n",
    "    def __init__(self, name_of_vehicle, max_speed, average_of_vehicle):\n",
    "        self.name_of_vehicle = name_of_vehicle\n",
    "        self.max_speed = max_speed\n",
    "        self.average_of_vehicle = average_of_vehicle"
   ]
  },
  {
   "cell_type": "code",
   "execution_count": 3,
   "id": "2a327bab-f818-400e-980e-d67678d24d65",
   "metadata": {},
   "outputs": [],
   "source": [
    "# Q2. Create a child class car from the vehicle class created in Que 1,which will inherit the vehicle class. Create a method named seating_capacity which takes capacity as an argument and returns the name of the vehicle and its seating capacity."
   ]
  },
  {
   "cell_type": "code",
   "execution_count": 4,
   "id": "8073f6e2-3343-4040-bc3a-cc537df19a9c",
   "metadata": {},
   "outputs": [],
   "source": [
    "class Car(Vehicle):\n",
    "    def __init__(self, name_of_vehicle,max_speed,average_of_vehicle):\n",
    "        super().__init__(name_of_vehicle,max_speed,average_of_vehicle)     # inherit instance variable form parent class\n",
    "#         self.capacity = capacity\n",
    "    def seating_capacity(self, capacity):\n",
    "        return print(f\"Name of the vehicle is {self.name_of_vehicle}, \\nAnd its seating capacity {capacity}\")\n"
   ]
  },
  {
   "cell_type": "code",
   "execution_count": 5,
   "id": "2051da57-6d58-4f48-9eb9-bdbe03f8b409",
   "metadata": {},
   "outputs": [],
   "source": [
    "obj = Car('innova',260,130)"
   ]
  },
  {
   "cell_type": "code",
   "execution_count": 6,
   "id": "0d3131f5-da88-4c76-943a-d712b793b4fa",
   "metadata": {},
   "outputs": [
    {
     "name": "stdout",
     "output_type": "stream",
     "text": [
      "Name of the vehicle is innova, \n",
      "And its seating capacity 25\n"
     ]
    }
   ],
   "source": [
    "obj.seating_capacity('25')"
   ]
  },
  {
   "cell_type": "code",
   "execution_count": 7,
   "id": "d3763e96-b9d3-4a91-8679-cb0b013440a4",
   "metadata": {},
   "outputs": [
    {
     "data": {
      "text/plain": [
       "'innova'"
      ]
     },
     "execution_count": 7,
     "metadata": {},
     "output_type": "execute_result"
    }
   ],
   "source": [
    "obj.name_of_vehicle"
   ]
  },
  {
   "cell_type": "code",
   "execution_count": 8,
   "id": "fd097c77-c131-49c2-b107-062684ef0d9f",
   "metadata": {},
   "outputs": [],
   "source": [
    "# Q3. What is multiple inheritance? Write a python code to demonstrate multiple inheritance."
   ]
  },
  {
   "cell_type": "code",
   "execution_count": 9,
   "id": "4ea38de6-4c1a-4cf3-9350-46d0b93c992d",
   "metadata": {},
   "outputs": [
    {
     "name": "stdout",
     "output_type": "stream",
     "text": [
      "Hi, Nazer. You are 29 years old, and you are from Delhi.\n"
     ]
    }
   ],
   "source": [
    "#Multple Inheritance\n",
    "class Person1:                         # first parent class\n",
    "    def __init__(self, name):\n",
    "        self.name = name    \n",
    "        \n",
    "class Person2:                         # second parent class\n",
    "    def __init__(self, address):\n",
    "        self.address = address\n",
    "    \n",
    "class Student(Person1, Person2):       # child class inherit both instance methods form Person1 and Person2\n",
    "    def __init__(self, name, address,age):\n",
    "        Person1.__init__(self,name)\n",
    "        Person2.__init__(self,address)\n",
    "        self.age = age\n",
    "    def details(self):\n",
    "        return self.name,self.address, self.age\n",
    "    \n",
    "Student = Student('Nazer', 'Delhi',29) \n",
    "\n",
    "print(f'Hi, {Student.name}. You are {Student.age} years old, and you are from {Student.address}.')"
   ]
  },
  {
   "cell_type": "code",
   "execution_count": 10,
   "id": "05ba6404-c5c7-43cd-80fb-9290af366ca0",
   "metadata": {},
   "outputs": [],
   "source": [
    "# Q4. What are getter and setter in python? Create a class and create a getter and a setter method in this class."
   ]
  },
  {
   "cell_type": "code",
   "execution_count": null,
   "id": "609887ae-263b-4cc1-ba8e-09eb2deaa4b2",
   "metadata": {},
   "outputs": [],
   "source": [
    "Ans :\n",
    "\n",
    "getter method\n",
    "This method is used to access or read data of the variables.\n",
    "This method do not modify the data in the variable\n",
    "It is also called Accessor Method\n",
    "Convention rules for getter method\n",
    "def get_result(self):\n",
    "def get_name(self):\n",
    "def get_numbers(self):"
   ]
  },
  {
   "cell_type": "code",
   "execution_count": 12,
   "id": "ba3f31ee-b23a-48ec-a967-9196283ae230",
   "metadata": {},
   "outputs": [
    {
     "data": {
      "text/plain": [
       "'Year 2023'"
      ]
     },
     "execution_count": 12,
     "metadata": {},
     "output_type": "execute_result"
    }
   ],
   "source": [
    "class Car:\n",
    "    def __init__(self):\n",
    "        self.model = 'Year 2023'\n",
    "    def get_model(self):\n",
    "        return self.model\n",
    "obj = Car()\n",
    "obj.get_model()"
   ]
  },
  {
   "cell_type": "code",
   "execution_count": null,
   "id": "bb1703a7-7763-4887-bd48-eb8455d496d6",
   "metadata": {},
   "outputs": [],
   "source": [
    "setter method\n",
    "This mehtod is used to read and modify data of the variable\n",
    "This is also called metator method\n",
    "setter method gets parametr as argument\n",
    "without parameter return error\n",
    "Convention rules for getter method\n",
    "def set_result(self):\n",
    "def set_name(self):\n",
    "def set_numbers(self):"
   ]
  },
  {
   "cell_type": "code",
   "execution_count": 13,
   "id": "8c81e1d6-9055-4f29-9b95-937cae53b407",
   "metadata": {},
   "outputs": [
    {
     "data": {
      "text/plain": [
       "'Year 2022'"
      ]
     },
     "execution_count": 13,
     "metadata": {},
     "output_type": "execute_result"
    }
   ],
   "source": [
    "class Car:\n",
    "    def __init__(self):\n",
    "        self.model = 'Year 2023'\n",
    "    def get_model(self, model):\n",
    "        self.model = model\n",
    "        return self.model\n",
    "obj = Car()\n",
    "obj.get_model('Year 2022')"
   ]
  },
  {
   "cell_type": "code",
   "execution_count": 14,
   "id": "444bca31-2faf-42fd-b4f6-3852cfc5625d",
   "metadata": {},
   "outputs": [],
   "source": [
    "# Q5.What is method overriding in python? Write a python code to demonstrate method overriding."
   ]
  },
  {
   "cell_type": "code",
   "execution_count": null,
   "id": "b8994a4a-2c4f-48ae-8ede-ddcc48d21d89",
   "metadata": {},
   "outputs": [],
   "source": [
    "Ans :\n",
    "\n",
    "More than one method with same name and same class, it is called method overloading\n",
    "Define multiple methods with the same name but different parameters in a class.\n",
    "Method overloading allows us to provide multiple ways to call a single method based on the arguments you pass\n",
    "Method overloading ping last same method\n",
    "If you try to access first method is will show error"
   ]
  },
  {
   "cell_type": "code",
   "execution_count": 17,
   "id": "0e3e2435-fa51-4a75-ba1e-0d5dcda6b559",
   "metadata": {},
   "outputs": [],
   "source": [
    "class Math:\n",
    "    def add(self,a,b):\n",
    "        return a+b\n",
    "    def add(self,a):\n",
    "        return a\n",
    "obj = Math() "
   ]
  },
  {
   "cell_type": "code",
   "execution_count": null,
   "id": "8dd68828-4d86-4d10-935f-11360ded6df9",
   "metadata": {},
   "outputs": [],
   "source": []
  }
 ],
 "metadata": {
  "kernelspec": {
   "display_name": "Python 3 (ipykernel)",
   "language": "python",
   "name": "python3"
  },
  "language_info": {
   "codemirror_mode": {
    "name": "ipython",
    "version": 3
   },
   "file_extension": ".py",
   "mimetype": "text/x-python",
   "name": "python",
   "nbconvert_exporter": "python",
   "pygments_lexer": "ipython3",
   "version": "3.10.8"
  }
 },
 "nbformat": 4,
 "nbformat_minor": 5
}
