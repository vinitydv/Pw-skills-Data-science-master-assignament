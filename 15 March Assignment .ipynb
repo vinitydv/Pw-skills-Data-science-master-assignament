{
 "cells": [
  {
   "cell_type": "markdown",
   "id": "36a8f9c5-b2cc-493c-be47-1d16045217da",
   "metadata": {},
   "source": [
    "## Q1: Explain the following with an example:\n",
    "1. Artificial Intelligence\n",
    "2. Machine Learning\n",
    "3.  Deep Learning\n",
    "Ans :\n",
    "\n",
    " Artificial Intelligence: It is a superset where ML and DS are a subset of this. In Artificial Intelligence we try to create a smart application that performs tasks without human intervention.\n",
    "e.g. self driving car, robots, Alexa\n",
    "\n",
    " Machine Learning is a subset of AI, that provide different types of tool and technique to analyze, visualize predict model.\n",
    "e.g. Recommendation system in Amazon(product), Youtube(videos), etc.\n",
    "\n",
    "\n",
    "Deep Learning is a subset of ML, that is specially used to mimic (copy the action and performance) the human brain\n",
    "e.g. object detection, image recognition, chat boat"
   ]
  },
  {
   "cell_type": "markdown",
   "id": "c87fad98-04c4-407c-a3c4-fe25041e90c5",
   "metadata": {},
   "source": [
    "## Q2: What is supervised learning? List some examples of supervised learning.\n",
    "Ans :\n",
    "Supervised Learning is a part of machine learning, where output is known, It may be categorical or continuous outputs\n",
    "\n",
    "e.g. in categorical output\n",
    "\n",
    "    input-weight\tinput-height\toutput-M/F\n",
    "        75\t           170cm\t        M\n",
    "        45\t           120\t            F\n",
    "e.g. in continuous output\n",
    "\n",
    "    input-RAM\tinput-Hard Disk\t    output-Price\n",
    "        4\t         500GB\t         40000\n",
    "        8\t         1TB\t         80000"
   ]
  },
  {
   "cell_type": "markdown",
   "id": "d7fa1d8a-f598-44da-b0d4-dba2ba387904",
   "metadata": {},
   "source": [
    "## Q3: What is unsupervised learning? List some examples of unsupervised learning.\n",
    "Ans :\n",
    "Unsupervised Learning is a part of machine learning, where output is unknown, In this type of ML we try to find out clustering or grouping the dataset."
   ]
  },
  {
   "cell_type": "markdown",
   "id": "99049318-6428-4e60-852e-69add2b06336",
   "metadata": {},
   "source": [
    "## Q4: What is the difference between AI, ML, DL, and DS?\n",
    "Ans :\n",
    "\n",
    "1. AI is a superset of ML and DS\n",
    "2. ML is a subset of AI\n",
    "3. DS is a intersection of AI, ML and DL\n",
    "4. DL is a subset of ML"
   ]
  },
  {
   "cell_type": "markdown",
   "id": "265b7a90-0e23-4dff-a69e-7370304851ae",
   "metadata": {},
   "source": [
    "## Q5: What are the main differences between supervised, unsupervised, and semi-supervised learning?\n",
    "Ans :\n",
    "Supervised : output(label) is known, trained model on the correct output\n",
    "\n",
    "Unsupervised : output(label) is unknown, trained model to build clustering or grouping of the dataset\n",
    "\n",
    "Semi-supervised : some output is known and some are unknown (supervised + unsupervised)\n",
    "\n",
    "## Q6: What is train, test and validation split? Explain the importance of each term.\n",
    "Ans :\n",
    "train : This dataset is used to train ML model, without this dataset we can’t create a model\n",
    "\n",
    "test : This dataset is used to test the ML model works properly or not, It is fully hidden from model\n",
    "\n",
    "validation : It is a subset of the training dataset which is used to tune the hyperparameter(or improve it if possible)"
   ]
  },
  {
   "cell_type": "markdown",
   "id": "f985b03d-559c-4fa7-a7c0-bf8e3024ca26",
   "metadata": {},
   "source": [
    "## Q7: How can unsupervised learning be used in anomaly detection?\n",
    "\n",
    "Ans:\n",
    "Unsupervised learning can be used in anomaly detection by using techniques like clustering and dimensionality reduction.\n",
    "\n",
    "One approach is to use clustering algorithms such as K-means or DBSCAN to group similar data points together. Once the clusters have been identified, any data points that do not fit within a cluster or are significantly far away from the centroid of the cluster can be considered as anomalies.\n",
    "\n",
    "Another approach is to use dimensionality reduction techniques like Principal Component Analysis (PCA) or t-SNE to reduce the dimensionality of the data. This reduces the complexity of the data and helps to identify any outliers that may exist in the data.\n",
    "\n",
    "In both cases, the unsupervised approach is able to identify anomalies in the data without the need for labeled training data. This makes it particularly useful in cases where the anomalies are not known beforehand, or when the data is too large to be labeled manually.\n",
    "\n",
    "It is important to note that unsupervised anomaly detection is not foolproof and may have false positives or false negatives. Therefore, it is always advisable to validate any anomalies detected through unsupervised learning with domain experts.\n",
    "\n",
    "## Q8: List down some commonly used supervised learning algorithms and unsupervised learning algorithms.\n",
    "Ans :\n",
    "\n",
    "1. Regression\n",
    "2. linear\n",
    "3. Polynomial\n",
    "4. Decision Trees\n",
    "5. Random Forests\n",
    "6. KNN\n",
    "7. Trees\n",
    "8. SVM"
   ]
  },
  {
   "cell_type": "code",
   "execution_count": null,
   "id": "ad6ad817-665c-4b32-b530-142a049920cc",
   "metadata": {},
   "outputs": [],
   "source": []
  }
 ],
 "metadata": {
  "kernelspec": {
   "display_name": "Python 3 (ipykernel)",
   "language": "python",
   "name": "python3"
  },
  "language_info": {
   "codemirror_mode": {
    "name": "ipython",
    "version": 3
   },
   "file_extension": ".py",
   "mimetype": "text/x-python",
   "name": "python",
   "nbconvert_exporter": "python",
   "pygments_lexer": "ipython3",
   "version": "3.10.8"
  }
 },
 "nbformat": 4,
 "nbformat_minor": 5
}
