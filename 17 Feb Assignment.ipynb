{
 "cells": [
  {
   "cell_type": "code",
   "execution_count": null,
   "id": "2c1ed696-632e-4b91-a018-40a9ab1efeef",
   "metadata": {},
   "outputs": [],
   "source": [
    "Q1. What is MongoDB? Explain non-relational databases in short. In which scenarios it is preferred to use MongoDB over SQL databases?"
   ]
  },
  {
   "cell_type": "code",
   "execution_count": null,
   "id": "415f47c8-af6f-40a2-a561-f064ab0ac8dd",
   "metadata": {},
   "outputs": [],
   "source": [
    "MongoDB is a NoSql database\n",
    "\n",
    "non-relational databases support unstructured or semi-structured data also.\n",
    "non-relational databases no need to predefine schema\n",
    "non-relational databases is a best option for memory management\n",
    "When you know your data may be unstructured or semi-structured, and you also need a flexible schema"
   ]
  },
  {
   "cell_type": "code",
   "execution_count": null,
   "id": "e201d801-21bf-4eec-bd91-563398c6519c",
   "metadata": {},
   "outputs": [],
   "source": [
    "Q2. State and Explain the features of MongoDB."
   ]
  },
  {
   "cell_type": "code",
   "execution_count": null,
   "id": "995defe0-e9ca-4e24-a070-0b11f3cbb3c6",
   "metadata": {},
   "outputs": [],
   "source": [
    "Ans :\n",
    "\n",
    "This is a Schema-less Database\n",
    "This is Document Oriented or key-value\n",
    "This allows Dynamic Queries (no need schema)\n",
    "Power full Aggregation for filtering, sorting, etc."
   ]
  },
  {
   "cell_type": "code",
   "execution_count": null,
   "id": "6e3586b6-8728-4a63-a6d6-8c394fa635a3",
   "metadata": {},
   "outputs": [],
   "source": [
    "Q3. Write a code to connect MongoDB to Python. Also, create a database and a collection in MongoDB."
   ]
  },
  {
   "cell_type": "code",
   "execution_count": null,
   "id": "70320b64-e0e8-474b-b36e-e14309a1b76c",
   "metadata": {},
   "outputs": [],
   "source": [
    "#connect MongoDB to Python\n",
    "import pymongo\n",
    "client = pymongo.MongoClient(\"mongodb+srv://<username>:<passeord>@cluster0.m6yagtd.mongodb.net/?retryWrites=true&w=majority\")\n",
    "db = client.test"
   ]
  },
  {
   "cell_type": "code",
   "execution_count": null,
   "id": "f6687418-6be5-4720-a1f2-1881202ca09f",
   "metadata": {},
   "outputs": [],
   "source": [
    "# create a database\n",
    "db = client['TestDatabase']    "
   ]
  },
  {
   "cell_type": "code",
   "execution_count": null,
   "id": "a0466223-3bb4-41fc-af1c-a08aaeba9652",
   "metadata": {},
   "outputs": [],
   "source": [
    "\n",
    "# collection in MongoDB\n",
    "data = {\"name\" : \"Akram\" , \n",
    "        \"class\" :\"data science masters \" ,\n",
    "        \"time\" : \"flexi\"}\n",
    "test_collection = db[\"my_record\"]\n",
    "test_collection.insert_one(data1)"
   ]
  },
  {
   "cell_type": "code",
   "execution_count": null,
   "id": "4d974aad-4779-47b9-901b-ff4cb22c5803",
   "metadata": {},
   "outputs": [],
   "source": [
    "Q4. Using the database and the collection created in question number 3, write a code to insert one record, and insert many records. Use the find() and find_one() methods to print the inserted record."
   ]
  },
  {
   "cell_type": "code",
   "execution_count": null,
   "id": "0c2cf5b9-d575-47f9-b51e-8f47c6a23d6c",
   "metadata": {},
   "outputs": [],
   "source": [
    "#connect MongoDB to Python\n",
    "import pymongo\n",
    "client = pymongo.MongoClient(\"mongodb+srv://<username>:<passeord>@cluster0.m6yagtd.mongodb.net/?retryWrites=true&w=majority\")\n",
    "db = client.test\n",
    "db = client['TestDatabase']  \n",
    "data = {\"name\" : \"Akram\" , \n",
    "        \"class\" :\"data science masters \" ,\n",
    "        \"time\" : \"flexi\"}\n",
    "test_collection = db[\"my_record\"]\n",
    "test_collection.insert_one(data1)\n",
    "\n",
    " data2 = [\n",
    "  { \"name\": \"Amy\", \"address\": \"Apple st 652\" },\n",
    "  { \"name\": \"Hannah\", \"address\": \"Mountain 21\" },\n",
    "  { \"name\": \"Chuck\", \"address\": \"Main Road 989\" },\n",
    "  { \"name\": \"Viola\", \"address\": \"Sideway 1633\" }\n",
    "]\n",
    "test_collection.insert_many(data2)"
   ]
  },
  {
   "cell_type": "code",
   "execution_count": null,
   "id": "f97301af-0369-40b7-9b1c-24aacd9b7d79",
   "metadata": {},
   "outputs": [],
   "source": [
    "test_collection.find_one()  "
   ]
  },
  {
   "cell_type": "code",
   "execution_count": null,
   "id": "ba2189c8-ef4e-4342-a564-a37f5bb65d19",
   "metadata": {},
   "outputs": [],
   "source": [
    "for i in test_collection.find():         # find all document from collection/table\n",
    "    print(i)"
   ]
  },
  {
   "cell_type": "code",
   "execution_count": null,
   "id": "27d25ba2-2817-4e3e-b7e3-fa2c73e9332a",
   "metadata": {},
   "outputs": [],
   "source": [
    "Q5. Explain how you can use the find() method to query the MongoDB database. Write a simple code to demonstrate this."
   ]
  },
  {
   "cell_type": "code",
   "execution_count": null,
   "id": "39280750-5c2d-4137-a7d0-d46eea791645",
   "metadata": {},
   "outputs": [],
   "source": [
    "find(): This function used to query and retrieve data from a MongoDB collection."
   ]
  },
  {
   "cell_type": "code",
   "execution_count": null,
   "id": "42d58348-b218-4b63-9fb9-4aa456d0184a",
   "metadata": {},
   "outputs": [],
   "source": [
    "for i in test_collection.find({'name': 'Chuck'}): \n",
    "    print(i)"
   ]
  },
  {
   "cell_type": "code",
   "execution_count": null,
   "id": "ddc3667d-6d4d-4405-82a8-ec36a27c7a8a",
   "metadata": {},
   "outputs": [],
   "source": [
    "for i in test_collection.find({\"_id\" :{\"$lt\" : '5'}}):  \n",
    "    print(i) "
   ]
  },
  {
   "cell_type": "code",
   "execution_count": null,
   "id": "7e90c4be-0273-49a0-924f-93601fb3f756",
   "metadata": {},
   "outputs": [],
   "source": [
    "Q6. Explain the sort() method. Give an example to demonstrate sorting in MongoDB."
   ]
  },
  {
   "cell_type": "code",
   "execution_count": null,
   "id": "c95bbbe0-119a-4a97-9aae-489cb5313ab5",
   "metadata": {},
   "outputs": [],
   "source": [
    "sort(): It is used to sort result quety"
   ]
  },
  {
   "cell_type": "code",
   "execution_count": null,
   "id": "b657e0b3-8042-44b1-b3fa-e1c14847f7c8",
   "metadata": {},
   "outputs": [],
   "source": [
    "# sort rutern data in order to name\n",
    "for i in test_collection.find().sort(\"name\"):\n",
    "    print(i)"
   ]
  },
  {
   "cell_type": "code",
   "execution_count": null,
   "id": "41b44381-2d02-431d-8bc3-724840fabdb5",
   "metadata": {},
   "outputs": [],
   "source": [
    "#sort in descending order\n",
    "for i in test_collection.find().sort(\"name\",-1):\n",
    "    print(i)"
   ]
  },
  {
   "cell_type": "code",
   "execution_count": null,
   "id": "d808f46b-0169-4ec9-b5e7-1db73ac472f0",
   "metadata": {},
   "outputs": [],
   "source": [
    "Q7. Explain why delete_one(), delete_many(), and drop() is used."
   ]
  },
  {
   "cell_type": "code",
   "execution_count": null,
   "id": "cc49c798-2cfd-488e-948b-b4f548a53405",
   "metadata": {},
   "outputs": [],
   "source": [
    "delete_one(): It is used to delete single document from collection"
   ]
  },
  {
   "cell_type": "code",
   "execution_count": null,
   "id": "620927b5-aeec-4a0a-8b00-640dd080d3ef",
   "metadata": {},
   "outputs": [],
   "source": [
    "test_collection.delete_one({'name': 'Chuck'})"
   ]
  },
  {
   "cell_type": "code",
   "execution_count": null,
   "id": "9ef879a1-b2f8-4d92-a5fb-7f4acd142dfb",
   "metadata": {},
   "outputs": [],
   "source": [
    "delete_many(): It is used to delete all data according to condition"
   ]
  },
  {
   "cell_type": "code",
   "execution_count": null,
   "id": "44acca68-5404-48bd-b0f5-44cd0fe2e1a3",
   "metadata": {},
   "outputs": [],
   "source": [
    "test_collection.delete_many({\"address\": { \"$regex\": \"^S\" }})"
   ]
  },
  {
   "cell_type": "code",
   "execution_count": null,
   "id": "d6fb070b-7179-4338-8a69-8fb0637efb72",
   "metadata": {},
   "outputs": [],
   "source": [
    "mycol = db[\"TestDatabase\"]                 # Create collection\n",
    "mycol.drop()                               #drop collection"
   ]
  },
  {
   "cell_type": "code",
   "execution_count": null,
   "id": "a7f4636a-d976-4c31-b635-5d0c5ea6a17d",
   "metadata": {},
   "outputs": [],
   "source": []
  },
  {
   "cell_type": "code",
   "execution_count": null,
   "id": "3dcacfce-74a5-45eb-a2ed-e2cbc3a8ccf5",
   "metadata": {},
   "outputs": [],
   "source": []
  },
  {
   "cell_type": "code",
   "execution_count": null,
   "id": "2eba9fda-50fd-4e49-8238-25f98bfc1a76",
   "metadata": {},
   "outputs": [],
   "source": []
  }
 ],
 "metadata": {
  "kernelspec": {
   "display_name": "Python 3 (ipykernel)",
   "language": "python",
   "name": "python3"
  },
  "language_info": {
   "codemirror_mode": {
    "name": "ipython",
    "version": 3
   },
   "file_extension": ".py",
   "mimetype": "text/x-python",
   "name": "python",
   "nbconvert_exporter": "python",
   "pygments_lexer": "ipython3",
   "version": "3.10.8"
  }
 },
 "nbformat": 4,
 "nbformat_minor": 5
}
