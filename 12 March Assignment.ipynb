{
 "cells": [
  {
   "cell_type": "code",
   "execution_count": 1,
   "id": "46ba93d2-e88d-431b-838a-69541e63edd9",
   "metadata": {},
   "outputs": [],
   "source": [
    "from scipy.stats import norm\n",
    "import numpy as np\n",
    "from scipy.stats import chisquare\n",
    "import scipy.stats as stats\n",
    "from statsmodels.stats.proportion import proportion_confint\n",
    "import matplotlib.pyplot as plt\n",
    "from scipy.stats import chi2_contingency\n",
    "from scipy.stats import t"
   ]
  },
  {
   "cell_type": "markdown",
   "id": "d9c21470-19d4-4acf-849a-7230202085e5",
   "metadata": {},
   "source": [
    "## Q1. Calculate the 95% confidence interval for a sample of data with a mean of 50 and a standard deviation of 5 using Python. Interpret the results."
   ]
  },
  {
   "cell_type": "code",
   "execution_count": 2,
   "id": "34a03e04-69b3-48ae-8d7a-04d3ccc26893",
   "metadata": {},
   "outputs": [
    {
     "name": "stdout",
     "output_type": "stream",
     "text": [
      "48.614 51.386\n"
     ]
    }
   ],
   "source": [
    "#given\n",
    "sample_m = 50\n",
    "sample_s = 5\n",
    "\n",
    "# lets sample size\n",
    "n = 50\n",
    "\n",
    "# Confidence level\n",
    "CL = 0.95\n",
    "\n",
    "std_error = sample_s / (n ** 0.5)\n",
    "\n",
    "z_score = norm.ppf((1 + CL) / 2)\n",
    "\n",
    "# Calculate the lower and upper bounds of the confidence interval\n",
    "l_bound = sample_m - z_score * std_error\n",
    "u_bound = sample_m + z_score * std_error\n",
    "\n",
    "# Print the results\n",
    "print(l_bound.round(3), u_bound.round(3))"
   ]
  },
  {
   "cell_type": "markdown",
   "id": "fcc9b6ed-b0ad-4805-8425-21d6ecb8a247",
   "metadata": {},
   "source": [
    "## Q2. Conduct a chi-square goodness of fit test to determine if the distribution of colors of M&Ms in a bag matches the expected distribution of 20% blue, 20% orange, 20% green, 10% yellow, 10% red, and 20% brown. Use Python to perform the test with a significance level of 0.05.\n"
   ]
  },
  {
   "cell_type": "code",
   "execution_count": 3,
   "id": "0f887378-4be3-49cd-8d84-cf80d8fd1d08",
   "metadata": {},
   "outputs": [
    {
     "name": "stdout",
     "output_type": "stream",
     "text": [
      "Chi-square  : 0.0\n",
      "P-value: 1.0\n",
      "Fail to reject the null hypothesis.\n"
     ]
    }
   ],
   "source": [
    "# colors in %\n",
    "observed = np.array([20, 20, 20, 10, 10, 20])\n",
    "\n",
    "# Exp fre of colors\n",
    "exp = np.array([0.2, 0.2, 0.2, 0.1, 0.1, 0.2]) * sum(observed)\n",
    "\n",
    "# stats and p-value\n",
    "stat, pval = chisquare(observed, exp)\n",
    "\n",
    "# significance level\n",
    "alpha = 0.05\n",
    "\n",
    "print(\"Chi-square  :\", stat)\n",
    "print(\"P-value:\", pval.round(3))\n",
    "\n",
    "if pval < alpha:\n",
    "    print(\"Reject the null hypothesis.\")\n",
    "else:\n",
    "    print(\"Fail to reject the null hypothesis.\")"
   ]
  },
  {
   "cell_type": "markdown",
   "id": "da37d9ff-8981-42b6-9414-bfe5617acec2",
   "metadata": {},
   "source": [
    "## Q3. Use Python to calculate the chi-square statistic and p-value for a contingency table with the following data:\n",
    "             Group A\tGroup B\n",
    "    Outcome 1\t20\t      15\n",
    "    Outcome 2\t10\t       25\n",
    "    Outcome 3\t15\t       20\n",
    "Interpret the results of the test."
   ]
  },
  {
   "cell_type": "code",
   "execution_count": 4,
   "id": "bb0e24cc-1b80-4345-ba0b-4a2720b136a9",
   "metadata": {},
   "outputs": [
    {
     "name": "stdout",
     "output_type": "stream",
     "text": [
      "Chi-square test for group A 3.33\n",
      "P-value for group A 0.19\n",
      "Chi-square test for group A 2.5\n",
      "P-value for group A 0.29\n"
     ]
    }
   ],
   "source": [
    "l1 = [20,10,15]\n",
    "l2 = [15,25,20]\n",
    "\n",
    "\n",
    "stat_, pval_ = chisquare(l1)\n",
    "print(f\"Chi-square test for group A {stat_.round(2)}\")\n",
    "print(f\"P-value for group A {pval_.round(2)}\")\n",
    "\n",
    "\n",
    "stat_2, pval_2 = chisquare(l2)\n",
    "print(f\"Chi-square test for group A {stat_2.round(2)}\")\n",
    "print(f\"P-value for group A {pval_2.round(2)}\")"
   ]
  },
  {
   "cell_type": "markdown",
   "id": "0eb2e5d6-44bd-4ec2-a00e-2833b91a1327",
   "metadata": {},
   "source": [
    "## Q4. A study of the prevalence of smoking in a population of 500 individuals found that 60 individuals smoked. Use Python to calculate the 95% confidence interval for the true proportion of individuals in the population who smoke."
   ]
  },
  {
   "cell_type": "code",
   "execution_count": 5,
   "id": "3ae0e51d-d8c0-446b-b286-f9ad37e6c6f5",
   "metadata": {},
   "outputs": [
    {
     "name": "stdout",
     "output_type": "stream",
     "text": [
      "0.09151638887130707 0.1484836111286929\n"
     ]
    }
   ],
   "source": [
    "n = 500\n",
    "x = 60\n",
    "\n",
    "p = x / n\n",
    "\n",
    "CL = 0.95\n",
    "\n",
    "l, u = proportion_confint(x, n, alpha=1-CL)\n",
    "\n",
    "print(l, u)"
   ]
  },
  {
   "cell_type": "markdown",
   "id": "eebe8eed-6d97-46ca-8be6-c45f09aca0a4",
   "metadata": {},
   "source": [
    "## Q5. Calculate the 90% confidence interval for a sample of data with a mean of 75 and a standard deviation of 12 using Python. Interpret the results."
   ]
  },
  {
   "cell_type": "code",
   "execution_count": 6,
   "id": "736153e1-06f1-4cb8-9086-735c3f2089ce",
   "metadata": {},
   "outputs": [
    {
     "name": "stdout",
     "output_type": "stream",
     "text": [
      "72.15479878877537 77.84520121122463\n"
     ]
    }
   ],
   "source": [
    "# given\n",
    "#simple mean\n",
    "x_bar = 75\n",
    "\n",
    "# Sample standard deviation\n",
    "s = 12\n",
    "\n",
    "# Sample size\n",
    "n = 50\n",
    "\n",
    "# dof\n",
    "df = n - 1\n",
    "\n",
    "# Confidence level\n",
    "CL = 0.90\n",
    "\n",
    "# Calculate the standard error of the mean\n",
    "std_error = s / (n ** 0.5)\n",
    "\n",
    "# Calculate the t-value\n",
    "t_val = stats.t.ppf(1 - ((1 - CL) / 2), df)\n",
    "\n",
    "# Calculate the confidence interval\n",
    "l = x_bar - t_val * std_error\n",
    "u = x_bar + t_val * std_error\n",
    "\n",
    "# Print the results\n",
    "print(l, u)"
   ]
  },
  {
   "cell_type": "markdown",
   "id": "fd549428-5304-4eec-9d88-70a2f1d43c61",
   "metadata": {},
   "source": [
    "## Q6. Use Python to plot the chi-square distribution with 10 degrees of freedom. Label the axes and shade the area corresponding to a chi-square statistic of 15."
   ]
  },
  {
   "cell_type": "code",
   "execution_count": 7,
   "id": "48411814-5986-4bc2-840e-20ea960be769",
   "metadata": {},
   "outputs": [
    {
     "data": {
      "image/png": "[encoded data removed]",
      "text/plain": [
       "<Figure size 640x480 with 1 Axes>"
      ]
     },
     "metadata": {},
     "output_type": "display_data"
    }
   ],
   "source": [
    "#dof\n",
    "df = 10\n",
    "\n",
    "chi_test = stats.chi2(df)\n",
    "\n",
    "# Plot the chi-square distribution\n",
    "plt.plot(x, chi_test.pdf(x), label='Chi-Square Distribution (df=10)')\n",
    "\n",
    "# Shade the area corresponding to a chi-square statistic of 15\n",
    "x_fill = np.linspace(15, 30, 1000)\n",
    "plt.fill_between(x_fill, chi_test.pdf(x_fill), color='blue', alpha=0.2, label='P(X>15)')\n",
    "\n",
    "\n",
    "plt.xlabel('Chi-Square ')\n",
    "plt.ylabel('pdf')\n",
    "plt.legend()\n",
    "\n",
    "plt.show()"
   ]
  },
  {
   "cell_type": "markdown",
   "id": "a4463e07-e0b6-4186-84d5-ebcf97c4e11f",
   "metadata": {},
   "source": [
    "## Q7. A random sample of 1000 people was asked if they preferred Coke or Pepsi. Of the sample, 520 preferred Coke. Calculate a 99% confidence interval for the true proportion of people in the population who prefer Coke."
   ]
  },
  {
   "cell_type": "code",
   "execution_count": 8,
   "id": "8a5ca690-403a-406d-a002-e03404cd1c02",
   "metadata": {},
   "outputs": [
    {
     "name": "stdout",
     "output_type": "stream",
     "text": [
      "Number of coke: 524\n",
      "Proportion of pepsi: 0.524\n",
      "Critical value: 2.5758293035489004\n",
      "Test statistic: 0.2531848417709169\n",
      "p-value: 0.8001253795101058\n"
     ]
    }
   ],
   "source": [
    "# number of people\n",
    "n_people = 1000\n",
    "\n",
    "# Set the hypothesized probability of coke\n",
    "p_hypo = 0.52\n",
    "\n",
    "result = np.random.binomial(1, p_hypo, n_people)\n",
    "\n",
    "# Calculate the number of coke\n",
    "coke = np.sum(result)\n",
    "\n",
    "# Calculate the proportion of coke\n",
    "pepsi = coke / n_people\n",
    "\n",
    "# Set the significance level\n",
    "alpha = 0.01\n",
    "\n",
    "# Calculate the critical value for a two-tailed test\n",
    "crit_val = stats.norm.ppf(1 - alpha/2)\n",
    "\n",
    "# Calculate the standard error\n",
    "se = np.sqrt(p_hypo * (1 - p_hypo) / n_people)\n",
    "\n",
    "# Calculate the test statistic\n",
    "z_stat = (pepsi - p_hypo) / se\n",
    "\n",
    "# Calculate the p-value\n",
    "p_val = stats.norm.sf(abs(z_stat)) * 2\n",
    "\n",
    "\n",
    "print(\"Number of coke:\", coke)\n",
    "print(\"Proportion of pepsi:\", pepsi)\n",
    "print(\"Critical value:\", crit_val)\n",
    "print(\"Test statistic:\", z_stat)\n",
    "print(\"p-value:\", p_val)\n"
   ]
  },
  {
   "cell_type": "markdown",
   "id": "9bcd2002-1847-457f-a04b-815a8355f3b9",
   "metadata": {},
   "source": [
    "## Q8. A researcher hypothesizes that a coin is biased towards tails. They flip the coin 100 times and observe 45 tails. Conduct a chi-square goodness of fit test to determine if the observed frequencies match the expected frequencies of a fair coin. Use a significance level of 0.05."
   ]
  },
  {
   "cell_type": "code",
   "execution_count": 9,
   "id": "73bb2d11-06d3-4df8-b2d0-e56f8fe10986",
   "metadata": {},
   "outputs": [
    {
     "name": "stdout",
     "output_type": "stream",
     "text": [
      "Observed frequencies: [45 55]\n",
      "Expected frequencies: [50 50]\n",
      "Chi-square statistic: 1.0\n",
      "p-value: 0.31731050786291115\n",
      "The null hypothesis is not rejected. \n"
     ]
    }
   ],
   "source": [
    "obs_frequency = np.array([45, 55])\n",
    "exp_frequency = np.array([50, 50])   # in case of fair coin\n",
    "\n",
    "# Calculate the chi-square test statistic and p-value\n",
    "chi2_statistic, p_value = chisquare(obs_frequency, exp_frequency)\n",
    "\n",
    "# given the significance level\n",
    "alpha = 0.05\n",
    "\n",
    "# Print the results\n",
    "print('Observed frequencies:', obs_frequency)\n",
    "print('Expected frequencies:', exp_frequency)\n",
    "print('Chi-square statistic:', chi2_statistic)\n",
    "print('p-value:', p_value)\n",
    "\n",
    "# Check if the null hypothesis is rejected\n",
    "if p_value < alpha:\n",
    "    print('The null hypothesis is rejected.')\n",
    "else:\n",
    "    print('The null hypothesis is not rejected. ')"
   ]
  },
  {
   "cell_type": "markdown",
   "id": "4f06e863-9b7a-4457-b385-63a3228a6897",
   "metadata": {},
   "source": [
    "## Q9. A study was conducted to determine if there is an association between smoking status (smoker or non-smoker) and lung cancer diagnosis (yes or no). The results are shown in the contingency table below. Conduct a chi-square test for independence to determine if there is a significant association between smoking status and lung cancer diagnosis.\n",
    "                Lung Cancer: Yes\tLung Cancer: No\n",
    "    Smoker\t       60\t              140\n",
    "    Non-smoker\t   30\t              170\n",
    "Use a significance level of 0.05."
   ]
  },
  {
   "cell_type": "code",
   "execution_count": 10,
   "id": "a48b42e3-1204-485b-9e8a-1dce9fef9324",
   "metadata": {},
   "outputs": [
    {
     "name": "stdout",
     "output_type": "stream",
     "text": [
      "Chi-square statistic: 35.294117647058826\n",
      "p-value: 2.834869930488155e-09\n",
      "The null hypothesis is rejected.\n"
     ]
    }
   ],
   "source": [
    "smoker = np.array([60, 140])\n",
    "non_smoker = np.array([30, 170])  \n",
    "\n",
    "# Calculate the chi-square test statistic and p-value\n",
    "chi2_statistic, p_value = chisquare(smoker, non_smoker)\n",
    "\n",
    "# given the significance level\n",
    "alpha = 0.05\n",
    "\n",
    "# Print the results\n",
    "print('Chi-square statistic:', chi2_statistic)\n",
    "print('p-value:', p_value)\n",
    "\n",
    "# Check if the null hypothesis is rejected\n",
    "if p_value < alpha:\n",
    "    print('The null hypothesis is rejected.')\n",
    "else:\n",
    "    print('The null hypothesis is not rejected. ')\n"
   ]
  },
  {
   "cell_type": "markdown",
   "id": "4874afda-a6a2-4d7e-8fa6-6b4de16048a6",
   "metadata": {},
   "source": [
    "## Q10. A study was conducted to determine if the proportion of people who prefer milk chocolate, dark chocolate, or white chocolate is different in the U.S. versus the U.K. A random sample of 500 people from the U.S. and a random sample of 500 people from the U.K. were surveyed. The results are shown in the contingency table below. Conduct a chi-square test for independence to determine if there is a significant association between chocolate preference and country of origin.\n",
    "                    Milk Chocolate\tDark Chocolate\tWhite Chocolate\n",
    "        U.S. (n=500)\t200\t            150\t            150\n",
    "        U.K. (n=500)\t225\t            175\t            100\n",
    "Use a significance level of 0.01."
   ]
  },
  {
   "cell_type": "code",
   "execution_count": 11,
   "id": "794233e5-e2a9-4140-b363-a65252ac6ea5",
   "metadata": {},
   "outputs": [
    {
     "name": "stdout",
     "output_type": "stream",
     "text": [
      "Chi-square statistic: 13.393665158371041\n",
      "p-value: 0.0012348168997745918\n",
      "The null hypothesis is rejected.\n"
     ]
    }
   ],
   "source": [
    "# given table\n",
    "observed_freq = np.array([[200,150,150], [225,175,100]])\n",
    "\n",
    "#  expected frequencies \n",
    "row_sum = observed_freq.sum(axis=1)\n",
    "col_sum = observed_freq.sum(axis=0)\n",
    "total_sum = observed_freq.sum()\n",
    "expected_freq = np.outer(row_sum, col_sum) / total_sum\n",
    "\n",
    "# Calculate the chi-square and p-value\n",
    "chi2_statistic, p_value, dof, expected = chi2_contingency(observed_freq)\n",
    "\n",
    "# give significance level\n",
    "alpha = 0.05\n",
    "\n",
    "print('Chi-square statistic:', chi2_statistic)\n",
    "print('p-value:', p_value)\n",
    "\n",
    "# Check if the null hypothesis\n",
    "if p_value < alpha:\n",
    "    print('The null hypothesis is rejected.')\n",
    "else:\n",
    "    print('The null hypothesis is not rejected..')"
   ]
  },
  {
   "cell_type": "markdown",
   "id": "c1d8bdee-6b0f-4c62-b8f3-e61911740946",
   "metadata": {},
   "source": [
    "## Q11. A random sample of 30 people was selected from a population with an unknown mean and standard deviation. The sample mean was found to be 72 and the sample standard deviation was found to be 10. Conduct a hypothesis test to determine if the population mean is significantly different from 70. Use a significance level of 0.05.\n"
   ]
  },
  {
   "cell_type": "code",
   "execution_count": 12,
   "id": "39e24b75-48ea-41b9-bf92-07a142ba2374",
   "metadata": {},
   "outputs": [
    {
     "name": "stdout",
     "output_type": "stream",
     "text": [
      "Sample size: 30\n",
      "Sample mean: 72\n",
      "Sample standard deviation: 10\n",
      "Hypothesized population mean: 70\n",
      "t-test statistic: 1.0954451150103321\n",
      "p-value: 0.2823362372860698\n",
      "The null hypothesis is not rejected.\n"
     ]
    }
   ],
   "source": [
    "# given\n",
    "sample_size = 30;x_bar = 72;sample_std = 10;pop_mean = 70\n",
    "\n",
    "# Calculate the t-test statistic and p-value\n",
    "t_stats = (x_bar - pop_mean) / (sample_std / np.sqrt(sample_size))\n",
    "p_value = 2 * (1 - t.cdf(abs(t_stats), sample_size - 1))\n",
    "\n",
    "# Define the significance level\n",
    "alpha = 0.05\n",
    "\n",
    "# Print the results\n",
    "print('Sample size:', sample_size)\n",
    "print('Sample mean:', x_bar)\n",
    "print('Sample standard deviation:', sample_std)\n",
    "print('Hypothesized population mean:', pop_mean)\n",
    "print('t-test statistic:', t_stats)\n",
    "print('p-value:', p_value)\n",
    "\n",
    "# rejected or not rejected\n",
    "if p_value < alpha:\n",
    "    print('The null hypothesis is rejected.')\n",
    "else:\n",
    "    print('The null hypothesis is not rejected.')"
   ]
  },
  {
   "cell_type": "code",
   "execution_count": null,
   "id": "5ba614c5-cb51-4c9b-977e-4ae9af6c1f27",
   "metadata": {},
   "outputs": [],
   "source": []
  }
 ],
 "metadata": {
  "kernelspec": {
   "display_name": "Python 3 (ipykernel)",
   "language": "python",
   "name": "python3"
  },
  "language_info": {
   "codemirror_mode": {
    "name": "ipython",
    "version": 3
   },
   "file_extension": ".py",
   "mimetype": "text/x-python",
   "name": "python",
   "nbconvert_exporter": "python",
   "pygments_lexer": "ipython3",
   "version": "3.10.8"
  }
 },
 "nbformat": 4,
 "nbformat_minor": 5
}
