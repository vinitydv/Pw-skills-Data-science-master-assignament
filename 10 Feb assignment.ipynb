{
 "cells": [
  {
   "cell_type": "code",
   "execution_count": 1,
   "id": "1ca6a12a-abce-453a-a233-3d050d3372be",
   "metadata": {},
   "outputs": [],
   "source": [
    "# Q1. Which function is used to open a file? What are the different modes of opening a file? Explain each mode of file opening."
   ]
  },
  {
   "cell_type": "code",
   "execution_count": null,
   "id": "6ff646be-71ea-414d-9fc6-f30f7af7e225",
   "metadata": {},
   "outputs": [],
   "source": [
    "Ans :"
   ]
  },
  {
   "cell_type": "code",
   "execution_count": null,
   "id": "12f54a67-7dd6-48d3-9fec-fd8981c8266f",
   "metadata": {},
   "outputs": [],
   "source": [
    "open() function used to open a file"
   ]
  },
  {
   "cell_type": "code",
   "execution_count": null,
   "id": "4b5896af-ec3b-485b-8b2c-25911a3a6ea3",
   "metadata": {},
   "outputs": [],
   "source": [
    "there is some deffere mode :\n",
    "\n",
    "'r' open for reading, you cant write in this mode\n",
    "'w' open for writing, remove the file first, you cant read file in this write mode\n",
    "'x' create a new file and open it for writing\n",
    "'a' open for writing, appending/add to the end of the file if it exists\n",
    "'b' binary mode(binary files like image, audio, video .etc)"
   ]
  },
  {
   "cell_type": "code",
   "execution_count": 2,
   "id": "5d0ac4aa-e4ae-421d-88d6-5d67f82175a8",
   "metadata": {},
   "outputs": [],
   "source": [
    "# Q2. Why close() function is used? Why is it important to close a file?"
   ]
  },
  {
   "cell_type": "code",
   "execution_count": null,
   "id": "eb24cc58-fc06-44e4-aab4-b16141d56c1f",
   "metadata": {},
   "outputs": [],
   "source": [
    "Ans :\n",
    "\n",
    "filename.close() : used to close current open file, If you dont do this, you are not able do other pperformance with file.\n",
    "exp\n",
    "If you open your file in write mode and now you want to read you existing file so you have to do first of all close() and then open your file in read mode and read your file"
   ]
  },
  {
   "cell_type": "code",
   "execution_count": 3,
   "id": "21c5966b-1b91-4ea1-966c-6c2be0fc1817",
   "metadata": {},
   "outputs": [],
   "source": [
    "# Q3. Write a python program to create a text file. Write 'I want to become a Data Scientist' in that file. Then close the file. Open this file and read the content of the file."
   ]
  },
  {
   "cell_type": "code",
   "execution_count": 4,
   "id": "61a84beb-3182-4613-8a52-25ef27c87e9d",
   "metadata": {},
   "outputs": [],
   "source": [
    "file = open('test.txt','w')\n",
    "file.write(\"I want to become a Data Scientist\")\n",
    "file.close()"
   ]
  },
  {
   "cell_type": "code",
   "execution_count": 5,
   "id": "32672b27-3254-4c76-95e7-874c5400d1a5",
   "metadata": {},
   "outputs": [
    {
     "name": "stdout",
     "output_type": "stream",
     "text": [
      "I want to become a Data Scientist\n"
     ]
    }
   ],
   "source": [
    "with open('test.txt','r') as file:\n",
    "    print(file.read())"
   ]
  },
  {
   "cell_type": "code",
   "execution_count": 6,
   "id": "54940817-321c-4925-94e3-79074e643a42",
   "metadata": {},
   "outputs": [],
   "source": [
    "# Q4. Explain the following with python code: read(), readline() and readlines()."
   ]
  },
  {
   "cell_type": "code",
   "execution_count": null,
   "id": "57623600-908e-480f-be9c-3fba9e108354",
   "metadata": {},
   "outputs": [],
   "source": [
    "Ans :\n",
    "\n",
    "read(): This function used to read all data from file.\n",
    "readline(): This function used to read data from file line by line one time one line execute only.\n",
    "readlines(): This function used to read all data from existing file."
   ]
  },
  {
   "cell_type": "code",
   "execution_count": 7,
   "id": "1f3b0014-65ec-4d95-830c-868b45e811ca",
   "metadata": {},
   "outputs": [],
   "source": [
    "file = open('test1.txt','w')\n",
    "file.write(\"\"\"Lorem Ipsum is simply dummy text of the printing and \\n\n",
    "              typesetting industry. Lorem Ipsum has been the industry's \\n\n",
    "              standard dummy text ever since the 1500s, when an unknown \\n\n",
    "              printer took a galley of type and scrambled it to make a type \\n\n",
    "              specimen book. It has survived not only five centuries, but also the \\n\n",
    "              leap into electronic typesetting, remaining essentially unchanged. \\n\n",
    "              It was popularised in the 1960s with the release of Letraset sheets \"\"\")\n",
    "file.close()"
   ]
  },
  {
   "cell_type": "code",
   "execution_count": 8,
   "id": "1e45349b-d071-44a1-bc26-212a0e754a36",
   "metadata": {},
   "outputs": [
    {
     "name": "stdout",
     "output_type": "stream",
     "text": [
      "------------read()---------------------\n",
      "Lorem Ipsum is simply dummy text of the printing and \n",
      "\n",
      "              typesetting industry. Lorem Ipsum has been the industry's \n",
      "\n",
      "              standard dummy text ever since the 1500s, when an unknown \n",
      "\n",
      "              printer took a galley of type and scrambled it to make a type \n",
      "\n",
      "              specimen book. It has survived not only five centuries, but also the \n",
      "\n",
      "              leap into electronic typesetting, remaining essentially unchanged. \n",
      "\n",
      "              It was popularised in the 1960s with the release of Letraset sheets \n",
      "------------readline()---------------------\n",
      "Lorem Ipsum is simply dummy text of the printing and \n",
      "\n",
      "------------readlines()---------------------\n",
      "['Lorem Ipsum is simply dummy text of the printing and \\n', '\\n', \"              typesetting industry. Lorem Ipsum has been the industry's \\n\", '\\n', '              standard dummy text ever since the 1500s, when an unknown \\n', '\\n', '              printer took a galley of type and scrambled it to make a type \\n', '\\n', '              specimen book. It has survived not only five centuries, but also the \\n', '\\n', '              leap into electronic typesetting, remaining essentially unchanged. \\n', '\\n', '              It was popularised in the 1960s with the release of Letraset sheets ']\n"
     ]
    }
   ],
   "source": [
    "with open('test1.txt','r') as file:\n",
    "    print(\"------------read()---------------------\")\n",
    "    print(file.read())\n",
    "    print(\"------------readline()---------------------\")\n",
    "    file.seek(0)\n",
    "    print(file.readline())\n",
    "    print(\"------------readlines()---------------------\")\n",
    "    file.seek(0)\n",
    "    print(file.readlines())"
   ]
  },
  {
   "cell_type": "code",
   "execution_count": null,
   "id": "fde3c9e8-2cba-4498-8849-48db5be97004",
   "metadata": {},
   "outputs": [],
   "source": [
    "# Q5. Explain why with statement is used with open (). What is the advantage of using with statement and open () together?"
   ]
  },
  {
   "cell_type": "code",
   "execution_count": null,
   "id": "e3fdb673-6e13-4cbb-b6c2-c24dfb0a122b",
   "metadata": {},
   "outputs": [],
   "source": [
    "Ans :\n",
    "\n",
    "If we are using with key-word then dont worry about close() file function\n",
    "with key-word handle your file close() problem\n",
    "we dont have to use close() function anywhere"
   ]
  },
  {
   "cell_type": "code",
   "execution_count": 9,
   "id": "304ee78e-ebb9-403c-ad59-55df08ddae70",
   "metadata": {},
   "outputs": [],
   "source": [
    "# 6. Explain the write () and writelines () functions. Give a suitable example."
   ]
  },
  {
   "cell_type": "code",
   "execution_count": null,
   "id": "58ddfa63-cdf3-4bf7-bfe3-2054acc478c7",
   "metadata": {},
   "outputs": [],
   "source": [
    "Ans :\n",
    "\n",
    "write() : Returns the number of characters written (which is always equal to the which you are writting).\n",
    "writelines() : Returns None when we go to print."
   ]
  },
  {
   "cell_type": "code",
   "execution_count": 10,
   "id": "f9bf159c-1406-43bd-844e-149692a1af8b",
   "metadata": {},
   "outputs": [
    {
     "name": "stdout",
     "output_type": "stream",
     "text": [
      "24\n"
     ]
    }
   ],
   "source": [
    "data = 'There is read() function'\n",
    "with open('test3.txt','w') as file:\n",
    "    print(file.write(data))"
   ]
  },
  {
   "cell_type": "code",
   "execution_count": 11,
   "id": "62f1f48b-5e00-448f-ad15-293c5c455b41",
   "metadata": {},
   "outputs": [
    {
     "name": "stdout",
     "output_type": "stream",
     "text": [
      "There is read() function\n"
     ]
    }
   ],
   "source": [
    "with open('test3.txt','r') as file:\n",
    "    print(file.read())"
   ]
  },
  {
   "cell_type": "code",
   "execution_count": 12,
   "id": "c08a77f4-ee7d-4d1d-aa53-5f19535bf202",
   "metadata": {},
   "outputs": [
    {
     "name": "stdout",
     "output_type": "stream",
     "text": [
      "None\n"
     ]
    }
   ],
   "source": [
    "lines = [\"line1\\n\", \"line2\\n\", \"line3\\n\"]\n",
    "with open(\"file5.txt\", \"w\") as file:\n",
    "    print(file.writelines(lines))"
   ]
  },
  {
   "cell_type": "code",
   "execution_count": 13,
   "id": "784b8153-3a80-4d08-bf83-1d9286111afc",
   "metadata": {},
   "outputs": [
    {
     "name": "stdout",
     "output_type": "stream",
     "text": [
      "line1\n",
      "line2\n",
      "line3\n",
      "\n"
     ]
    }
   ],
   "source": [
    "with open(\"file5.txt\", \"r\") as file:\n",
    "    print(file.read())"
   ]
  },
  {
   "cell_type": "code",
   "execution_count": null,
   "id": "f3ab3f9e-cf22-4d16-8b23-3fe5d2e304e1",
   "metadata": {},
   "outputs": [],
   "source": []
  }
 ],
 "metadata": {
  "kernelspec": {
   "display_name": "Python 3 (ipykernel)",
   "language": "python",
   "name": "python3"
  },
  "language_info": {
   "codemirror_mode": {
    "name": "ipython",
    "version": 3
   },
   "file_extension": ".py",
   "mimetype": "text/x-python",
   "name": "python",
   "nbconvert_exporter": "python",
   "pygments_lexer": "ipython3",
   "version": "3.10.8"
  }
 },
 "nbformat": 4,
 "nbformat_minor": 5
}
