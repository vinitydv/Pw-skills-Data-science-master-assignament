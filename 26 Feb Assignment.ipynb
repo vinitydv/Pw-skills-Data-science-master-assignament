{
 "cells": [
  {
   "cell_type": "markdown",
   "id": "f8c4fac4-d248-4ea9-bfff-ed0fbd8aabb6",
   "metadata": {},
   "source": [
    "Consider the below code to answer further questions:"
   ]
  },
  {
   "cell_type": "code",
   "execution_count": 1,
   "id": "0590474b-1c28-4949-9ab7-93cb0de1a1de",
   "metadata": {},
   "outputs": [],
   "source": [
    "import numpy as np     \n",
    "list_ = [ '1' , '2', '3', '4', '5']     \n",
    "array_list = np.array(object = list_)         "
   ]
  },
  {
   "cell_type": "markdown",
   "id": "1fbb1fcc-0bdc-48f5-985e-7c798fefb239",
   "metadata": {},
   "source": [
    "Q1. Is there any difference in the data type of variables list_ and array_list? If there is then write a code to print the data types of both the variables."
   ]
  },
  {
   "cell_type": "code",
   "execution_count": 2,
   "id": "07f26fe1-4d8a-44f3-87c4-74f98196e55b",
   "metadata": {},
   "outputs": [
    {
     "data": {
      "text/plain": [
       "list"
      ]
     },
     "execution_count": 2,
     "metadata": {},
     "output_type": "execute_result"
    }
   ],
   "source": [
    "type(list_)"
   ]
  },
  {
   "cell_type": "code",
   "execution_count": 4,
   "id": "dd25da79-641b-4f5d-8059-c62c0912ba2f",
   "metadata": {},
   "outputs": [
    {
     "data": {
      "text/plain": [
       "<function ndarray.astype>"
      ]
     },
     "execution_count": 4,
     "metadata": {},
     "output_type": "execute_result"
    }
   ],
   "source": [
    "array_list.astype"
   ]
  },
  {
   "cell_type": "markdown",
   "id": "3ad02679-bf0c-4b3a-81f3-0ae1dd8783ac",
   "metadata": {},
   "source": [
    "Q2. Write a code to print the data type of each and every element of both the variables list_ and arra_list."
   ]
  },
  {
   "cell_type": "code",
   "execution_count": 5,
   "id": "ed61e5cd-1dc9-4944-8eac-72d27454ba95",
   "metadata": {},
   "outputs": [
    {
     "name": "stdout",
     "output_type": "stream",
     "text": [
      "<class 'str'>\n",
      "<class 'str'>\n",
      "<class 'str'>\n",
      "<class 'str'>\n",
      "<class 'str'>\n"
     ]
    }
   ],
   "source": [
    "for i in list_:\n",
    "    print(type(i))"
   ]
  },
  {
   "cell_type": "code",
   "execution_count": 6,
   "id": "10bf8c46-a161-44e2-aae5-7c2dd3838c95",
   "metadata": {},
   "outputs": [
    {
     "name": "stdout",
     "output_type": "stream",
     "text": [
      "<class 'numpy.str_'>\n",
      "<class 'numpy.str_'>\n",
      "<class 'numpy.str_'>\n",
      "<class 'numpy.str_'>\n",
      "<class 'numpy.str_'>\n"
     ]
    }
   ],
   "source": [
    "for i in array_list:\n",
    "    print(type(i))"
   ]
  },
  {
   "cell_type": "markdown",
   "id": "9d9a694e-4dcf-4fd7-82e4-9052f37013da",
   "metadata": {},
   "source": [
    "Q3. Considering the following changes in the variable, array_list:"
   ]
  },
  {
   "cell_type": "code",
   "execution_count": 7,
   "id": "845cbd29-a36f-421f-9396-cb56ecba9ae4",
   "metadata": {},
   "outputs": [],
   "source": [
    "array_list = np.array(object = list_, dtype = int)"
   ]
  },
  {
   "cell_type": "markdown",
   "id": "3c941d85-31ed-41ec-ab22-3878af4f090a",
   "metadata": {},
   "source": [
    "Will there be any difference in the data type of the elements present in both the variables, list_ and arra_list? If so then print the data types of each and every element present in both the variables, list__ and arra_list. Consider the below code to answer further questions:"
   ]
  },
  {
   "cell_type": "code",
   "execution_count": 8,
   "id": "9085a7f9-9003-4b6a-8998-88ea2dc685fc",
   "metadata": {},
   "outputs": [
    {
     "name": "stdout",
     "output_type": "stream",
     "text": [
      "List elements type : <class 'int'>\n",
      "List elements type : <class 'int'>\n",
      "List elements type : <class 'int'>\n",
      "List elements type : <class 'int'>\n",
      "List elements type : <class 'int'>\n",
      "List elements type : <class 'int'>\n",
      "---------------------###--------------------\n",
      "Array element type : int64\n",
      "Array element type : int64\n",
      "Array element type : int64\n",
      "Array element type : int64\n",
      "Array element type : int64\n",
      "Array element type : int64\n"
     ]
    }
   ],
   "source": [
    "import numpy as np                    \n",
    "num_list = [ [ 1, 2, 3], [4, 5, 6]]        \n",
    "num_array = np.array(object = num_list)  \n",
    "for i in num_list:\n",
    "    if type(i)== list:\n",
    "        for j in i:print(f'List elements type : {type(j)}')\n",
    "    else:print(f'List elements type : {type(i)}')\n",
    "print(\"---------------------###--------------------\")\n",
    "\n",
    "num_array1 = num_array.flatten()\n",
    "for i in num_array1:\n",
    "    print(f'Array element type : {i.dtype}')\n",
    "#     print(type(i))"
   ]
  },
  {
   "cell_type": "markdown",
   "id": "077a0dfb-3629-49fb-901d-804da0721865",
   "metadata": {},
   "source": [
    "Q4. Write a code to find the following characteristics of variable, num_array:\n",
    "(i) shape"
   ]
  },
  {
   "cell_type": "code",
   "execution_count": 9,
   "id": "d05725c1-774a-4e81-a14b-33ef0d8d5c2e",
   "metadata": {},
   "outputs": [
    {
     "data": {
      "text/plain": [
       "array([[1, 2, 3],\n",
       "       [4, 5, 6]])"
      ]
     },
     "metadata": {},
     "output_type": "display_data"
    },
    {
     "data": {
      "text/plain": [
       "(2, 3)"
      ]
     },
     "execution_count": 9,
     "metadata": {},
     "output_type": "execute_result"
    }
   ],
   "source": [
    "display(num_array)\n",
    "num_array.shape                    # row, and column\n"
   ]
  },
  {
   "cell_type": "markdown",
   "id": "27a30d69-a619-4e8a-b6b5-31151097af1b",
   "metadata": {},
   "source": [
    "(ii) size"
   ]
  },
  {
   "cell_type": "code",
   "execution_count": 11,
   "id": "176e641c-9ba5-4cc7-97cc-457dfb2e4643",
   "metadata": {},
   "outputs": [
    {
     "data": {
      "text/plain": [
       "array([[1, 2, 3],\n",
       "       [4, 5, 6]])"
      ]
     },
     "metadata": {},
     "output_type": "display_data"
    },
    {
     "data": {
      "text/plain": [
       "6"
      ]
     },
     "execution_count": 11,
     "metadata": {},
     "output_type": "execute_result"
    }
   ],
   "source": [
    "display(num_array)\n",
    "num_array.size                      # row * column"
   ]
  },
  {
   "cell_type": "markdown",
   "id": "046c48b8-6943-4494-a419-505b286f5cd4",
   "metadata": {},
   "source": [
    "Q5. Write a code to create numpy array of 3*3 matrix containing zeros only, using a numpy array creation function.\n",
    "[Hint: The size of the array will be 9 and the shape will be (3,3).]"
   ]
  },
  {
   "cell_type": "code",
   "execution_count": 13,
   "id": "26a2f6ac-3e29-4a6b-898c-59e5b94d18c8",
   "metadata": {},
   "outputs": [
    {
     "data": {
      "text/plain": [
       "array([[0., 0., 0.],\n",
       "       [0., 0., 0.],\n",
       "       [0., 0., 0.]])"
      ]
     },
     "execution_count": 13,
     "metadata": {},
     "output_type": "execute_result"
    }
   ],
   "source": [
    "arr = np.zeros([3,3])\n",
    "arr"
   ]
  },
  {
   "cell_type": "markdown",
   "id": "592e4aa0-933d-47b4-9708-ae47c24af055",
   "metadata": {},
   "source": [
    "Q6. Create an identity matrix of shape (5,5) using numpy functions?\n",
    "[Hint: An identity matrix is a matrix containing 1 diagonally and other elements will be 0.]"
   ]
  },
  {
   "cell_type": "code",
   "execution_count": 14,
   "id": "efbf74f4-607f-4f37-a8ac-f5d4f2c91ac7",
   "metadata": {},
   "outputs": [
    {
     "data": {
      "text/plain": [
       "array([[1., 0., 0., 0., 0.],\n",
       "       [0., 1., 0., 0., 0.],\n",
       "       [0., 0., 1., 0., 0.],\n",
       "       [0., 0., 0., 1., 0.],\n",
       "       [0., 0., 0., 0., 1.]])"
      ]
     },
     "execution_count": 14,
     "metadata": {},
     "output_type": "execute_result"
    }
   ],
   "source": [
    "five_ele = np.ones(5)\n",
    "arr1 = np.diag(five_ele)\n",
    "arr1"
   ]
  },
  {
   "cell_type": "code",
   "execution_count": 15,
   "id": "e28ef87f-67d9-4861-a276-1cc28d1642c7",
   "metadata": {},
   "outputs": [
    {
     "data": {
      "text/plain": [
       "(5, 5)"
      ]
     },
     "execution_count": 15,
     "metadata": {},
     "output_type": "execute_result"
    }
   ],
   "source": [
    "arr1.shape\n"
   ]
  },
  {
   "cell_type": "code",
   "execution_count": null,
   "id": "4bfae720-a596-4e3f-b5ef-3f7f28c8537e",
   "metadata": {},
   "outputs": [],
   "source": []
  }
 ],
 "metadata": {
  "kernelspec": {
   "display_name": "Python 3 (ipykernel)",
   "language": "python",
   "name": "python3"
  },
  "language_info": {
   "codemirror_mode": {
    "name": "ipython",
    "version": 3
   },
   "file_extension": ".py",
   "mimetype": "text/x-python",
   "name": "python",
   "nbconvert_exporter": "python",
   "pygments_lexer": "ipython3",
   "version": "3.10.8"
  }
 },
 "nbformat": 4,
 "nbformat_minor": 5
}
