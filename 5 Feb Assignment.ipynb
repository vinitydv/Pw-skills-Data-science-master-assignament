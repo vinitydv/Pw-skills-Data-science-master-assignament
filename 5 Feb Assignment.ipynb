{
 "cells": [
  {
   "cell_type": "raw",
   "id": "b18022b6-011c-40d5-969e-dbb0fd218360",
   "metadata": {},
   "source": [
    "# Q1. Explain Class and Object with respect to Object-Oriented Programming. Give a suitable example."
   ]
  },
  {
   "cell_type": "raw",
   "id": "206d693c-8b50-4291-aaf4-986589da6ee0",
   "metadata": {},
   "source": [
    "Class is a blueprint or template for creating objects in Object-Oriented Programming (OOP). It defines the properties (data members) and behaviors (methods) of the objects that will be created from the class.\n",
    "\n",
    "An object is an instance of a class, created at runtime. Objects are variables of the class type and contain the actual data. Objects can access the properties and behaviors defined in their class.\n",
    "\n",
    "Example: Consider a class called \"Car\" which has properties such as make, model, and year, and behaviors such as start, stop, and accelerate. Each car object created from the Car class would have its own unique make, model, and year, but would share the same behaviors defined in the Car class."
   ]
  },
  {
   "cell_type": "code",
   "execution_count": 1,
   "id": "98f15be7-ac38-4d55-a0b9-a9bd5ff7a21a",
   "metadata": {},
   "outputs": [
    {
     "name": "stdout",
     "output_type": "stream",
     "text": [
      "Toyota\n",
      "Camry\n",
      "2022\n",
      "Car started\n",
      "Car accelerated\n",
      "Car stopped\n"
     ]
    }
   ],
   "source": [
    "class Car:\n",
    "    def __init__(self, make, model, year):\n",
    "        self.make = make\n",
    "        self.model = model\n",
    "        self.year = year\n",
    "\n",
    "    def start(self):\n",
    "        print(\"Car started\")\n",
    "\n",
    "    def stop(self):\n",
    "        print(\"Car stopped\")\n",
    "\n",
    "    def accelerate(self):\n",
    "        print(\"Car accelerated\")\n",
    "\n",
    "        \n",
    "my_car = Car(\"Toyota\", \"Camry\", 2022)\n",
    "\n",
    "print(my_car.make) # Toyota\n",
    "print(my_car.model) # Camry\n",
    "print(my_car.year) # 2022\n",
    "\n",
    "my_car.start() # Car started\n",
    "my_car.accelerate() # Car accelerated\n",
    "my_car.stop() # Car stopped"
   ]
  },
  {
   "cell_type": "raw",
   "id": "acf956e9-ebd2-4e45-86bb-3b0416be0abf",
   "metadata": {},
   "source": [
    "Q2. Name the four pillars of OOPs."
   ]
  },
  {
   "cell_type": "raw",
   "id": "e6ab5b96-f96f-4845-9b6d-506a485379e1",
   "metadata": {},
   "source": [
    "The four pillars of OOP (Object-Oriented Programming) are:\n",
    "\n",
    "1)Abstraction 2)Encapsulation 3)Inheritance 4)Polymorphism"
   ]
  },
  {
   "cell_type": "raw",
   "id": "050d487b-4f53-4eb7-a87e-5cacb5fcb117",
   "metadata": {},
   "source": [
    "Q3. Explain why the init() function is used. Give a suitable example."
   ]
  },
  {
   "cell_type": "raw",
   "id": "916bbcb9-073a-4b66-b571-1c4573ffaa03",
   "metadata": {},
   "source": [
    "The init function is a special method in Python classes, and is used as a constructor for the class. It is executed automatically when an object of the class is created, and its purpose is to initialize the attributes of the class.\n",
    "\n",
    "Example:"
   ]
  },
  {
   "cell_type": "code",
   "execution_count": 2,
   "id": "aadbbd05-6f59-4070-8253-55f1d8ce3615",
   "metadata": {},
   "outputs": [
    {
     "name": "stdout",
     "output_type": "stream",
     "text": [
      "Toyota\n",
      "Camry\n",
      "2020\n"
     ]
    }
   ],
   "source": [
    "class Car:\n",
    "    def __init__(self, make, model, year):\n",
    "        self.make = make\n",
    "        self.model = model\n",
    "        self.year = year\n",
    "\n",
    "car1 = Car(\"Toyota\", \"Camry\", 2020)\n",
    "\n",
    "print(car1.make) # Toyota\n",
    "print(car1.model) # Camry\n",
    "print(car1.year) # 2020"
   ]
  },
  {
   "cell_type": "raw",
   "id": "7f0b6340-b7b9-4555-a521-da1933584feb",
   "metadata": {},
   "source": [
    "Q4. Why self is used in OOPs?"
   ]
  },
  {
   "cell_type": "raw",
   "id": "ae13ed31-f475-4b2e-9f60-b8677eb36ba6",
   "metadata": {},
   "source": [
    "In Object-Oriented Programming (OOP), self is a reference to the instance of the object that is calling the method. It is used as the first argument in the method definition and it is used to access the attributes and methods of the class.\n",
    "\n",
    "The self keyword allows each instance of a class to have its own separate and distinct state, meaning that each object created from the class can have its own set of attributes and methods with different values.\n",
    "\n",
    "For example:"
   ]
  },
  {
   "cell_type": "code",
   "execution_count": 3,
   "id": "48712b7e-5e32-4bfe-b313-38a118747293",
   "metadata": {},
   "outputs": [
    {
     "name": "stdout",
     "output_type": "stream",
     "text": [
      "Make: Toyota\n",
      "Model: Camry\n",
      "Year: 2020\n",
      "Make: Honda\n",
      "Model: Accord\n",
      "Year: 2021\n"
     ]
    }
   ],
   "source": [
    "class Car:\n",
    "    def __init__(self, make, model, year):\n",
    "        self.make = make\n",
    "        self.model = model\n",
    "        self.year = year\n",
    "        \n",
    "    def display_car_info(self):\n",
    "        print(f\"Make: {self.make}\")\n",
    "        print(f\"Model: {self.model}\")\n",
    "        print(f\"Year: {self.year}\")\n",
    "\n",
    "car1 = Car(\"Toyota\", \"Camry\", 2020)\n",
    "car2 = Car(\"Honda\", \"Accord\", 2021)\n",
    "\n",
    "car1.display_car_info()\n",
    "# Output:\n",
    "# Make: Toyota\n",
    "# Model: Camry\n",
    "# Year: 2020\n",
    "\n",
    "car2.display_car_info()\n",
    "# Output:\n",
    "# Make: Honda\n",
    "# Model: Accord\n",
    "# Year: 2021"
   ]
  },
  {
   "cell_type": "raw",
   "id": "5e3e713e-4346-4175-b85e-337400be071c",
   "metadata": {},
   "source": [
    "Q5. What is inheritance? Give an example for each type of inheritance."
   ]
  },
  {
   "cell_type": "raw",
   "id": "7a028714-caae-4745-b317-167b8ec505ce",
   "metadata": {},
   "source": [
    "Inheritance is a mechanism in Object-Oriented Programming (OOP) that allows a new class to inherit properties and methods from an existing class. The existing class is called the parent class or base class, and the new class is called the child class or derived class. Inheritance allows for code reusability and makes it easier to create and maintain the code.\n",
    "\n",
    "Types of Inheritance depend upon the number of child and parent classes involved. There are four types of inheritance in Python:\n",
    "\n",
    "SINGLE INHERITANCE:\n",
    "Single inheritance enables a derived class to inherit properties from a single parent class, thus enabling code reusability and the addition of new features to existing code."
   ]
  },
  {
   "cell_type": "code",
   "execution_count": 4,
   "id": "229361cf-4f6c-4c98-986b-384300d45e4c",
   "metadata": {},
   "outputs": [
    {
     "name": "stdout",
     "output_type": "stream",
     "text": [
      "This function is in parent class.\n",
      "This function is in child class.\n"
     ]
    }
   ],
   "source": [
    "# Python program to demonstrate\n",
    "# single inheritance\n",
    " \n",
    "# Base class\n",
    "class Parent:\n",
    "    def func1(self):\n",
    "        print(\"This function is in parent class.\")\n",
    " \n",
    "#Derived class\n",
    "class Child(Parent):\n",
    "    def func2(self):\n",
    "        print(\"This function is in child class.\")\n",
    " \n",
    " \n",
    "# Driver's code\n",
    "object = Child()\n",
    "object.func1()\n",
    "object.func2()"
   ]
  },
  {
   "cell_type": "raw",
   "id": "d21ab093-ded4-4878-b445-1a7f16e6ef17",
   "metadata": {},
   "source": [
    "2. MULTIPLE INHERITANCE:\n",
    "When a class can be derived from more than one base class this type of inheritance is called multiple inheritances. In multiple inheritances, all the features of the base classes are inherited into the derived class.\n",
    "\n"
   ]
  },
  {
   "cell_type": "code",
   "execution_count": 5,
   "id": "8caa9e4f-214f-4da2-975c-3e32e12c671a",
   "metadata": {},
   "outputs": [
    {
     "name": "stdout",
     "output_type": "stream",
     "text": [
      "Father : RAM\n",
      "Mother : SITA\n"
     ]
    }
   ],
   "source": [
    "# Python program to demonstrate\n",
    "# multiple inheritance\n",
    " \n",
    "# Base class1\n",
    "class Mother:\n",
    "    mothername = \"\"\n",
    " \n",
    "    def mother(self):\n",
    "        print(self.mothername)\n",
    " \n",
    "# Base class2\n",
    " \n",
    "class Father:\n",
    "    fathername = \"\"\n",
    " \n",
    "    def father(self):\n",
    "        print(self.fathername)\n",
    " \n",
    "# Derived class\n",
    " \n",
    "class Son(Mother, Father):\n",
    "    def parents(self):\n",
    "        print(\"Father :\", self.fathername)\n",
    "        print(\"Mother :\", self.mothername)\n",
    " \n",
    " \n",
    "# Driver's code\n",
    "s1 = Son()\n",
    "s1.fathername = \"RAM\"\n",
    "s1.mothername = \"SITA\"\n",
    "s1.parents()"
   ]
  },
  {
   "cell_type": "raw",
   "id": "42ee1bc0-eb27-46f1-a26c-f0cd79b2f62d",
   "metadata": {},
   "source": [
    "3. MULTILEVEL INHERITANCE :\n",
    "In multilevel inheritance, features of the base class and the derived class are further inherited into the new derived class. This is similar to a relationship representing a child and a grandfather."
   ]
  },
  {
   "cell_type": "code",
   "execution_count": 8,
   "id": "e5e6b7fd-f2b5-41a6-80db-bc479afc07c5",
   "metadata": {},
   "outputs": [
    {
     "name": "stdout",
     "output_type": "stream",
     "text": [
      "Lal mani\n",
      "Grandfather name : Lal mani\n",
      "Father name : Rampal\n",
      "Son name : Prince\n"
     ]
    }
   ],
   "source": [
    "# Python program to demonstrate\n",
    "# multilevel inheritance\n",
    " \n",
    "# Base class\n",
    " \n",
    "class Grandfather:\n",
    " \n",
    "    def __init__(self, grandfathername):\n",
    "        self.grandfathername = grandfathername\n",
    " \n",
    "# Intermediate class\n",
    " \n",
    "class Father(Grandfather):\n",
    "    def __init__(self, fathername, grandfathername):\n",
    "        self.fathername = fathername\n",
    " \n",
    "        # invoking constructor of Grandfather class\n",
    "        Grandfather.__init__(self, grandfathername)\n",
    " \n",
    "# Derived class\n",
    " \n",
    "class Son(Father):\n",
    "    def __init__(self, sonname, fathername, grandfathername):\n",
    "        self.sonname = sonname\n",
    " \n",
    "        # invoking constructor of Father class\n",
    "        Father.__init__(self, fathername, grandfathername)\n",
    " \n",
    "    def print_name(self):\n",
    "        print('Grandfather name :', self.grandfathername)\n",
    "        print(\"Father name :\", self.fathername)\n",
    "        print(\"Son name :\", self.sonname)\n",
    "s1 = Son('Prince', 'Rampal', 'Lal mani')\n",
    "print(s1.grandfathername)\n",
    "s1.print_name()"
   ]
  },
  {
   "cell_type": "raw",
   "id": "07119402-b4f8-4961-8a09-c182b88c4ee2",
   "metadata": {},
   "source": [
    "4. HIERARCHICAL INHERITANCE:\n",
    "When more than one derived class are created from a single base this type of inheritance is called hierarchical inheritance. In this program, we have a parent (base) class and two child (derived) classes."
   ]
  },
  {
   "cell_type": "code",
   "execution_count": 9,
   "id": "42e61756-9480-4f21-b21d-caa88787d219",
   "metadata": {},
   "outputs": [
    {
     "name": "stdout",
     "output_type": "stream",
     "text": [
      "This function is in parent class.\n",
      "This function is in child 1.\n",
      "This function is in parent class.\n",
      "This function is in child 2.\n"
     ]
    }
   ],
   "source": [
    "# Python program to demonstrate\n",
    "# Hierarchical inheritance\n",
    " \n",
    "    \n",
    "# Base class\n",
    "class Parent:\n",
    "    def func1(self):\n",
    "        print(\"This function is in parent class.\")\n",
    "\n",
    "        \n",
    "# Derived class1\n",
    " \n",
    "class Child1(Parent):\n",
    "    def func2(self):\n",
    "        print(\"This function is in child 1.\")\n",
    "\n",
    "        \n",
    "# Derivied class2\n",
    " \n",
    "class Child2(Parent):\n",
    "    def func3(self):\n",
    "        print(\"This function is in child 2.\")\n",
    " \n",
    " \n",
    "# Driver's code\n",
    "object1 = Child1()\n",
    "object2 = Child2()\n",
    "object1.func1()\n",
    "object1.func2()\n",
    "object2.func1()\n",
    "object2.func3()"
   ]
  },
  {
   "cell_type": "raw",
   "id": "4a20f6d2-0841-4fa5-96fa-5f61395f1e8c",
   "metadata": {},
   "source": [
    "5. HYBRID INHERITANCE:\n",
    "Inheritance consisting of multiple types of inheritance is called hybrid inheritance."
   ]
  },
  {
   "cell_type": "code",
   "execution_count": 10,
   "id": "9eab730a-6274-44ff-b068-cbc8faeea6ae",
   "metadata": {},
   "outputs": [
    {
     "name": "stdout",
     "output_type": "stream",
     "text": [
      "This function is in school.\n",
      "This function is in student 1. \n"
     ]
    }
   ],
   "source": [
    "# Python program to demonstrate\n",
    "# hybrid inheritance\n",
    " \n",
    "class School:\n",
    "    def func1(self):\n",
    "        print(\"This function is in school.\")\n",
    " \n",
    " \n",
    "class Student1(School):\n",
    "    def func2(self):\n",
    "        print(\"This function is in student 1. \")\n",
    " \n",
    " \n",
    "class Student2(School):\n",
    "    def func3(self):\n",
    "        print(\"This function is in student 2.\")\n",
    " \n",
    " \n",
    "class Student3(Student1, School):\n",
    "    def func4(self):\n",
    "        print(\"This function is in student 3.\")\n",
    " \n",
    " \n",
    "# Driver's code\n",
    "object = Student3()\n",
    "object.func1()\n",
    "object.func2()"
   ]
  },
  {
   "cell_type": "code",
   "execution_count": null,
   "id": "662a1f0f-47ee-487c-aa8e-8f14ccb050ea",
   "metadata": {},
   "outputs": [],
   "source": []
  }
 ],
 "metadata": {
  "kernelspec": {
   "display_name": "Python 3 (ipykernel)",
   "language": "python",
   "name": "python3"
  },
  "language_info": {
   "codemirror_mode": {
    "name": "ipython",
    "version": 3
   },
   "file_extension": ".py",
   "mimetype": "text/x-python",
   "name": "python",
   "nbconvert_exporter": "python",
   "pygments_lexer": "ipython3",
   "version": "3.10.8"
  }
 },
 "nbformat": 4,
 "nbformat_minor": 5
}
